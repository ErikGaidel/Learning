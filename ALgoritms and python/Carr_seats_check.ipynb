{
  "nbformat": 4,
  "nbformat_minor": 0,
  "metadata": {
    "colab": {
      "name": "Carr_seats_check.ipynb",
      "provenance": [],
      "collapsed_sections": []
    },
    "kernelspec": {
      "name": "python3",
      "display_name": "Python 3"
    },
    "language_info": {
      "name": "python"
    }
  },
  "cells": [
    {
      "cell_type": "code",
      "source": [
        "import numpy as np\n",
        "import math\n",
        "\n",
        "\n",
        "def out_func(ans:np.ndarray):\n",
        "    \"\"\"\n",
        "    функция вывода в файл ответа\n",
        "    input:\n",
        "    ans - массив с ответами о возможности восстановления\n",
        "    return: None\n",
        "    функция ничего не возращает\n",
        "    \"\"\"\n",
        "    np.savetxt(\"output.txt\", ans, fmt=\"%d\", delimiter=\" \")\n",
        "\n",
        "\n",
        "def check_line_seats(line:list, lim:int):\n",
        "    \"\"\"\n",
        "    \n",
        "    \"\"\"\n",
        "    seat = 0\n",
        "\n",
        "    for subl in line:\n",
        "        L = min(lim,len(subl))\n",
        "        IT = math.ceil(len(subl)/L)\n",
        "        for it in range(IT):\n",
        "            nfs = 0\n",
        "            for s in range(it,L+it):\n",
        "                if subl[s] == \"X\":\n",
        "                    if nfs == 0:\n",
        "                        nfs += 1\n",
        "                    else:\n",
        "                        return -1\n",
        "            if nfs == 0:\n",
        "                seat += 1\n",
        "\n",
        "    return seat\n",
        "\n",
        "\n",
        "def check_vag_seats(vag_seq:list, k:int):\n",
        "    \"\"\"\n",
        "    \n",
        "    \"\"\"\n",
        "    seats = np.zeros(k)\n",
        "    for line in vag_seq:\n",
        "        if line.pop(0) == \"#\":\n",
        "            seats = seats + ones\n",
        "        for i in range(1, k + 1):\n",
        "            seat = check_line_seats(line, i)\n",
        "            if seat == -1:\n",
        "                for j in range(i,k):\n",
        "                    seats[j] = -1\n",
        "                break\n",
        "            else:\n",
        "                seats[i-1] += seat\n",
        "    return seats\n",
        "\n",
        "\n",
        "vagon_seq = [] # список для считывания рядов в вагонах\n",
        "k = 6\n",
        "ones = np.ones(k)\n",
        "\n",
        "# считываем наши данные\n",
        "with open(\"input.txt\") as inp_file:\n",
        "    n = int(inp_file.readline()) # количество вагонов на проверку\n",
        "    for _ in range(n):\n",
        "        line_seq = []\n",
        "        line_seq.append(inp_file.readline().replace(\"\\n\",\"\").split(\"..\"))\n",
        "        inp_file.readline()\n",
        "        line_seq.append(inp_file.readline().replace(\"\\n\",\"\").split(\"..\"))\n",
        "        vagon_seq.append(line_seq)\n",
        "\n",
        "ans_seq = np.zeros((n,k))\n",
        "\n",
        "for i in range(n):\n",
        "    ans = check_vag_seats(vagon_seq[i], k)\n",
        "    ans_seq[i] = ans\n",
        "\n",
        "out_func(ans_seq)\n"
      ],
      "metadata": {
        "colab": {
          "base_uri": "https://localhost:8080/"
        },
        "id": "LjtDKSjTWvHH",
        "outputId": "b411ff63-d2ea-4d15-aac7-39f608eb5836"
      },
      "execution_count": 44,
      "outputs": [
        {
          "output_type": "stream",
          "name": "stdout",
          "text": [
            "[[44. 24. 16. 16. 16. 10.]\n",
            " [33. 10.  2. -1. -1. -1.]\n",
            " [18.  2. -1. -1. -1. -1.]]\n"
          ]
        }
      ]
    },
    {
      "cell_type": "code",
      "source": [
        ""
      ],
      "metadata": {
        "id": "5GcnT6dYZjm_"
      },
      "execution_count": null,
      "outputs": []
    }
  ]
}