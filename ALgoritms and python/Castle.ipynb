{
  "nbformat": 4,
  "nbformat_minor": 0,
  "metadata": {
    "colab": {
      "name": "Castle.ipynb",
      "provenance": []
    },
    "kernelspec": {
      "name": "python3",
      "display_name": "Python 3"
    },
    "language_info": {
      "name": "python"
    }
  },
  "cells": [
    {
      "cell_type": "markdown",
      "source": [
        "За многие годы заточения узник замка Иф проделал в стене прямоугольное отверстие размером D × E. Замок Иф сложен из кирпичей, размером A × B × C. Определите, сможет ли узник выбрасывать кирпичи в море через это отверстие, если стороны кирпича должны быть параллельны сторонам отверстия.\n",
        "\n",
        "Формат ввода\n",
        "\n",
        "Программа получает на вход числа A, B, C, D, E.\n",
        "\n",
        "Формат вывода\n",
        "\n",
        "Программа должна вывести слово YES или NO."
      ],
      "metadata": {
        "id": "XkZUoRsY2cht"
      }
    },
    {
      "cell_type": "code",
      "source": [
        "A, B, C = int(input()), int(input()), int(input())\n",
        "D, E = int(input()), int(input())\n",
        "hole_mx = max(D,E)\n",
        "hole_mn = min(D,E)\n",
        "block_mn = min(A,B,C)\n",
        "block_av = A + B + C - block_mn - max(A,B,C)\n",
        "if block_mn <= hole_mn and block_av <= hole_mx:\n",
        "    print(\"YES\")\n",
        "else:\n",
        "    print(\"NO\")\n",
        "    "
      ],
      "metadata": {
        "colab": {
          "base_uri": "https://localhost:8080/"
        },
        "id": "PbZPUEAA2aw_",
        "outputId": "3e4b4586-fa80-4a9e-85db-be2bea7d8ef8"
      },
      "execution_count": 4,
      "outputs": [
        {
          "output_type": "stream",
          "name": "stdout",
          "text": [
            "2\n",
            "2\n",
            "2\n",
            "1\n",
            "1\n",
            "NO\n"
          ]
        }
      ]
    },
    {
      "cell_type": "code",
      "source": [
        ""
      ],
      "metadata": {
        "id": "5CeCRjyf-qL3"
      },
      "execution_count": 3,
      "outputs": []
    }
  ]
}