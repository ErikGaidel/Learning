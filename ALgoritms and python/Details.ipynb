{
  "nbformat": 4,
  "nbformat_minor": 0,
  "metadata": {
    "colab": {
      "name": "Details.ipynb",
      "provenance": [],
      "collapsed_sections": []
    },
    "kernelspec": {
      "name": "python3",
      "display_name": "Python 3"
    },
    "language_info": {
      "name": "python"
    }
  },
  "cells": [
    {
      "cell_type": "markdown",
      "source": [
        "Имеется N кг металлического сплава. Из него изготавливают заготовки массой K кг каждая. После этого из каждой заготовки вытачиваются детали массой M кг каждая (из каждой заготовки вытачивают максимально возможное количество деталей). Если от заготовок после этого что-то остается, то этот материал возвращают к началу производственного цикла и сплавляют с тем, что осталось при изготовлении заготовок. Если того сплава, который получился, достаточно для изготовления хотя бы одной заготовки, то из него снова изготавливают заготовки, из них – детали и т.д. Напишите программу, которая вычислит, какое количество деталей может быть получено по этой технологии из имеющихся исходно N кг сплава.\n",
        "\n",
        "Формат ввода\n",
        "\n",
        "Вводятся N, K, M. Все числа натуральные и не превосходят 200.\n",
        "\n",
        "Формат вывода\n",
        "\n",
        "Выведите одно число — количество деталей, которое может получиться по такой технологии."
      ],
      "metadata": {
        "id": "JdjSYrx8DGw_"
      }
    },
    {
      "cell_type": "code",
      "execution_count": 29,
      "metadata": {
        "colab": {
          "base_uri": "https://localhost:8080/"
        },
        "id": "skaDCL2UDFon",
        "outputId": "3a86b5cd-fba3-4fad-b7be-9de979e127cc"
      },
      "outputs": [
        {
          "output_type": "stream",
          "name": "stdout",
          "text": [
            "10 20 10\n",
            "0\n"
          ]
        }
      ],
      "source": [
        "def product(N:int, K:int, M:int, det:int):\n",
        "    if K < M:\n",
        "        return 0, 0\n",
        "    zag = N // K\n",
        "    ost_met = N % K + zag * (K % M)\n",
        "    det += zag * (K // M) \n",
        "    return det, ost_met\n",
        "\n",
        "N, K, M = map(int, input().split())\n",
        "ost_met = N\n",
        "det = 0\n",
        "while ost_met >= K:\n",
        "    det, ost_met = product(ost_met, K, M, det)\n",
        "print(det)"
      ]
    },
    {
      "cell_type": "code",
      "source": [
        "5%2"
      ],
      "metadata": {
        "colab": {
          "base_uri": "https://localhost:8080/"
        },
        "id": "0K_IQW_wFm0g",
        "outputId": "ec66f489-5042-48d0-cef3-f9f2978a45f5"
      },
      "execution_count": 24,
      "outputs": [
        {
          "output_type": "execute_result",
          "data": {
            "text/plain": [
              "1"
            ]
          },
          "metadata": {},
          "execution_count": 24
        }
      ]
    },
    {
      "cell_type": "code",
      "source": [
        ""
      ],
      "metadata": {
        "id": "uh_bNoolKTl9"
      },
      "execution_count": null,
      "outputs": []
    }
  ]
}