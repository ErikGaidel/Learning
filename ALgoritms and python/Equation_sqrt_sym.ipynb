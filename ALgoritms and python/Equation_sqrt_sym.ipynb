{
  "nbformat": 4,
  "nbformat_minor": 0,
  "metadata": {
    "colab": {
      "name": "Equation_sqrt_sym.ipynb",
      "provenance": []
    },
    "kernelspec": {
      "name": "python3",
      "display_name": "Python 3"
    },
    "language_info": {
      "name": "python"
    }
  },
  "cells": [
    {
      "cell_type": "markdown",
      "source": [
        "Решите в целых числах уравнение:\n",
        "\n",
        "sqrt(ax+b) = c,\n",
        "\n",
        "a, b, c – данные целые числа: найдите все решения или сообщите, что решений в целых числах нет.\n",
        "\n",
        "Формат ввода\n",
        "\n",
        "Вводятся три числа a, b и c по одному в строке.\n",
        "\n",
        "Формат вывода\n",
        "\n",
        "Программа должна вывести все решения уравнения в порядке возрастания, либо NO SOLUTION (заглавными буквами), если решений нет. Если решений бесконечно много, вывести MANY SOLUTIONS."
      ],
      "metadata": {
        "id": "67wVwEomaJOJ"
      }
    },
    {
      "cell_type": "code",
      "execution_count": 14,
      "metadata": {
        "colab": {
          "base_uri": "https://localhost:8080/"
        },
        "id": "peMYf_OKaEqU",
        "outputId": "da182b34-2cf0-4fd5-cda5-9a4f6faf1022"
      },
      "outputs": [
        {
          "output_type": "stream",
          "name": "stdout",
          "text": [
            "0\n",
            "4\n",
            "3\n",
            "MANY SOLUTIONS\n"
          ]
        }
      ],
      "source": [
        "import sympy as sp\n",
        "\n",
        "\n",
        "def solve_sqrt_eq(a:int, b:int, c:int):\n",
        "    if a == 0:\n",
        "        return \"MANY SOLUTIONS\"\n",
        "    x = sp.Symbol('x')\n",
        "    f = sp.sqrt(a*x + b) - c\n",
        "    ans = sp.solve(f,x)\n",
        "    if not ans:\n",
        "        return \"NO SOLUTION\"\n",
        "    ans.sort()\n",
        "    return ans\n",
        "\n",
        "\n",
        "a, b, c = int(input()), int(input()), int(input())\n",
        "ans = solve_sqrt_eq(a,b,c)\n",
        "if type(ans) == str:\n",
        "    print(ans)\n",
        "else:\n",
        "    print(*ans)"
      ]
    },
    {
      "cell_type": "markdown",
      "source": [
        "1\n",
        "0\n",
        "0\n",
        "\n",
        "0"
      ],
      "metadata": {
        "id": "6BVu7-ILaNTa"
      }
    },
    {
      "cell_type": "markdown",
      "source": [
        "1\n",
        "2\n",
        "3\n",
        "\n",
        "7"
      ],
      "metadata": {
        "id": "oWUC9C1zaSgg"
      }
    },
    {
      "cell_type": "markdown",
      "source": [
        "1\n",
        "2\n",
        "-3\n",
        "\n",
        "NO SOLUTION"
      ],
      "metadata": {
        "id": "2TsSdpRwaSOJ"
      }
    },
    {
      "cell_type": "code",
      "source": [
        ""
      ],
      "metadata": {
        "id": "9sVRISwkaREe"
      },
      "execution_count": null,
      "outputs": []
    }
  ]
}