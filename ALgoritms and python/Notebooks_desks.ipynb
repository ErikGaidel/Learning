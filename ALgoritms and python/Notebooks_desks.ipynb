{
  "nbformat": 4,
  "nbformat_minor": 0,
  "metadata": {
    "colab": {
      "name": "Notebooks_desks.ipynb",
      "provenance": []
    },
    "kernelspec": {
      "name": "python3",
      "display_name": "Python 3"
    },
    "language_info": {
      "name": "python"
    }
  },
  "cells": [
    {
      "cell_type": "markdown",
      "source": [
        "В школе решили на один прямоугольный стол поставить два прямоугольных ноутбука. Ноутбуки нужно поставить так, чтобы их стороны были параллельны сторонам стола. Определите, какие размеры должен иметь стол, чтобы оба ноутбука на него поместились, и площадь стола была минимальна.\n",
        "\n",
        "Формат ввода\n",
        "\n",
        "Вводится четыре натуральных числа, первые два задают размеры одного ноутбука, а следующие два — размеры второго. Числа не превышают 1000.\n",
        "\n",
        "Формат вывода\n",
        "\n",
        "Выведите два числа — размеры стола. Если возможно несколько ответов, выведите любой из них (но только один)."
      ],
      "metadata": {
        "id": "BXKTMidGNn9t"
      }
    },
    {
      "cell_type": "code",
      "execution_count": null,
      "metadata": {
        "colab": {
          "base_uri": "https://localhost:8080/"
        },
        "id": "MCDf430vNk60",
        "outputId": "658d0dda-dc50-4924-ea77-edbaa9107ec1"
      },
      "outputs": [
        {
          "output_type": "stream",
          "name": "stdout",
          "text": [
            "5 7 3 2\n",
            "5 9\n"
          ]
        }
      ],
      "source": [
        "a1, b1, a2, b2 = map(int, input().split())\n",
        "S = a1*b1 + a2*b2\n",
        "s0 = max(min(a1,b1), min(a2,b2))\n",
        "s1 = min(a1,b1) + min(a2,b2)\n",
        "if s0 > s1:\n",
        "    s2 = max(max(a1,b1), max(a2,b2))\n",
        "    print(s1, s2)\n",
        "else:\n",
        "    if s0 == min(a1,b1):\n",
        "        s2 = max(a1,b1) + min(a2,b2)\n",
        "    else: \n",
        "        s2 = max(a2,b2) + min(a1,b1)\n",
        "    if s0 * s2 >= S:\n",
        "        print(s0,s2)\n",
        "    else:\n",
        "        s2 = max(a2,b2) + max(a1,b1)\n",
        "        print(s0,s2)"
      ]
    },
    {
      "cell_type": "code",
      "source": [
        ""
      ],
      "metadata": {
        "id": "AsWvIFVfOkch"
      },
      "execution_count": null,
      "outputs": []
    }
  ]
}