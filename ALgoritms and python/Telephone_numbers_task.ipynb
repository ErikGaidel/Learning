{
  "nbformat": 4,
  "nbformat_minor": 0,
  "metadata": {
    "colab": {
      "name": "Telephone_numbers_task.ipynb",
      "provenance": [],
      "collapsed_sections": []
    },
    "kernelspec": {
      "name": "python3",
      "display_name": "Python 3"
    },
    "language_info": {
      "name": "python"
    }
  },
  "cells": [
    {
      "cell_type": "markdown",
      "source": [
        "Телефонные номера в адресной книге мобильного телефона имеют один из следующих форматов: +7<код><номер>, 8<код><номер>, <номер>, где <номер> — это семь цифр, а <код> — это три цифры или три цифры в круглых скобках. Если код не указан, то считается, что он равен 495. Кроме того, в записи телефонного номера может стоять знак “-” между любыми двумя цифрами (см. пример). На данный момент в адресной книге телефона Васи записано всего три телефонных номера, и он хочет записать туда еще один. Но он не может понять, не записан ли уже такой номер в телефонной книге. Помогите ему! Два телефонных номера совпадают, если у них равны коды и равны номера. Например, +7(916)0123456 и 89160123456 — это один и тот же номер.\n",
        "\n",
        "Формат ввода\n",
        "\n",
        "В первой строке входных данных записан номер телефона, который Вася хочет добавить в адресную книгу своего телефона. В следующих трех строках записаны три номера телефонов, которые уже находятся в адресной книге телефона Васи. Гарантируется, что каждая из записей соответствует одному из трех приведенных в условии форматов.\n",
        "\n",
        "Формат вывода\n",
        "\n",
        "Для каждого телефонного номера в адресной книге выведите YES (заглавными буквами), если он совпадает с тем телефонным номером, который Вася хочет добавить в адресную книгу или NO (заглавными буквами) в противном случае."
      ],
      "metadata": {
        "id": "LX7carVkUHkK"
      }
    },
    {
      "cell_type": "code",
      "execution_count": 8,
      "metadata": {
        "colab": {
          "base_uri": "https://localhost:8080/"
        },
        "id": "Zl9lLfi3TSIG",
        "outputId": "b406f7b8-73de-41a1-8287-ad7689302527"
      },
      "outputs": [
        {
          "output_type": "stream",
          "name": "stdout",
          "text": [
            "+78047952807\n",
            "+78047952807\n",
            "+76147514928\n",
            "88047952807\n",
            "YES\n",
            "NO\n",
            "YES\n"
          ]
        }
      ],
      "source": [
        "def conv_teleph_numb(numb:str):\n",
        "    numb = numb.replace(\"-\",\"\")\n",
        "    numb = numb.replace(\"+\",\"\")\n",
        "    numb = numb.replace(\"(\",\"\")\n",
        "    numb = numb.replace(\")\",\"\")\n",
        "    if len(numb) == 7:\n",
        "        numb = \"8495\" + numb\n",
        "    return numb\n",
        "\n",
        "\n",
        "new_numb = conv_teleph_numb(input())\n",
        "ans = []\n",
        "for _ in range(3):\n",
        "    t_numb = conv_teleph_numb(input())\n",
        "    if len(new_numb) == len(t_numb):\n",
        "        if new_numb[1:] == t_numb[1:]:\n",
        "            ans.append(\"YES\")\n",
        "        else:\n",
        "            ans.append(\"NO\")\n",
        "    else:\n",
        "        ans.append(\"NO\")\n",
        "\n",
        "print(*ans, sep=\"\\n\")"
      ]
    },
    {
      "cell_type": "markdown",
      "source": [
        "8(495)430-23-97\n",
        "\n",
        "+7-4-9-5-43-023-97\n",
        "\n",
        "4-3-0-2-3-9-7\n",
        "\n",
        "8-495-430\n",
        "\n",
        "YES\n",
        "YES\n",
        "NO\n"
      ],
      "metadata": {
        "id": "RJEuM0FKXgEH"
      }
    },
    {
      "cell_type": "markdown",
      "source": [
        "86406361642\n",
        "\n",
        "83341994118\n",
        "\n",
        "86406361642\n",
        "\n",
        "83341994118\n",
        "\n",
        "NO\n",
        "YES\n",
        "NO\n"
      ],
      "metadata": {
        "id": "26TMDHrmYFnr"
      }
    },
    {
      "cell_type": "markdown",
      "source": [
        "+78047952807\n",
        "\n",
        "+78047952807\n",
        "\n",
        "+76147514928\n",
        "\n",
        "88047952807\n",
        "\n",
        "YES\n",
        "NO\n",
        "YES\n",
        "\n"
      ],
      "metadata": {
        "id": "INnGnBnMYJlS"
      }
    },
    {
      "cell_type": "code",
      "source": [
        ""
      ],
      "metadata": {
        "id": "Vxa-UYDRYgnF"
      },
      "execution_count": null,
      "outputs": []
    }
  ]
}