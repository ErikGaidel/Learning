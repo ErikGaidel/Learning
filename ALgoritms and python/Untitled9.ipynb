{
  "nbformat": 4,
  "nbformat_minor": 0,
  "metadata": {
    "colab": {
      "name": "Untitled9.ipynb",
      "provenance": [],
      "collapsed_sections": []
    },
    "kernelspec": {
      "name": "python3",
      "display_name": "Python 3"
    },
    "language_info": {
      "name": "python"
    }
  },
  "cells": [
    {
      "cell_type": "code",
      "execution_count": 5,
      "metadata": {
        "colab": {
          "base_uri": "https://localhost:8080/"
        },
        "id": "bU89jS4p2RkH",
        "outputId": "e5d6f163-2ca8-4ce1-a15d-5d02458b52a7"
      },
      "outputs": [
        {
          "output_type": "stream",
          "name": "stdout",
          "text": [
            "2 3\n",
            "2 3\n",
            "0 5\n",
            "0 5\n",
            "7 10\n",
            "7 10\n",
            "1 6 11\n",
            "['1', '6', '11']\n",
            "0 0 0 "
          ]
        }
      ],
      "source": [
        "def bin_search(mass:list, k:int, p:int):\n",
        "    N = len(mass)\n",
        "    l, r = 0, N-1\n",
        "    while l<=r:\n",
        "        m =(l+r)//2\n",
        "        if mass[m]== k:\n",
        "            if p:\n",
        "                while mass[m] == k:\n",
        "                    m-=1\n",
        "            else:\n",
        "                while mass[m] == k:\n",
        "                    m+=1\n",
        "            return m\n",
        "        if mass[m]>k:\n",
        "            r = m-1\n",
        "        else:\n",
        "            l = m+1\n",
        "    return -1\n",
        "\n",
        "\n",
        "def partition(A:list, l:int, r:int):\n",
        "    x = A[l]\n",
        "    j = l\n",
        "    for i in range(l+1,r):\n",
        "        if A[i]<=x:\n",
        "            j+=1\n",
        "            A[i], A[j] = A[j], A[i]\n",
        "    A[l], A[j] = A[j], A[l]\n",
        "    return j\n",
        "\n",
        "\n",
        "def quick_sort(A:list,l:int,r:int):\n",
        "    while l<r:\n",
        "        m = partition(A,l,r)\n",
        "        return quick_sort(A, l, m - 1)\n",
        "        l = m + 1\n",
        "    return A\n",
        "\n",
        "def main():\n",
        "    n, m = map(int,input().split())\n",
        "    interv_b, interv_e = [], []\n",
        "    for _ in range(n):\n",
        "        interv = input()\n",
        "        interv_b.append(int(interv.split()[0]))\n",
        "        interv_e.append(int(interv.split()[1]))\n",
        "\n",
        "    dots = list(map(int,input().split()))\n",
        "\n",
        "    interv_b=quick_sort(interv_b,0,n)\n",
        "    interv_e=quick_sort(interv_e,0,n)\n",
        "    nb,ne = len(interv_b), len(interv_e)\n",
        "   \n",
        "    for dot in dots:\n",
        "        pos_b = bin_search(interv_b,dot,0)\n",
        "        pos_e = bin_search(interv_e,dot,1)\n",
        "        print(pos_b, pos_e)\n",
        "        count = pos_b - pos_e\n",
        "        print(count, end=\" \")\n",
        "        \n",
        "    \n",
        "if __name__ == \"__main__\":\n",
        "    main()\n",
        "       "
      ]
    }
  ]
}