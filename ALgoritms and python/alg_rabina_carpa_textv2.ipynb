{
  "nbformat": 4,
  "nbformat_minor": 0,
  "metadata": {
    "colab": {
      "name": "alg_rabina_carpa_textv2.ipynb",
      "provenance": [],
      "collapsed_sections": []
    },
    "kernelspec": {
      "name": "python3",
      "display_name": "Python 3"
    },
    "language_info": {
      "name": "python"
    }
  },
  "cells": [
    {
      "cell_type": "code",
      "execution_count": 19,
      "metadata": {
        "colab": {
          "base_uri": "https://localhost:8080/"
        },
        "id": "bn7XAkh9min0",
        "outputId": "2c4aa93f-ecf8-4369-a62b-ef3cd4af8405"
      },
      "outputs": [
        {
          "output_type": "stream",
          "name": "stdout",
          "text": [
            "aba\n",
            "abacaba\n",
            "bac\n",
            "294 292\n",
            "aca\n",
            "293 292\n",
            "cab\n",
            "294 292\n",
            "0\n"
          ]
        }
      ],
      "source": [
        "#исходные строки, сразу переводим коды, с учетом ord('A') == 65\n",
        "pattern = [ord(s) - 65 for s in input()]\n",
        "text = [ord(s) - 65 for s in input()]\n",
        "#константы\n",
        "m, n = len(pattern), len(text)\n",
        "x, p = 59, 67 # простые\n",
        "#степени x от 1 до m-1 по модулю p (чтобы не пересчитывать)\n",
        "x_pows = [1]\n",
        "for i in range(1, m):\n",
        "    x_pows.append(x_pows[-1] * x % p)\n",
        "#хеш паттерна в обратную сторону (тогда вывод идет в прямом порядке):\n",
        "#pattern[0] * x ^ (m-1)  + pattern[1] * x ^ (m-2) + ... pattern[m-1]\n",
        "pattern_hash = sum([pattern[i] * x_pows[m-i-1] for i in range(m)]) % p\n",
        "#последние мономы в хеше: text[i] * x ^ (m-1)\n",
        "last_monoms = [text[i] * x_pows[-1] % p for i in range(n - m + 1)]\n",
        "#хеш первой подстроки, тоже в обратную сторону\n",
        "cur_hash = (last_monoms[0] + sum([text[i] * x_pows[m-i-1] for i in range(1, m)])) % p\n",
        "#цикл в прямом порядке\n",
        "for i in range(n - m):\n",
        "    #проверяем совпадение хеша и подстроки\n",
        "    if pattern_hash == cur_hash and pattern == text[i:(i+m)]:\n",
        "        print(i, end = ' ')\n",
        "    #пересчет хеша (в начале выталкиваем макс. степень, в конце прибавляем 0-вую\n",
        "    cur_hash = ((cur_hash - last_monoms[i]) * x + text[i + m]) % p\n",
        "#последняя подстрока, если добавить в цикл, то в пересчете хеша выйдем за границы массива\n",
        "if pattern_hash == cur_hash and pattern == text[(n-m):]:\n",
        "    print(n - m, end = ' ')"
      ]
    }
  ]
}