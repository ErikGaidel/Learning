{
  "nbformat": 4,
  "nbformat_minor": 0,
  "metadata": {
    "colab": {
      "name": "triangle_inequality_task.ipynb",
      "provenance": []
    },
    "kernelspec": {
      "name": "python3",
      "display_name": "Python 3"
    },
    "language_info": {
      "name": "python"
    }
  },
  "cells": [
    {
      "cell_type": "markdown",
      "source": [
        "Даны три натуральных числа. Возможно ли построить треугольник с такими сторонами. Если это возможно, выведите строку YES, иначе выведите строку NO.\n",
        "\n",
        "Треугольник — это три точки, не лежащие на одной прямой.\n",
        "\n",
        "Формат ввода\n",
        "\n",
        "Вводятся три натуральных числа.\n",
        "\n",
        "Формат вывода\n",
        "\n",
        "Выведите ответ на задачу."
      ],
      "metadata": {
        "id": "i-kOJVl1R1-j"
      }
    },
    {
      "cell_type": "code",
      "execution_count": 3,
      "metadata": {
        "colab": {
          "base_uri": "https://localhost:8080/"
        },
        "id": "SD6gXztFRnmO",
        "outputId": "b023c2e2-3728-4aa8-9e5d-37c57389018c"
      },
      "outputs": [
        {
          "output_type": "stream",
          "name": "stdout",
          "text": [
            "4\n",
            "5\n",
            "3\n",
            "YES\n"
          ]
        }
      ],
      "source": [
        "a , b, c = int(input()), int(input()), int(input())\n",
        "if a < b + c and c < b + a and b < a + c:     \n",
        "    print('YES')\n",
        "else:\n",
        "    print('NO')"
      ]
    },
    {
      "cell_type": "code",
      "source": [
        ""
      ],
      "metadata": {
        "id": "6AZu5jkZSkDd"
      },
      "execution_count": null,
      "outputs": []
    }
  ]
}