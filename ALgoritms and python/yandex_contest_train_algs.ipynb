{
  "nbformat": 4,
  "nbformat_minor": 0,
  "metadata": {
    "colab": {
      "name": "yandex_contest_train_algs.ipynb",
      "provenance": []
    },
    "kernelspec": {
      "name": "python3",
      "display_name": "Python 3"
    },
    "language_info": {
      "name": "python"
    }
  },
  "cells": [
    {
      "cell_type": "markdown",
      "source": [
        "task 1"
      ],
      "metadata": {
        "id": "SVQFeYvV5g1K"
      }
    },
    {
      "cell_type": "markdown",
      "source": [
        "B. Последовательно идущие единицы\n",
        "Ограничение времени\t1 секунда\n",
        "Ограничение памяти\t64Mb\n",
        "Ввод\tстандартный ввод или input.txt\n",
        "Вывод\tстандартный вывод или output.txt\n",
        "Требуется найти в бинарном векторе самую длинную последовательность единиц и вывести её длину.\n",
        "\n",
        "Желательно получить решение, работающее за линейное время и при этом проходящее по входному массиву только один раз.\n",
        "\n",
        "Формат ввода\n",
        "Первая строка входного файла содержит одно число n, n ≤ 10000. Каждая из следующих n строк содержит ровно одно число — очередной элемент массива.\n",
        "\n",
        "Формат вывода\n",
        "Выходной файл должен содержать единственное число — длину самой длинной последовательности единиц во входном массиве.\n",
        "\n",
        "Пример\n",
        "Ввод\tВывод\n",
        "5\n",
        "1\n",
        "0\n",
        "1\n",
        "0\n",
        "1\n",
        "1\n"
      ],
      "metadata": {
        "id": "Qdk_HnYz7fsu"
      }
    },
    {
      "cell_type": "code",
      "execution_count": null,
      "metadata": {
        "id": "L7mmgp4t7mnT"
      },
      "outputs": [],
      "source": [
        "def max_seq_of_ones(bin_seq: list) -> int:\n",
        "    count, top = 0, 0\n",
        "    for d in bin_seq:\n",
        "        if d:\n",
        "            count += 1\n",
        "        elif count:\n",
        "            top = max(top, count)\n",
        "            count = 0\n",
        "    return max(top, count)\n",
        "\n",
        "\n",
        "def main():\n",
        "    n = int(input())\n",
        "    bin_seq = []\n",
        "    for _ in range(n):\n",
        "       bin_seq.append(int(input()))\n",
        "    top = max_seq_of_ones(bin_seq)\n",
        "    print(top)\n",
        "\n",
        "\n",
        "def test():\n",
        "    assert max_seq_of_ones([]) == 0\n",
        "    assert max_seq_of_ones([1,0,1,0,1]) == 1\n",
        "    assert max_seq_of_ones([1,1,1,1,1]) == 5\n",
        "    assert max_seq_of_ones([0,0,0,0,0,0]) == 0\n",
        "\n",
        "if __name__ == \"__main__\":\n",
        "    main()\n",
        "\n"
      ]
    },
    {
      "cell_type": "markdown",
      "source": [
        "task 2"
      ],
      "metadata": {
        "id": "wkvqTi2Z5feT"
      }
    },
    {
      "cell_type": "markdown",
      "source": [
        "C. Удаление дубликатов\n",
        "Compiler\tTime limit\tMemory limit\tInput\tOutput\n",
        "All compilers\t1 секунда\t10Mb\tstdin or input.txt\tstdout or output.txt\n",
        "Node.js 14.15.5\t1 секунда\t20Mb\n",
        "Oracle Java 7\t1 секунда\t40Mb\n",
        "Kotlin 1.4.30 (JRE 11)\t1.5 секунд\t40Mb\n",
        "Oracle Java 8\t1 секунда\t40Mb\n",
        "Scala 2.13.4\t1 секунда\t20Mb\n",
        "OpenJDK Java 15\t1 секунда\t40Mb\n",
        "Kotlin 1.1.50 (JRE 1.8.0)\t1 секунда\t40Mb\n",
        "Kotlin 1.3.50 (JRE 1.8.0)\t1 секунда\t30Mb\n",
        "Kotlin 1.5.32 (JRE 11)\t1.5 секунд\t40Mb\n",
        "Node JS 8.16\t1 секунда\t20Mb\n",
        "Legend\n",
        "Дан упорядоченный по неубыванию массив целых 32-разрядных чисел. Требуется удалить из него все повторения.\n",
        "\n",
        "Желательно получить решение, которое не считывает входной файл целиком в память, т.е., использует лишь константный объем памяти в процессе работы.\n",
        "\n",
        "Input format\n",
        "Первая строка входного файла содержит единственное число n, n ≤ 1000000.\n",
        "\n",
        "На следующих n строк расположены числа — элементы массива, по одному на строку. Числа отсортированы по неубыванию.\n",
        "\n",
        "Output format\n",
        "Выходной файл должен содержать следующие в порядке возрастания уникальные элементы входного массива.\n",
        "\n",
        "Sample 1\n",
        "Input \tOutput \n",
        "5\n",
        "2\n",
        "4\n",
        "8\n",
        "8\n",
        "8\n",
        "2\n",
        "4\n",
        "8\n",
        "Sample 2\n",
        "Input \tOutput \n",
        "5\n",
        "2\n",
        "2\n",
        "2\n",
        "8\n",
        "8\n",
        "2\n",
        "8\n"
      ],
      "metadata": {
        "id": "hqkPSJLe7d4o"
      }
    },
    {
      "cell_type": "code",
      "source": [
        "n = int(input())\n",
        "num = set()\n",
        "for _ in range(n):\n",
        "    num.add(int(input()))\n",
        "num = list(num)\n",
        "num.sort()\n",
        "print(*num, sep=\"\\4n\")"
      ],
      "metadata": {
        "id": "JzMf_43kQDcN"
      },
      "execution_count": null,
      "outputs": []
    },
    {
      "cell_type": "code",
      "source": [
        "n = int(input())\n",
        "num = set()\n",
        "for _ in range(n):\n",
        "    num.add(int(input()))\n",
        "num = list(num)\n",
        "num.sort()\n",
        "with open(\"output.txt\",\"w\") as file_out:\n",
        "    for d in num:\n",
        "        file_out.write(str(d) + \"\\n\")\n"
      ],
      "metadata": {
        "id": "4jfi12d0RJdE"
      },
      "execution_count": null,
      "outputs": []
    },
    {
      "cell_type": "markdown",
      "source": [
        "task 3"
      ],
      "metadata": {
        "id": "h7qJe7KA5Y_w"
      }
    },
    {
      "cell_type": "markdown",
      "source": [
        "D. Генерация скобочных последовательностей\n",
        "Ограничение времени\t1 секунда\n",
        "Ограничение памяти\t20Mb\n",
        "Ввод\tстандартный ввод или input.txt\n",
        "Вывод\tстандартный вывод или output.txt\n",
        "Дано целое число n. Требуется вывести все правильные скобочные последовательности длины 2 ⋅ n, упорядоченные лексикографически (см. https://ru.wikipedia.org/wiki/Лексикографический_порядок).\n",
        "\n",
        "В задаче используются только круглые скобки.\n",
        "\n",
        "Желательно получить решение, которое работает за время, пропорциональное общему количеству правильных скобочных последовательностей в ответе, и при этом использует объём памяти, пропорциональный n.\n",
        "\n",
        "Формат ввода\n",
        "Единственная строка входного файла содержит целое число n, 0 ≤ n ≤ 11\n",
        "\n",
        "Формат вывода\n",
        "Выходной файл содержит сгенерированные правильные скобочные последовательности, упорядоченные лексикографически.\n",
        "\n",
        "Пример 1\n",
        "Ввод\tВывод\n",
        "2\n",
        "(())\n",
        "()()\n",
        "Пример 2\n",
        "Ввод\tВывод\n",
        "3\n",
        "((()))\n",
        "(()())\n",
        "(())()\n",
        "()(())\n",
        "()()()\n"
      ],
      "metadata": {
        "id": "7Jdsy2jN7SD3"
      }
    },
    {
      "cell_type": "code",
      "source": [
        "def gen(file_out , n: int, counter_open: int, counter_close: int, ans: str):\n",
        "    if counter_open + counter_close == 2 * n:\n",
        "        file_out.write(ans + \"\\n\")\n",
        "        return\n",
        "    if counter_open < n:\n",
        "        gen(file_out, n, counter_open + 1, counter_close, ans + '(')\n",
        "    if counter_open > counter_close:\n",
        "        gen(file_out, n, counter_open, counter_close + 1, ans + ')')\n",
        "\n",
        "\n",
        "n = int(input())\n",
        "with open(\"output.txt\", \"w\") as file_out:\n",
        "    gen(file_out,n,0,0,\"\")\n",
        "        \n",
        "    "
      ],
      "metadata": {
        "id": "ZGft-XfXXo4i"
      },
      "execution_count": null,
      "outputs": []
    },
    {
      "cell_type": "markdown",
      "source": [
        "task 4"
      ],
      "metadata": {
        "id": "53haROIU5PwQ"
      }
    },
    {
      "cell_type": "markdown",
      "source": [
        "E. Анаграммы\n",
        "Ограничение времени\t1 секунда\n",
        "Ограничение памяти\t20Mb\n",
        "Ввод\tстандартный ввод или input.txt\n",
        "Вывод\tстандартный вывод или output.txt\n",
        "Даны две строки, состоящие из строчных латинских букв. Требуется определить, являются ли эти строки анаграммами, т. е. отличаются ли они только порядком следования символов.\n",
        "\n",
        "Формат ввода\n",
        "Входной файл содержит две строки строчных латинских символов, каждая не длиннее 100 000 символов. Строки разделяются символом перевода строки.\n",
        "\n",
        "Формат вывода\n",
        "Выходной файл должен содержать единицу, если строки являются анаграммами, и ноль в противном случае.\n",
        "\n",
        "Пример 1\n",
        "Ввод\tВывод\n",
        "qiu\n",
        "iuq\n",
        "1\n",
        "Пример 2\n",
        "Ввод\tВывод\n",
        "zprl\n",
        "zprc\n",
        "0\n"
      ],
      "metadata": {
        "id": "G7puPoqy7Jhj"
      }
    },
    {
      "cell_type": "code",
      "source": [
        "freq = dict()\n",
        "ans, posl = 1, \"\"\n",
        "posl = input()\n",
        "\n",
        "for word in posl:\n",
        "    freq[word] = freq.get(word,0) + 1\n",
        "\n",
        "posl = input()\n",
        "if not freq:\n",
        "    if posl:\n",
        "        ans = 0\n",
        "\n",
        "for word in posl:\n",
        "    if word in freq:\n",
        "        freq[word] -= 1\n",
        "    else:\n",
        "        ans = 0\n",
        "        break\n",
        "\n",
        "for key in freq:\n",
        "    if freq[key] != 0:\n",
        "        ans = 0\n",
        "        break\n",
        "\n",
        "print(ans)\n"
      ],
      "metadata": {
        "id": "SBWYm6Olb_9W"
      },
      "execution_count": null,
      "outputs": []
    },
    {
      "cell_type": "markdown",
      "source": [
        "task 5"
      ],
      "metadata": {
        "id": "QNS6z26T5Mp6"
      }
    },
    {
      "cell_type": "markdown",
      "source": [
        "G. Интересное путешествие\n",
        "\n",
        "Ограничение времени\t1 секунда\n",
        "Ограничение памяти\t64Mb\n",
        "Ввод\tстандартный ввод или input.txt\n",
        "Вывод\tстандартный вывод или output.txt\n",
        "\n",
        "Не секрет, что некоторые программисты очень любят путешествовать. Хорошо всем известный программист Петя тоже очень любит путешествовать, посещать музеи и осматривать достопримечательности других городов.\n",
        "Для перемещений между из города в город он предпочитает использовать машину. При этом он заправляется только на станциях в городах, но не на станциях по пути. Поэтому он очень аккуратно выбирает маршруты, чтобы машина не заглохла в дороге. А ещё Петя очень важный член команды, поэтому он не может себе позволить путешествовать слишком долго. Он решил написать программу, которая поможет ему с выбором очередного путешествия. Но так как сейчас у него слишком много других задач, он попросил вас помочь ему.\n",
        "Расстояние между двумя городами считается как сумма модулей разности по каждой из координат. Дороги есть между всеми парами городов.\n",
        "\n",
        "Формат ввода\n",
        "\n",
        "В первой строке входных данных записано количество городов \n",
        "n\n",
        " (\n",
        "2\n",
        "≤\n",
        "n\n",
        "≤\n",
        "1\n",
        "0\n",
        "0\n",
        "0\n",
        "). В следующих \n",
        "n\n",
        " строках даны два целых числа: координаты каждого города, не превосходящие по модулю миллиарда. Все города пронумерованы числами от 1 до \n",
        "n\n",
        " в порядке записи во входных данных.\n",
        "В следующей строке записано целое положительное число \n",
        "k\n",
        ", не превосходящее двух миллиардов, — максимальное расстояние между городами, которое Петя может преодолеть без дозаправки машины.\n",
        "В последней строке записаны два различных числа — номер города, откуда едет Петя, и номер города, куда он едет.\n",
        "\n",
        "Формат вывода\n",
        "\n",
        "Если существуют пути, удовлетворяющие описанным выше условиям, то выведите минимальное количество дорог, которое нужно проехать, чтобы попасть из начальной точки маршрута в конечную. Если пути не существует, выведите -1.\n",
        "\n",
        "\n",
        "Пример 1\n",
        "\n",
        "Ввод\n",
        "\n",
        "7\n",
        "\n",
        "0 0\n",
        "0 2\n",
        "2 2\n",
        "0 -2\n",
        "2 -2\n",
        "2 -1\n",
        "2 1\n",
        "\n",
        "2\n",
        "\n",
        "1 3\n",
        "\n",
        "Вывод\n",
        "\n",
        "2\n",
        "\n",
        "\n",
        "Пример 2\n",
        "\n",
        "Ввод\n",
        "\n",
        "4\n",
        "0 0\n",
        "1 0\n",
        "0 1\n",
        "1 1\n",
        "2\n",
        "1 4\n",
        "\n",
        "Вывод\n",
        "\n",
        "1\n",
        "\n",
        "\n",
        "Пример 3\n",
        "\n",
        "Ввод\n",
        "\n",
        "4\n",
        "\n",
        "0 0\n",
        "2 0\n",
        "0 2\n",
        "2 2\n",
        "\n",
        "1\n",
        "\n",
        "1 4\n",
        "\n",
        "Вывод\n",
        "\n",
        "-1"
      ],
      "metadata": {
        "id": "XrERYgV_6V20"
      }
    },
    {
      "cell_type": "markdown",
      "source": [
        "заменить list в поиске в ширину на queue"
      ],
      "metadata": {
        "id": "4EAerSW25yy0"
      }
    },
    {
      "cell_type": "code",
      "source": [
        "def take_dist(city_koord,distances, k, n):\n",
        "    \"\"\"функция для создания словаря городов, между которыми можно \n",
        "       передвигаться.  \n",
        "       например {1 : [2, 4]}, 2:[3, 5]} - c 1 во 2 и 4    \n",
        "    \"\"\"\n",
        "    for i in range(1,n+1):\n",
        "        for j in range(i+1,n+1):\n",
        "            d = city_dist(city_koord[i],city_koord[j])\n",
        "            if d<=k:\n",
        "                distances[i].append(j)\n",
        "                distances[j].append(i)\n",
        "                \n",
        "\n",
        "def city_dist(city_begin,city_goal):\n",
        "    \"\"\" вычисление расстояния между двумя городами\"\"\"\n",
        "    dist = abs(city_begin[0] - city_goal[0]) + abs(city_begin[1] - city_goal[1])\n",
        "    return dist\n",
        "\n",
        "\n",
        "def check_road(distances,begin_city,end_city):\n",
        "    # Тут храним стоимость прохода до вершины\n",
        "    cost = [-1] * len(distances)\n",
        "\n",
        "    # 'Стоимость' пути s -> s = 0\n",
        "    cost[begin_city-1] = 0\n",
        "    queue = [begin_city]\n",
        "    while queue:\n",
        "        v = queue.pop(0)\n",
        "\n",
        "        # запускаем обход из вершины v\n",
        "        for w in distances[v]:\n",
        "\n",
        "            # проверка на посещенность\n",
        "\n",
        "            if cost[w-1] == -1: \n",
        "\n",
        "                # добавление вершины в очередь\n",
        "                queue.append(w) \n",
        "                # подсчитываем стоимость пути до вершины\n",
        "                cost[w-1] = cost[v-1] + 1 \n",
        "\n",
        "\n",
        "    return cost[end_city-1]\n",
        "\n",
        "\n",
        "def main():\n",
        "    n = int(input())    # количество городов\n",
        "    city_koord = dict() # город - координаты города\n",
        "    distances = dict()  # город - список городов, до которых можем добраться\n",
        "\n",
        "    for i in range(n):\n",
        "        koord = list(map(int,input().split()))     # координаты городов\n",
        "        city_koord[i + 1] = koord\n",
        "        distances[i + 1] = []            \n",
        "\n",
        "    k = int(input())    # максимальноt расстояния\n",
        "    begin_city,end_city = list(map(int, input().split()))# города-начало и конец\n",
        "    \n",
        "    take_dist(city_koord, distances, k, n) \n",
        "    count = check_road(distances,begin_city,end_city)\n",
        "    print(count)\n",
        "\n",
        "\n",
        "if __name__ == \"__main__\":\n",
        "    main()"
      ],
      "metadata": {
        "id": "xKvo_XnH5Kyz"
      },
      "execution_count": null,
      "outputs": []
    }
  ]
}