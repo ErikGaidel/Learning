{
  "nbformat": 4,
  "nbformat_minor": 0,
  "metadata": {
    "colab": {
      "name": "Equation_sqrt.ipynb",
      "provenance": []
    },
    "kernelspec": {
      "name": "python3",
      "display_name": "Python 3"
    },
    "language_info": {
      "name": "python"
    }
  },
  "cells": [
    {
      "cell_type": "markdown",
      "source": [
        "Решите в целых числах уравнение:\n",
        "\n",
        "sqrt(ax+b) = c,\n",
        "\n",
        "a, b, c – данные целые числа: найдите все решения или сообщите, что решений в целых числах нет.\n",
        "\n",
        "Формат ввода\n",
        "\n",
        "Вводятся три числа a, b и c по одному в строке.\n",
        "\n",
        "Формат вывода\n",
        "\n",
        "Программа должна вывести все решения уравнения в порядке возрастания, либо NO SOLUTION (заглавными буквами), если решений нет. Если решений бесконечно много, вывести MANY SOLUTIONS."
      ],
      "metadata": {
        "id": "67wVwEomaJOJ"
      }
    },
    {
      "cell_type": "code",
      "execution_count": null,
      "metadata": {
        "id": "peMYf_OKaEqU"
      },
      "outputs": [],
      "source": [
        "def solve_sqrt_eq(a:int, b:int, c:int):\n",
        "    if a == 0:\n",
        "        return \"MANY SOLUTIONS\"\n",
        "    if c < 0 :\n",
        "        return \"NO SOLUTION\"\n",
        "    if (c**2 - b) % a != 0:\n",
        "        return \"NO SOLUTION\"\n",
        "    x = (c**2 - b) / a\n",
        "    print(-b/a)\n",
        "    if x < - b/a :\n",
        "        return \"NO SOLUTION\"\n",
        "    return round(x)\n",
        "\n",
        "\n",
        "a, b, c = int(input()), int(input()), int(input())\n",
        "ans = solve_sqrt_eq(a,b,c)\n",
        "print(ans)"
      ]
    },
    {
      "cell_type": "markdown",
      "source": [
        "1\n",
        "0\n",
        "0\n",
        "2\n",
        "0"
      ],
      "metadata": {
        "id": "6BVu7-ILaNTa"
      }
    },
    {
      "cell_type": "markdown",
      "source": [
        "1\n",
        "2\n",
        "3\n",
        "\n",
        "7"
      ],
      "metadata": {
        "id": "oWUC9C1zaSgg"
      }
    },
    {
      "cell_type": "markdown",
      "source": [
        "1\n",
        "2\n",
        "-3\n",
        "\n",
        "NO SOLUTION"
      ],
      "metadata": {
        "id": "2TsSdpRwaSOJ"
      }
    },
    {
      "cell_type": "code",
      "source": [
        "if 5 % 2 !=  0:\n",
        "  print(1)"
      ],
      "metadata": {
        "colab": {
          "base_uri": "https://localhost:8080/"
        },
        "id": "9sVRISwkaREe",
        "outputId": "e0cce4d7-f754-4a28-acb9-179813d31676"
      },
      "execution_count": null,
      "outputs": [
        {
          "output_type": "stream",
          "name": "stdout",
          "text": [
            "1\n"
          ]
        }
      ]
    },
    {
      "cell_type": "code",
      "source": [
        "int(6.99)"
      ],
      "metadata": {
        "colab": {
          "base_uri": "https://localhost:8080/"
        },
        "id": "npEFD2GTuUxM",
        "outputId": "bf53c6f2-0198-49b2-d22b-5a210d36d70f"
      },
      "execution_count": null,
      "outputs": [
        {
          "output_type": "execute_result",
          "data": {
            "text/plain": [
              "6"
            ]
          },
          "metadata": {},
          "execution_count": 8
        }
      ]
    },
    {
      "cell_type": "code",
      "source": [
        "round(6.99)"
      ],
      "metadata": {
        "colab": {
          "base_uri": "https://localhost:8080/"
        },
        "id": "V6wwE2pJwUkZ",
        "outputId": "eada13f7-bdf5-4ee4-876f-80325e9cd424"
      },
      "execution_count": null,
      "outputs": [
        {
          "output_type": "execute_result",
          "data": {
            "text/plain": [
              "7"
            ]
          },
          "metadata": {},
          "execution_count": 9
        }
      ]
    },
    {
      "cell_type": "code",
      "source": [
        ""
      ],
      "metadata": {
        "id": "reW1k9fOwW_o"
      },
      "execution_count": null,
      "outputs": []
    }
  ]
}