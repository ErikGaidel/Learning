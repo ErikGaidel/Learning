{
  "nbformat": 4,
  "nbformat_minor": 0,
  "metadata": {
    "colab": {
      "name": "Untitled3.ipynb",
      "provenance": []
    },
    "kernelspec": {
      "name": "python3",
      "display_name": "Python 3"
    },
    "language_info": {
      "name": "python"
    }
  },
  "cells": [
    {
      "cell_type": "code",
      "execution_count": 36,
      "metadata": {
        "id": "cV5zd5vi4ijp"
      },
      "outputs": [],
      "source": [
        "from datetime import datetime, date, timedelta\n",
        "# считываем наши данные\n",
        "one_day = timedelta(days=1)\n",
        "dates, ans = [], []\n",
        "\n",
        "with open(\"input.txt\") as inp_file:\n",
        "    a = inp_file.readline().replace(\"\\n\",\"\").split(\" \")\n",
        "    n, R, L = int(a[0]), int(a[1]), int(a[2])\n",
        "    for _ in range(n):\n",
        "         dates.append(datetime.strptime(inp_file.readline()[:-1], \"%d-%m-%Y\"))\n",
        "dates.sort()\n",
        "N = 1\n",
        "ans.append(N)\n",
        "tmp = dates[0]\n",
        "\n",
        "for d in range(1,len(dates)):\n",
        "    if tmp + one_day == dates[d]:\n",
        "        N += 1\n",
        "        tmp = dates[d]\n",
        "    else:\n",
        "        tmp = dates[d]\n",
        "        if N != 1:\n",
        "            ans.append(N)\n",
        "        N=1\n",
        "ans.append(N)\n",
        "\n",
        "with open(\"output.txt\",\"w\") as out_file:\n",
        "    out_file.write(str(max(ans)))"
      ]
    },
    {
      "cell_type": "code",
      "source": [
        ""
      ],
      "metadata": {
        "id": "QLE4Nom18Ivy"
      },
      "execution_count": null,
      "outputs": []
    }
  ]
}