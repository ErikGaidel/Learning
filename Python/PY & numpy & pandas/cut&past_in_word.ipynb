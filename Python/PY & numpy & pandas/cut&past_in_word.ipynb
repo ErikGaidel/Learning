{
  "nbformat": 4,
  "nbformat_minor": 0,
  "metadata": {
    "colab": {
      "name": "cut&past_in_word.ipynb",
      "provenance": []
    },
    "kernelspec": {
      "name": "python3",
      "display_name": "Python 3"
    },
    "language_info": {
      "name": "python"
    }
  },
  "cells": [
    {
      "cell_type": "code",
      "execution_count": null,
      "metadata": {
        "id": "IpvMf_STjU2T"
      },
      "outputs": [],
      "source": [
        "text, n = input(), int(input())\n",
        "for _ in range(n):\n",
        "    i, j, k = map(int,input().split())\n",
        "    cut = text[i:j+1]\n",
        "    text = text[:i] + text[j+1:]\n",
        "    if k:\n",
        "        text = text[:k] + cut + text[k:]\n",
        "    else:\n",
        "        text = cut + text\n",
        "print(text)"
      ]
    }
  ]
}