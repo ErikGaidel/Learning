{
  "cells": [
    {
      "cell_type": "markdown",
      "metadata": {
        "id": "RbR5OTe50Za4"
      },
      "source": [
        "# Классы\n",
        "## Домашнее задание"
      ]
    },
    {
      "cell_type": "markdown",
      "metadata": {
        "id": "Xh_DBCdu0Za5"
      },
      "source": [
        "### Вопросы по лекциям\n",
        "\n",
        "#### 1.\n",
        "\n",
        "Напишите название функции, которая является конструктором класса."
      ]
    },
    {
      "cell_type": "markdown",
      "metadata": {
        "id": "8-Tj4AMg0Za6"
      },
      "source": [
        "**Ответ:** _ _init_ _()"
      ]
    },
    {
      "cell_type": "markdown",
      "metadata": {
        "id": "lf14yx330Za7"
      },
      "source": [
        "#### 2.\n",
        "\n",
        "На что указывает переменная `self`?"
      ]
    },
    {
      "cell_type": "markdown",
      "metadata": {
        "id": "wI-0FWlF0Za8"
      },
      "source": [
        "**Ответ:** на свой объект для класса"
      ]
    },
    {
      "cell_type": "markdown",
      "metadata": {
        "id": "j_8_O_nl0Za8"
      },
      "source": [
        "#### 3.\n",
        "С помощью какой функции можно проверить, что некая строка является именем одного из атрибутов объекта?"
      ]
    },
    {
      "cell_type": "markdown",
      "metadata": {
        "id": "5h8ASTrV0Za9"
      },
      "source": [
        "**Ответ:** hasattr(object, name)"
      ]
    },
    {
      "cell_type": "markdown",
      "metadata": {
        "id": "G104VWgj0Za-"
      },
      "source": [
        "#### 4.\n",
        "Когда вызывается метод `__del__`? (относительно события удаления объекта)"
      ]
    },
    {
      "cell_type": "markdown",
      "metadata": {
        "id": "Ukzoyxkn0Za-"
      },
      "source": [
        "**Ответ:** перед самым удаление объекта, перед вызовом деструктора класса"
      ]
    },
    {
      "cell_type": "markdown",
      "metadata": {
        "id": "MkF-HyBM0ZbA"
      },
      "source": [
        "#### 5.\n",
        "Верно ли, что атрибут класса перекрывает атрибут объекта?"
      ]
    },
    {
      "cell_type": "markdown",
      "metadata": {
        "id": "o7B52kVt0ZbC"
      },
      "source": [
        "**Ответ:** нет"
      ]
    },
    {
      "cell_type": "markdown",
      "metadata": {
        "id": "kSwZWV2B0ZbC"
      },
      "source": [
        "#### 6.\n",
        "Можно ли атрибуты базового класса вызывать в дочернем классе? Если да, то напишите, нет ли исклчений?"
      ]
    },
    {
      "cell_type": "markdown",
      "metadata": {
        "id": "6i74Koih0ZbE"
      },
      "source": [
        "**Ответ:** да, можно, если это не приватные атрибуты, приватность обозначает _ _"
      ]
    },
    {
      "cell_type": "markdown",
      "metadata": {
        "id": "tl1St2O20ZbE"
      },
      "source": [
        "#### 7.\n",
        "Объясните своими словами для чего нужен метод `super`."
      ]
    },
    {
      "cell_type": "markdown",
      "metadata": {
        "id": "rg3u1PoY0ZbF"
      },
      "source": [
        "**Ответ:** для обращения из класса наследника к классу родителя, к методам родительского класса, дает объект базового класса"
      ]
    },
    {
      "cell_type": "markdown",
      "metadata": {
        "id": "5AiJn8ut0ZbG"
      },
      "source": [
        "### Практика\n",
        "\n",
        "1. Напишите класс `Fraction` для работы с дробями. Пусть дробь в нашем классе предстает в виде `числитель/знаменатель`. Дробное число должно создаваться по запросу `Fraction(a, b)`, где `a` – это числитель, а `b` – знаменатель дроби. \n",
        "2. Добавьте возможность сложения (сложения через оператор сложения) для дроби. Предполагается, что операция сложения может проводиться как только между дробями, так и между дробью и целым числом. Результат операции должен быть представлен в виде дроби.\n",
        "3. Добавьте возможность взятия разности (вычитания через оператор вычитания) для дробей. Предполагается, что операция вычитания может проводиться как только для двух дробей, так и для дроби и целого числа. Результат операции должен быть представлен в виде дроби.\n",
        "4. Добавьте возможность умножения (умножения через оператор умножения) для дробей. Предполагается, что операция умножения может проводиться как только для двух дробей, так и для дроби и целого числа. Результат операции должен быть представлен в виде дроби.\n",
        "5. Добавьте возможность приведения дроби к целому числу через стандартную функцию `int()`.\n",
        "6. Добавьте возможность приведения дроби к числу с плавающей точкой через стандартную функцию `float()`.\n",
        "7. Создайте дочерний класс `OperationsOnFraction` и добавьте туда собственные методы `getint` и `getfloat`, которые будут возвращать целую часть дроби и представление дроби в виде числа с плавающей точкой соответственно. \n",
        " "
      ]
    },
    {
      "cell_type": "code",
      "execution_count": null,
      "metadata": {
        "id": "ru3BJ52J0ZbG",
        "outputId": "cce5b13e-c023-47cf-e520-79b0eca6ab5c"
      },
      "outputs": [
        {
          "name": "stdout",
          "output_type": "stream",
          "text": [
            "Fraction 596/60\n",
            "Fraction 6400/1200\n",
            "Fraction 19200/24000\n",
            "Fraction 384000/72000\n",
            "\n",
            "Fraction 53/10 Fraction 16/4 Fraction -228/80 2 2.6666666666666665 Fraction 4/4 Fraction 16/3 5 5.333333333333333\n",
            "Fraction 53/10\n",
            "Fraction 16/4\n",
            "Fraction -228/80\n",
            "2\n",
            "2.6666666666666665\n",
            "Fraction 4/4\n",
            "Fraction 16/3\n",
            "5\n",
            "5.333333333333333\n"
          ]
        }
      ],
      "source": [
        "#from math import lcm, gcd\n",
        "\n",
        "\n",
        "class Fraction:\n",
        "\n",
        "    def __init__(self, num, denom):\n",
        "        self.numerator = num\n",
        "        self.denomenator = denom\n",
        "\n",
        "    def __simple(self):\n",
        "        #grchdel = gcd(self.numerator, self.denomenator)\n",
        "        #self.numerator //= grchdel\n",
        "        #self.denomenator //= grchdel\n",
        "        return self\n",
        "\n",
        "    def __add__(self, *args):\n",
        "        if len (args) == 1:\n",
        "            other = args[0]\n",
        "            if isinstance (other, int):\n",
        "                sum = Fraction (self.numerator + other * self.denomenator, self.denomenator)\n",
        "            else:\n",
        "                if self.denomenator != other.denomenator:\n",
        "                    sum = Fraction (self.numerator * other.denomenator + self.denomenator * other.numerator,\n",
        "                                    self.denomenator * other.denomenator)\n",
        "                else:\n",
        "                    sum = Fraction (self.numerator + other.numerator, self.denomenator)\n",
        "            return sum.__simple()\n",
        "        sum = self\n",
        "        for i, name in enumerate(args):\n",
        "            sum = sum + name\n",
        "        return sum.__simple()\n",
        "\n",
        "    def __sub__(self, *args):\n",
        "        if len (args) == 1:\n",
        "            other = args[0]\n",
        "            if isinstance (other, int):\n",
        "                sub = Fraction (self.numerator - other * self.denomenator, self.denomenator)\n",
        "            else:\n",
        "                if self.denomenator != other.denomenator:\n",
        "                    sub = Fraction (self.numerator * other.denomenator - self.denomenator * other.numerator,\n",
        "                                    self.denomenator * other.denomenator)\n",
        "                else:\n",
        "                    sub = Fraction (self.numerator - other.numerator, self.denomenator)\n",
        "            return sub.__simple()\n",
        "        sub = self\n",
        "        for i, name in enumerate (args):\n",
        "            sub = sub - name\n",
        "        return sub.__simple()\n",
        "\n",
        "    def __mul__(self, *args):\n",
        "        if len (args) == 1:\n",
        "            other = args[0]\n",
        "            if isinstance (other, int):\n",
        "                mult = Fraction (self.numerator * other, self.denomenator)\n",
        "            else:\n",
        "                mult = Fraction (self.numerator * other.numerator, self.denomenator * other.denomenator)\n",
        "            return mult.__simple()\n",
        "        mult = self\n",
        "        for i, name in enumerate (args):\n",
        "            mult = mult * name\n",
        "        return mult.__simple()\n",
        "\n",
        "    def __truediv__(self, *args):\n",
        "        if len (args) == 1:\n",
        "            other = args[0]\n",
        "            if isinstance (other, Fraction):\n",
        "                other.denomenator, other.numerator = other.numerator, other.denomenator\n",
        "                div = self * other\n",
        "            else:\n",
        "                div = Fraction(self.numerator, self.denomenator * other)\n",
        "            return div.__simple()\n",
        "        div = self\n",
        "        for i, name in enumerate (args):\n",
        "            div = div / name\n",
        "        return div.__simple()\n",
        "\n",
        "    def __int__(self):\n",
        "        return self.numerator // self.denomenator\n",
        "\n",
        "    def __float__(self):\n",
        "        return self.numerator / self.denomenator\n",
        "\n",
        "    def __str__(self):\n",
        "        return f\"Fraction {self.numerator}/{self.denomenator}\"\n",
        "\n",
        "\n",
        "class OperationsOnFraction (Fraction):\n",
        "\n",
        "    def getint(self):\n",
        "        return int (self)\n",
        "\n",
        "    def getfloat(self):\n",
        "        return float (self)\n",
        "\n",
        "\n",
        "a = OperationsOnFraction (16, 3)\n",
        "n = [Fraction(1,2), 1, Fraction(1,10), 3]\n",
        "s = [\n",
        "    Fraction (1, 10) + Fraction (1, 10) + 3 + 1 + Fraction (1, 10) + 1,\n",
        "    Fraction (1, 2) * Fraction (1, 2) * 16,\n",
        "    Fraction (2, 8) - Fraction (1, 10) - 1 - 2,\n",
        "    int (Fraction (8, 3)),\n",
        "    float (Fraction (8, 3)),\n",
        "    Fraction (1, 2) / Fraction (1, 4) / 2,\n",
        "    a,\n",
        "    a.getint (),\n",
        "    a.getfloat ()\n",
        "]\n",
        "a = a.__add__(*n)\n",
        "print(a)\n",
        "a = a.__sub__(*n)\n",
        "print(a)\n",
        "a = a.__mul__(*n)\n",
        "print(a)\n",
        "a = a.__truediv__(*n)\n",
        "print(a)\n",
        "print()\n",
        "\n",
        "print(*s)\n",
        "for w in s:\n",
        "    print (w)\n"
      ]
    },
    {
      "cell_type": "code",
      "execution_count": null,
      "metadata": {
        "id": "GzXCBs4L-sHP"
      },
      "outputs": [],
      "source": [
        ""
      ]
    }
  ],
  "metadata": {
    "colab": {
      "collapsed_sections": [],
      "name": "jun_anl_class.ipynb",
      "provenance": []
    },
    "kernelspec": {
      "display_name": "Python 3",
      "language": "python",
      "name": "python3"
    },
    "language_info": {
      "codemirror_mode": {
        "name": "ipython",
        "version": 3
      },
      "file_extension": ".py",
      "mimetype": "text/x-python",
      "name": "python",
      "nbconvert_exporter": "python",
      "pygments_lexer": "ipython3",
      "version": "3.8.8"
    }
  },
  "nbformat": 4,
  "nbformat_minor": 0
}