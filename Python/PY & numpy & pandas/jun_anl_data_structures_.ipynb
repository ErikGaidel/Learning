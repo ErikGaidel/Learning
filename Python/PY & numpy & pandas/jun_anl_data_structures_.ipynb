{
  "cells": [
    {
      "cell_type": "markdown",
      "metadata": {
        "id": "7lPyzNzeLIOj"
      },
      "source": [
        "# Базовые структуры данных\n"
      ]
    },
    {
      "cell_type": "markdown",
      "metadata": {
        "id": "3ndIOSVeLIOm"
      },
      "source": [
        "## Индексация списка"
      ]
    },
    {
      "cell_type": "markdown",
      "metadata": {
        "id": "YBj2DZxnmQzq"
      },
      "source": [
        "**Цель блока заданий:** в данном блоке задач вы потренируетесь вызывать элементы или группы элементов из списка. \n",
        "\n",
        "**Рекомендации к выполнению блока заданий:** попробуйте разделить задание на части, поэтапно вызывайте по индексу составные части (которые могут также являться списками) из списка, пока не дойдёте до нужного элемента.\n",
        "\n",
        "**Критерии оценки:** задания считаются выполненными, если выдача строго соответствует примеру из каждого задания. Допустим, в пятом задании результатом должен быть список с единственным элементом, равным 74."
      ]
    },
    {
      "cell_type": "code",
      "execution_count": null,
      "metadata": {
        "id": "XSWqZnZ2LIOo"
      },
      "outputs": [],
      "source": [
        "L = [[[1, 2, 3, 4, 5, 6, 7, 8, 9, 10], [11, 12, 13, 14, 15, 16, 17, 18, 19, 20]], \n",
        "    [[21, 22, 23, 24, 25, 26, 27, 28, 29, 30], [31, 32, 33, 34, 35, 36, 37, 38, 39, 40]], \n",
        "    [[41, 42, 43, 44, 45], [46, [47, 48], 49, 50], [51, 52, 53, 54, 55], [56, 57, 58, 59, 60]], \n",
        "    [61, 62, 63, [64, 65, 66, 67, 68, 69, 70, 71], 72, 73, 74, [75, [76, 77, 78], 79], 80], \n",
        "    [81, 82, 83, 84, 85, 86, 87, 88, 89, 90, 91, 92, 93, 94, 95, 96, 97, 98, 99, 100]]"
      ]
    },
    {
      "cell_type": "markdown",
      "metadata": {
        "id": "jwigC9WlLIOt"
      },
      "source": [
        "### 1.\n",
        "Из приведённого выше списка списков выведите с помощью индексов число `7`."
      ]
    },
    {
      "cell_type": "code",
      "execution_count": null,
      "metadata": {
        "id": "PDaSjPzRLIOu",
        "outputId": "9af77f42-9f1b-4c4e-fda0-4e28591cdb08"
      },
      "outputs": [
        {
          "data": {
            "text/plain": [
              "7"
            ]
          },
          "execution_count": 4,
          "metadata": {},
          "output_type": "execute_result"
        }
      ],
      "source": [
        "### YOUR CODE HERE ###\n",
        "L[0][0][6]"
      ]
    },
    {
      "cell_type": "markdown",
      "metadata": {
        "id": "TF6eb9fYLIOw"
      },
      "source": [
        "### 2.\n",
        "Из приведённого выше списка списков выведите с помощью индексов число `49`."
      ]
    },
    {
      "cell_type": "code",
      "execution_count": null,
      "metadata": {
        "id": "l_oW37-qLIOx",
        "outputId": "7d1e5cae-3491-44e3-b143-f8435ad0f4a8"
      },
      "outputs": [
        {
          "data": {
            "text/plain": [
              "46"
            ]
          },
          "execution_count": 9,
          "metadata": {},
          "output_type": "execute_result"
        }
      ],
      "source": [
        "### YOUR CODE HERE ###\n",
        "L[2][1][0]"
      ]
    },
    {
      "cell_type": "markdown",
      "metadata": {
        "id": "FBDB0JeBLIO1"
      },
      "source": [
        "### 3.\n",
        "Из приведённого выше списка списков выведите с помощью индексов число `78`."
      ]
    },
    {
      "cell_type": "code",
      "execution_count": null,
      "metadata": {
        "id": "tpM-jm4bLIO2",
        "outputId": "106d4f8b-ca2a-40b8-819a-6e0c6e0015f2"
      },
      "outputs": [
        {
          "data": {
            "text/plain": [
              "78"
            ]
          },
          "execution_count": 12,
          "metadata": {},
          "output_type": "execute_result"
        }
      ],
      "source": [
        "### YOUR CODE HERE ###\n",
        "L[3][7][1][2]"
      ]
    },
    {
      "cell_type": "markdown",
      "metadata": {
        "id": "gnaTfR3BLIO5"
      },
      "source": [
        "### 4.\n",
        "Из приведённого выше списка списков выведите с помощью индексов (используя **отрицательные значения**) число `99`."
      ]
    },
    {
      "cell_type": "code",
      "execution_count": null,
      "metadata": {
        "id": "sA0ImW8oLIO6",
        "outputId": "c42b082f-9cf8-4d82-f818-f66296bb5026"
      },
      "outputs": [
        {
          "data": {
            "text/plain": [
              "99"
            ]
          },
          "execution_count": 13,
          "metadata": {},
          "output_type": "execute_result"
        }
      ],
      "source": [
        "### YOUR CODE HERE ###\n",
        "\n",
        "L[-1][-2]"
      ]
    },
    {
      "cell_type": "markdown",
      "metadata": {
        "id": "07mV6-oeLIO-"
      },
      "source": [
        "### 5.\n",
        "Из приведённого выше списка списков сделайте **срез** с числом `74`. "
      ]
    },
    {
      "cell_type": "code",
      "execution_count": null,
      "metadata": {
        "id": "OM-zgJ15LIO-",
        "outputId": "74c71eda-bdd1-4d83-b3f9-4613985a9ced"
      },
      "outputs": [
        {
          "data": {
            "text/plain": [
              "[74]"
            ]
          },
          "execution_count": 18,
          "metadata": {},
          "output_type": "execute_result"
        }
      ],
      "source": [
        "### YOUR CODE HERE ###\n",
        "\n",
        "L[3][6:7]"
      ]
    },
    {
      "cell_type": "markdown",
      "metadata": {
        "id": "TE82rH0CLIPB"
      },
      "source": [
        "### 6.\n",
        "Из приведённого выше списка списков сделайте **срез** с числами `47, 48`. "
      ]
    },
    {
      "cell_type": "code",
      "execution_count": null,
      "metadata": {
        "id": "MKpqyOINLIPD",
        "outputId": "250c40ed-2279-4397-ddc6-9a47006998b4"
      },
      "outputs": [
        {
          "name": "stdout",
          "output_type": "stream",
          "text": [
            "[[47, 48]] or [47, 48]\n"
          ]
        }
      ],
      "source": [
        "### YOUR CODE HERE ###\n",
        "\n",
        "l_1 = L[2][1][1:2]\n",
        "l_2 = L[2][1][1]\n",
        "print(l_1,\"or\", l_2)"
      ]
    },
    {
      "cell_type": "markdown",
      "metadata": {
        "id": "t6Fgb0AkLIPK"
      },
      "source": [
        "### 7.\n",
        "Из приведённого выше списка списков сделайте **срез** с числами `77, 78`. "
      ]
    },
    {
      "cell_type": "code",
      "execution_count": null,
      "metadata": {
        "id": "l1pGFe7uLIPM",
        "outputId": "b12de1b7-6859-49da-ef8c-b105ebdf75e4"
      },
      "outputs": [
        {
          "data": {
            "text/plain": [
              "[77, 78]"
            ]
          },
          "execution_count": 31,
          "metadata": {},
          "output_type": "execute_result"
        }
      ],
      "source": [
        "### YOUR CODE HERE ###\n",
        "\n",
        "L[3][7][1][1:]"
      ]
    },
    {
      "cell_type": "markdown",
      "metadata": {
        "id": "RwOlYKGhLIPR"
      },
      "source": [
        "## Функция range()"
      ]
    },
    {
      "cell_type": "markdown",
      "metadata": {
        "id": "xsF_OmeImQ1t"
      },
      "source": [
        "**Цель блока заданий:** в данном блоке задач вы закрепите навык генерации числовых последовательностей через функцию range(). В дальнейшем функция range() будет часто использоваться в счётных циклах, а также для решения других задач.\n",
        "\n",
        "**Рекомендации к выполнению блока заданий:** обратите внимание, что шаг последовательности может быть как «вперед», так и «назад». Для вывода результата в формате списка можно использовать функцию list().\n",
        "\n",
        "**Критерии оценки:** задания считаются выполненными, если выдача строго соответствует примеру из задания. Использование функций сортировки не допускается."
      ]
    },
    {
      "cell_type": "markdown",
      "metadata": {
        "id": "s2K0_TThLIPR"
      },
      "source": [
        "### 8.\n",
        "С помощью функции `range` сгенерируйте следующую последовательность: <br>\n",
        "`[0, 1, 2, 3, 4]`"
      ]
    },
    {
      "cell_type": "code",
      "execution_count": null,
      "metadata": {
        "id": "vpuvqwqdLIPS",
        "outputId": "2f60a5bf-f514-4cab-de8a-aef164da9bdf"
      },
      "outputs": [
        {
          "data": {
            "text/plain": [
              "[0, 1, 2, 3, 4]"
            ]
          },
          "execution_count": 34,
          "metadata": {},
          "output_type": "execute_result"
        }
      ],
      "source": [
        "### YOUR CODE HERE ###\n",
        "list(range(5))\n"
      ]
    },
    {
      "cell_type": "markdown",
      "metadata": {
        "id": "WyhA3ipeLIPU"
      },
      "source": [
        "### 9.\n",
        "С помощью функции `range` сгенерируйте следующую последовательность: <br>\n",
        "`[3, 4]`"
      ]
    },
    {
      "cell_type": "code",
      "execution_count": null,
      "metadata": {
        "id": "WHoyVxCeLIPV",
        "outputId": "2cc123b4-da2b-4bf4-d655-d9c2d8a63e51"
      },
      "outputs": [
        {
          "data": {
            "text/plain": [
              "[3, 4]"
            ]
          },
          "execution_count": 36,
          "metadata": {},
          "output_type": "execute_result"
        }
      ],
      "source": [
        "### YOUR CODE HERE ###\n",
        "list(range(3,5))\n"
      ]
    },
    {
      "cell_type": "markdown",
      "metadata": {
        "id": "Clfo7jhOLIPY"
      },
      "source": [
        "### 10.\n",
        "С помощью функции `range` сгенерируйте следующую последовательность: <br>\n",
        "`[4, 8, 12, 16]`"
      ]
    },
    {
      "cell_type": "code",
      "execution_count": null,
      "metadata": {
        "id": "WepJj6ZfLIPY",
        "outputId": "b76eb5bd-d01c-4474-f397-160eba86ad58"
      },
      "outputs": [
        {
          "data": {
            "text/plain": [
              "[4, 8, 12, 16]"
            ]
          },
          "execution_count": 37,
          "metadata": {},
          "output_type": "execute_result"
        }
      ],
      "source": [
        "### YOUR CODE HERE ###\n",
        "list(range(4,17,4))\n"
      ]
    },
    {
      "cell_type": "markdown",
      "metadata": {
        "id": "U9glCsGCLIPb"
      },
      "source": [
        "### 11.\n",
        "С помощью функции `range` сгенерируйте следующую последовательность: <br>\n",
        "`[16, 12, 8, 4]`"
      ]
    },
    {
      "cell_type": "code",
      "execution_count": null,
      "metadata": {
        "id": "NDm-DmpTLIPc",
        "outputId": "19a2ccbf-0fea-46f9-813e-0bfd25a27873"
      },
      "outputs": [
        {
          "data": {
            "text/plain": [
              "[16, 12, 8, 4]"
            ]
          },
          "execution_count": 39,
          "metadata": {},
          "output_type": "execute_result"
        }
      ],
      "source": [
        "### YOUR CODE HERE ###\n",
        "list(range(16,3,-4))\n"
      ]
    },
    {
      "cell_type": "markdown",
      "metadata": {
        "id": "CHz6UIKyLIPi"
      },
      "source": [
        "### 12.\n",
        "С помощью функции `range` сгенерируйте следующую последовательность: <br>\n",
        "`[0, 5, 10]`"
      ]
    },
    {
      "cell_type": "code",
      "execution_count": null,
      "metadata": {
        "id": "9C06f5sTLIPj",
        "outputId": "ce3e5c7b-0a25-4a25-82a9-bc3a15f79ac5"
      },
      "outputs": [
        {
          "data": {
            "text/plain": [
              "[0, 5, 10]"
            ]
          },
          "execution_count": 41,
          "metadata": {},
          "output_type": "execute_result"
        }
      ],
      "source": [
        "### YOUR CODE HERE ###\n",
        "list(range(0,11,5))\n"
      ]
    },
    {
      "cell_type": "markdown",
      "metadata": {
        "id": "ZZehpNQuLIPm"
      },
      "source": [
        "### 13.\n",
        "С помощью функции `range` сгенерируйте следующую последовательность: <br>\n",
        "`[10, 5, 0]`"
      ]
    },
    {
      "cell_type": "code",
      "execution_count": null,
      "metadata": {
        "id": "H4QmyUfZLIPm",
        "outputId": "35588e83-e7f4-4dee-b9cd-70abcc7507f9"
      },
      "outputs": [
        {
          "data": {
            "text/plain": [
              "[10, 5, 0]"
            ]
          },
          "execution_count": 43,
          "metadata": {},
          "output_type": "execute_result"
        }
      ],
      "source": [
        "### YOUR CODE HERE ###\n",
        "list(range(10,-1,-5))\n"
      ]
    },
    {
      "cell_type": "markdown",
      "metadata": {
        "id": "kwWQ1al2LIPr"
      },
      "source": [
        "### 14.\n",
        "С помощью функции `range` сгенерируйте следующую последовательность: <br>\n",
        "`[-10, -9, -8, -7, -6, -5, -4, -3, -2, -1]`"
      ]
    },
    {
      "cell_type": "code",
      "execution_count": null,
      "metadata": {
        "id": "85HO3S_cLIPu",
        "outputId": "b14c27f5-bda7-4af0-97b0-e1318fb1ccb9"
      },
      "outputs": [
        {
          "data": {
            "text/plain": [
              "[-10, -9, -8, -7, -6, -5, -4, -3, -2, -1]"
            ]
          },
          "execution_count": 45,
          "metadata": {},
          "output_type": "execute_result"
        }
      ],
      "source": [
        "### YOUR CODE HERE ###\n",
        "list(range(-10,0,1))\n"
      ]
    },
    {
      "cell_type": "markdown",
      "metadata": {
        "id": "sbCO0FbLLIP3"
      },
      "source": [
        "### 15.\n",
        "С помощью функции `range` сгенерируйте следующую последовательность: <br>\n",
        "`[-10, -16, -22, -28, -34]`"
      ]
    },
    {
      "cell_type": "code",
      "execution_count": null,
      "metadata": {
        "id": "Frychu-HLIP4",
        "outputId": "17270c35-aa06-48dd-f847-dcfbd2e5a79c"
      },
      "outputs": [
        {
          "data": {
            "text/plain": [
              "[-10, -16, -22, -28, -34]"
            ]
          },
          "execution_count": 46,
          "metadata": {},
          "output_type": "execute_result"
        }
      ],
      "source": [
        "### YOUR CODE HERE ###\n",
        "\n",
        "list(range(-10,-35,-6))"
      ]
    },
    {
      "cell_type": "markdown",
      "metadata": {
        "id": "1Gfu4kFqLIP-"
      },
      "source": [
        "## Операторы и типы данных\n",
        "\n",
        "Этот блок должен быть решён **БЕЗ** использования готовых функций и сторонних библиотек. Используйте операторы."
      ]
    },
    {
      "cell_type": "markdown",
      "metadata": {
        "id": "0csxPvg4mQ3H"
      },
      "source": [
        "**Цель блока заданий:** в данном блоке задач вы потренируетесь в использовании базовых операторов в Python.\n",
        "\n",
        "**Рекомендации к выполнению блока заданий:** выполнить данные задания можно опираясь на знания, полученные в этом и предшествующих модулях. Подумайте, как можно решить задачу простыми инструментами, если вам кажется, что для её выполнения необходим метод, с которым вы не знакомились в этом и предшествующих модулях.\n",
        "\n",
        "**Критерии оценки:** задания считаются выполенными, если программа выводит корректный ответ в нужном формате. Формат выдачи приведён к каждому заданию. В решении не должны быть задействованы циклы, условия, функции, исключения, которые являются темами следующих модулей. Проверка корректности входных значений не требуется."
      ]
    },
    {
      "cell_type": "markdown",
      "metadata": {
        "id": "qnWdcLseLIP_"
      },
      "source": [
        "### 16.\n",
        "Часы показывают время в формате h:mm:ss (количество часов (от 0 до 23), двузначное количество минут, двузначное количество секунд). Количество минут и секунд при необходимости дополняются до двузначного числа нулями.\n",
        "\n",
        "Программа должна запрашивать количество секунд S, которое прошло с начала суток, и выводить в формате h:mm:ss, какое время будут показывать часы. <br><br>\n",
        "\n",
        "*Формат ввода:* <br>\n",
        "3600<br><br>\n",
        "\n",
        "*Формат вывода:* <br>\n",
        "1:00:00"
      ]
    },
    {
      "cell_type": "code",
      "execution_count": null,
      "metadata": {
        "id": "UaM4-TFYLIP_",
        "outputId": "c192912e-40bf-4bba-b43c-8f1aaafca6b5"
      },
      "outputs": [
        {
          "name": "stdout",
          "output_type": "stream",
          "text": [
            "Enter count of seconds:80457\n",
            "22:20:57\n"
          ]
        }
      ],
      "source": [
        "### YOUR CODE HERE ###\n",
        "S = int(input(\"Enter count of seconds:\"))\n",
        "h = S//3600\n",
        "dm=(S-h*3600)//600\n",
        "m=(S-h*3600-dm*600)//60\n",
        "sm=(S%60)//10\n",
        "s=(S%60)%10\n",
        "print(f\"{h}:{dm}{m}:{sm}{s}\")"
      ]
    },
    {
      "cell_type": "markdown",
      "metadata": {
        "id": "BnxMhHlDLIQB"
      },
      "source": [
        "### 17.\n",
        "Машина выезжает на нулевой километр МКАД и едет по часовой стрелке с постоянной скоростью V километров в час. На каком километре МКАД машина окажется через T часов? \n",
        "<br> Длина МКАД: 109 км. <br><br> \n",
        "\n",
        "*Формат ввода:* <br>\n",
        "60 <br>\n",
        "1\n",
        "<br><br>\n",
        "*Формат вывода:* <br>\n",
        "60"
      ]
    },
    {
      "cell_type": "code",
      "execution_count": null,
      "metadata": {
        "id": "66aeGuRbLIQC",
        "outputId": "fe1bb58f-268f-40f4-d98f-f1bdaf110188"
      },
      "outputs": [
        {
          "name": "stdout",
          "output_type": "stream",
          "text": [
            "Enter speed: 120\n",
            "Enter time: 1\n",
            "11\n"
          ]
        }
      ],
      "source": [
        "### YOUR CODE HERE ###\n",
        "V = int(input(\"Enter speed: \"))\n",
        "T = int(input(\"Enter time: \"))\n",
        "S_0 = 109\n",
        "S = V * T\n",
        "S_otn = S%S_0 \n",
        "print(S_otn)"
      ]
    },
    {
      "cell_type": "markdown",
      "metadata": {
        "id": "ZxMi6_58LIQG"
      },
      "source": [
        "### 18.\n",
        "Напишите программу, которая запрашивает целое пятизначное число и выводит сумму его цифр.\n",
        "\n",
        "*Формат ввода:* <br>\n",
        "11111\n",
        "<br><br>\n",
        "*Формат вывода:* <br>\n",
        "5"
      ]
    },
    {
      "cell_type": "code",
      "execution_count": null,
      "metadata": {
        "id": "wasIkbwELIQH",
        "outputId": "506d2063-c2b9-4a1a-cf79-2d373cf5618c"
      },
      "outputs": [
        {
          "name": "stdout",
          "output_type": "stream",
          "text": [
            "Enter digit: 99999\n",
            "45\n"
          ]
        }
      ],
      "source": [
        "### YOUR CODE HERE ###\n",
        "d = input(\"Enter digit: \")\n",
        "A = int(d[0]) + int(d[1]) + int(d[2]) + int(d[3]) + int(d[4])\n",
        "print(A)\n"
      ]
    },
    {
      "cell_type": "markdown",
      "metadata": {
        "id": "6q6JEgziLIQK"
      },
      "source": [
        "### 19.\n",
        "Напишите программу, которая запрашивает целое четырёхзначное число и меняет местами его две первые и две последние цифры.\n",
        "\n",
        "*Формат ввода:* <br>\n",
        "5236 \n",
        "<br><br>\n",
        "*Формат вывода:* <br>\n",
        "3652"
      ]
    },
    {
      "cell_type": "code",
      "execution_count": null,
      "metadata": {
        "id": "tupFycemLIQK",
        "outputId": "d19eab44-ecf3-4cbd-b9be-87ec62162096"
      },
      "outputs": [
        {
          "name": "stdout",
          "output_type": "stream",
          "text": [
            "Enter digit:8291\n",
            "2819\n"
          ]
        }
      ],
      "source": [
        "### YOUR CODE HERE ###\n",
        "D_0 = input(\"Enter digit:\")\n",
        "D_1 = D_0.replace(D_0[0] + D_0[1] + D_0[2] + D_0[3], D_0[1] + D_0[0] + D_0[3] + D_0[2])\n",
        "print(D_1)"
      ]
    },
    {
      "cell_type": "markdown",
      "metadata": {
        "id": "3NglY6CQLIQN"
      },
      "source": [
        "### 20.\n",
        "Напишите программу, которая на основании параметра D (сколько километров в день преодолевает машина) рассчитывает, сколько дней она затратит на путь длиной P километров.  <br><br>\n",
        "*Формат ввода:* <br>\n",
        "105 <br>\n",
        "120\n",
        "<br><br>\n",
        "*Формат вывода:* <br>\n",
        "2"
      ]
    },
    {
      "cell_type": "code",
      "execution_count": null,
      "metadata": {
        "id": "7sCggR--LIQN",
        "outputId": "79fb13e6-4639-4db0-c3a4-01c093aa3666"
      },
      "outputs": [
        {
          "name": "stdout",
          "output_type": "stream",
          "text": [
            "Enter car path: 105\n",
            "Enter path: 210\n",
            "2\n"
          ]
        }
      ],
      "source": [
        "### YOUR CODE HERE ###\n",
        "D = int(input(\"Enter car path: \"))\n",
        "P = int(input(\"Enter path: \"))\n",
        "A = P // D\n",
        "b = P%D\n",
        "A = A + int(b > 0)\n",
        "print(A)\n"
      ]
    },
    {
      "cell_type": "markdown",
      "metadata": {
        "id": "oWERt2BRLIQR"
      },
      "source": [
        "### 21.\n",
        "Напишите программу, которая считает, сколько рублей и копеек нужно заплатить за N авокадо, если одно авокадо стоит R рублей и K копеек. <br><br>\n",
        "*Формат ввода:* <br>\n",
        "40 20 <br>\n",
        "5\n",
        "<br><br>\n",
        "*Формат вывода:* <br>\n",
        "201 руб. 00 коп."
      ]
    },
    {
      "cell_type": "code",
      "execution_count": null,
      "metadata": {
        "id": "Zvx5ybP7LIQU",
        "outputId": "be5f2d0d-5646-42a9-9fb3-fe795c384f82"
      },
      "outputs": [
        {
          "name": "stdout",
          "output_type": "stream",
          "text": [
            "Rubles: 21\n",
            "Kopeiki: 95\n",
            "Need avocado: 19\n",
            "417 руб. 05 коп.\n"
          ]
        }
      ],
      "source": [
        "### YOUR CODE HERE ###\n",
        "R = int(input(\"Rubles: \"))\n",
        "K = int(input(\"Kopeiki: \"))\n",
        "N = int(input(\"Need avocado: \"))\n",
        "SR = R*N + (K*N)//100\n",
        "SKD = ((K*N)%100)//10\n",
        "SK = ((K*N)%100)%10\n",
        "I = f\"{SR} руб. {SKD}{SK} коп.\"\n",
        "print(I)"
      ]
    },
    {
      "cell_type": "markdown",
      "metadata": {
        "id": "Q0u91-MILIQX"
      },
      "source": [
        "### 22.\n",
        "Пусть организаторы мероприятия неправильно составили гугл-форму и просили людей указывать ФИО в неправильном порядке. Сначала спрашивали имя, потом отчество, затем фамилию. Напишите программу, которая будет переставлять ФИО в нужный порядок. <br> <br> \n",
        "\n",
        "*Формат ввода:* <br>\n",
        "Иван Иванович Иванов<br><br>\n",
        "*Формат вывода:* <br>\n",
        "Иванов Иван Иванович"
      ]
    },
    {
      "cell_type": "code",
      "execution_count": null,
      "metadata": {
        "id": "hrXguBL7LIQX",
        "outputId": "1e218a3e-f9d4-40df-a7f0-1b656c1df706"
      },
      "outputs": [
        {
          "name": "stdout",
          "output_type": "stream",
          "text": [
            "Enter your's name:Иван Иванович Иванов\n",
            "Иванов Иван Иванович\n"
          ]
        }
      ],
      "source": [
        "### YOUR CODE HERE ###\n",
        "SW=input(\"Enter your's name:\")\n",
        "D = SW.split(\" \")\n",
        "SR = D[2] + \" \" + D[0] + \" \" + D[1]\n",
        "print(SR)\n"
      ]
    },
    {
      "cell_type": "markdown",
      "metadata": {
        "id": "vwexBPelLIQb"
      },
      "source": [
        "## Cловари и списки"
      ]
    },
    {
      "cell_type": "markdown",
      "metadata": {
        "id": "K51IjN6QmQ30"
      },
      "source": [
        "**Цель блока заданий:** в данном блоке задач вы зарепите навык работы со словарями и списками. В текущем блоке также пригодятся навыки, отработанные в первом блоке настоящего домашнего задания.\n",
        "\n",
        "**Рекомендации к выполнению блока заданий:** попробуйте работать с большим словарём по тому же принципу, по которому вы вызывали составные элементы из большого списка в первом блоке заданий настоящей работы. Поэтапно вызывайте сначала один многосоставный объект, затем из него извлеките другой, но уже меньший, пока не доберётесь до целевого элемента.\n",
        "\n",
        "**Критерии оценки:** задания считаются выполненными, если произошли нужные изменения (или их отстутсвие, если того требует условие задания), но при этом не произошло никаких других изменений, которые не описаны в задании. Обратите, пожалуйста, внимание, что программа в 23-й задаче должна быть универсальной, то есть работать не только для нулевого элемента."
      ]
    },
    {
      "cell_type": "markdown",
      "metadata": {
        "id": "nIgc10tKLIQc"
      },
      "source": [
        "### 23.\n",
        "У вас есть список с заказом в ресторане. Напишите программу, которая меняет указанное по названию блюдо на другое. При этом новое блюдо в списке будет расположено на месте того, что было заменено.\n",
        "\n",
        "*Формат ввода:* <br>\n",
        "белое вино<br>\n",
        "красное вино <br><br>\n",
        "*Формат вывода:* <br>\n",
        "`['красное вино', 'салат Цезарь', 'паста Карбонара', 'чизкейк', 'шоколадный сорбет']`"
      ]
    },
    {
      "cell_type": "code",
      "execution_count": null,
      "metadata": {
        "id": "O0k3dslvLIQd"
      },
      "outputs": [],
      "source": [
        "order = ['белое вино', 'салат Цезарь', 'паста Карбонара', 'чизкейк', 'шоколадный сорбет']"
      ]
    },
    {
      "cell_type": "code",
      "execution_count": null,
      "metadata": {
        "id": "D9s6foo_LIQh",
        "outputId": "953caac5-93c3-4d21-9ca7-299f1b880cb3"
      },
      "outputs": [
        {
          "name": "stdout",
          "output_type": "stream",
          "text": [
            "Enter what u want to del:чизкейк\n",
            "Enter what u want to insert:пиво\n",
            "['белое вино', 'салат Цезарь', 'паста Карбонара', 'пиво', 'шоколадный сорбет']\n"
          ]
        }
      ],
      "source": [
        "### YOUR CODE HERE ###\n",
        "f1 = input(\"Enter what u want to del: \")\n",
        "f2 = input(\"Enter what u want to insert: \")\n",
        "a = order.index(f1)\n",
        "order[a] = f2\n",
        "print(order)\n",
        "\n"
      ]
    },
    {
      "cell_type": "markdown",
      "metadata": {
        "id": "GLx0EKUiLIQj"
      },
      "source": [
        "__________________\n",
        "Вам дан словарь c расписанием на неделю. "
      ]
    },
    {
      "cell_type": "code",
      "execution_count": null,
      "metadata": {
        "id": "fbPqWtv_LIQl"
      },
      "outputs": [],
      "source": [
        "diary = {'понедельник': {\n",
        "                          'утро': ['погулять с собакой'],\n",
        "                          'день': [],\n",
        "                          'вечер': ['погулять с собакой']\n",
        "                                      },\n",
        "        'вторник': {\n",
        "                          'утро': ['погулять с собакой'],\n",
        "                          'день': [],\n",
        "                          'вечер': ['погулять с собакой']\n",
        "                                      },\n",
        "        'среда': {\n",
        "                          'утро': ['погулять с собакой'],\n",
        "                          'день': [],\n",
        "                          'вечер': ['погулять с собакой']\n",
        "                                      },\n",
        "        'четверг': {\n",
        "                          'утро': ['погулять с собакой'],\n",
        "                          'день': [],\n",
        "                          'вечер': ['погулять с собакой']\n",
        "                                      },\n",
        "        'пятница': {\n",
        "                          'утро': ['заехать в шиномонтаж', 'помыть машину'],\n",
        "                          'день': [],\n",
        "                          'вечер': ['поход в театр',  'ужин в кафе']\n",
        "                                      },\n",
        "        'суббота': {\n",
        "                          'утро': [],\n",
        "                          'день': [],\n",
        "                          'вечер': []\n",
        "                                      },\n",
        "        'воскресенье': {\n",
        "                          'утро': [],\n",
        "                          'день': [],\n",
        "                          'вечер': []\n",
        "                                      }}"
      ]
    },
    {
      "cell_type": "markdown",
      "metadata": {
        "id": "3FocVZkgLIQn"
      },
      "source": [
        "### 24.\n",
        "Удалите ключи `суббота` и `воскресенье`. Вместо них добавьте пару, где ключ — это кортеж `суббота, воскресенье`, а значение — список с делом `посадить цветы на даче`. Можно ли сделать ключ `суббота, воскресенье` списком?"
      ]
    },
    {
      "cell_type": "code",
      "execution_count": null,
      "metadata": {
        "id": "lcw8GWcnLIQo",
        "outputId": "e43f6e8c-bb71-4f84-afba-ad2b56b653f3"
      },
      "outputs": [
        {
          "name": "stdout",
          "output_type": "stream",
          "text": [
            "{'понедельник': {'утро': ['погулять с собакой'], 'день': [], 'вечер': ['погулять с собакой']}, 'вторник': {'утро': ['погулять с собакой'], 'день': [], 'вечер': ['погулять с собакой']}, 'среда': {'утро': ['погулять с собакой'], 'день': [], 'вечер': ['погулять с собакой']}, 'четверг': {'утро': ['погулять с собакой'], 'день': [], 'вечер': ['погулять с собакой']}, 'пятница': {'утро': ['заехать в шиномонтаж', 'помыть машину'], 'день': [], 'вечер': ['поход в театр', 'ужин в кафе']}, ('суббота', 'воскресенье'): ['посадить цветы на даче']}\n"
          ]
        }
      ],
      "source": [
        "### YOUR CODE HERE ###\n",
        "diary.pop(\"суббота\")\n",
        "diary.pop(\"воскресенье\")\n",
        "diary.setdefault((\"суббота\",\"воскресенье\"),[\"посадить цветы на даче\"])\n",
        "\n",
        "#нет, так как list изменяемый объект и не может быть задан в качестве ключа\n",
        "#diary.setdefault([\"суббота\",\"воскресенье\"],[\"посадить цветы на даче\"])\n",
        "\n",
        "print(diary)"
      ]
    },
    {
      "cell_type": "markdown",
      "metadata": {
        "id": "vVhNCrtLLIQs"
      },
      "source": [
        "### 25.\n",
        "Добавьте в список дел во вторник утром `поход к зубному`."
      ]
    },
    {
      "cell_type": "code",
      "execution_count": null,
      "metadata": {
        "id": "R4BiwaWlLIQu",
        "outputId": "e86162d6-ac2e-4d83-de1e-e2ba4eaa8d90"
      },
      "outputs": [
        {
          "name": "stdout",
          "output_type": "stream",
          "text": [
            "{'утро': ['погулять с собакой', 'поход к зубному'], 'день': [], 'вечер': ['погулять с собакой']}\n"
          ]
        }
      ],
      "source": [
        "### YOUR CODE HERE ###\n",
        "diary[\"вторник\"][\"утро\"].append(\"поход к зубному\")\n",
        "print(diary[\"вторник\"])\n"
      ]
    },
    {
      "cell_type": "markdown",
      "metadata": {
        "id": "BPQ5R-PkLIQ2"
      },
      "source": [
        "### 26.\n",
        "Замените `поход в театр` на `поход в кино` в списке дел в пятницу вечером."
      ]
    },
    {
      "cell_type": "code",
      "execution_count": null,
      "metadata": {
        "id": "nhqzOrZILIQ5",
        "outputId": "c935173d-65af-404a-fe9c-9e01e20e5cce"
      },
      "outputs": [
        {
          "name": "stdout",
          "output_type": "stream",
          "text": [
            "{'утро': ['заехать в шиномонтаж', 'помыть машину'], 'день': [], 'вечер': ['поход в кино', 'ужин в кафе']}\n"
          ]
        }
      ],
      "source": [
        "### YOUR CODE HERE ###\n",
        "i = diary[\"пятница\"][\"вечер\"].index('поход в театр')\n",
        "diary[\"пятница\"][\"вечер\"][i] = \"поход в кино\"\n",
        "print(diary[\"пятница\"])\n"
      ]
    },
    {
      "cell_type": "markdown",
      "metadata": {
        "id": "HCE0aq_BLIQ7"
      },
      "source": [
        "### 27.\n",
        "Ваш друг вернётся из отпуска на один день раньше, поэтому он заберёт свою собаку в среду, а не в четверг. Удалите дело `погулять с собакой` из соответствующих списков."
      ]
    },
    {
      "cell_type": "code",
      "execution_count": null,
      "metadata": {
        "id": "WPnIXdTVLIQ7",
        "outputId": "d2ee5356-f0d3-482d-bd8f-3fe4fff0eaed"
      },
      "outputs": [
        {
          "name": "stdout",
          "output_type": "stream",
          "text": [
            "{'утро': [], 'день': [], 'вечер': []}\n"
          ]
        }
      ],
      "source": [
        "### YOUR CODE HERE ###\n",
        "diary[\"четверг\"][\"утро\"].remove('погулять с собакой')\n",
        "diary[\"четверг\"][\"вечер\"].remove('погулять с собакой')\n",
        "print(diary[\"четверг\"])"
      ]
    },
    {
      "cell_type": "markdown",
      "metadata": {
        "id": "A80KVUrZLIQ9"
      },
      "source": [
        "### 28.\n",
        "Выведите второе дело из списка дел, которые вам нужно сделать в пятницу утром."
      ]
    },
    {
      "cell_type": "code",
      "execution_count": null,
      "metadata": {
        "id": "ofqEBNuZLIQ-",
        "outputId": "845d6cfb-2aa3-4eab-8cdd-5e17994f0a55"
      },
      "outputs": [
        {
          "data": {
            "text/plain": [
              "'помыть машину'"
            ]
          },
          "execution_count": 38,
          "metadata": {},
          "output_type": "execute_result"
        }
      ],
      "source": [
        "### YOUR CODE HERE ###\n",
        "diary[\"пятница\"][\"утро\"][1]\n"
      ]
    },
    {
      "cell_type": "code",
      "execution_count": null,
      "metadata": {
        "id": "JaJSretB9AVo"
      },
      "outputs": [],
      "source": [
        ""
      ]
    }
  ],
  "metadata": {
    "colab": {
      "collapsed_sections": [
        "t6Fgb0AkLIPK",
        "s2K0_TThLIPR",
        "WyhA3ipeLIPU",
        "Clfo7jhOLIPY",
        "U9glCsGCLIPb",
        "CHz6UIKyLIPi",
        "ZZehpNQuLIPm",
        "kwWQ1al2LIPr",
        "qnWdcLseLIP_",
        "BnxMhHlDLIQB",
        "ZxMi6_58LIQG",
        "6q6JEgziLIQK",
        "3NglY6CQLIQN",
        "oWERt2BRLIQR",
        "Q0u91-MILIQX",
        "nIgc10tKLIQc",
        "3FocVZkgLIQn",
        "vVhNCrtLLIQs",
        "BPQ5R-PkLIQ2",
        "HCE0aq_BLIQ7"
      ],
      "name": "jun_anl_data_structures_.ipynb",
      "provenance": []
    },
    "kernelspec": {
      "display_name": "Python 3",
      "language": "python",
      "name": "python3"
    },
    "language_info": {
      "codemirror_mode": {
        "name": "ipython",
        "version": 3
      },
      "file_extension": ".py",
      "mimetype": "text/x-python",
      "name": "python",
      "nbconvert_exporter": "python",
      "pygments_lexer": "ipython3",
      "version": "3.8.8"
    }
  },
  "nbformat": 4,
  "nbformat_minor": 0
}