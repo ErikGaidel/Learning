{
  "cells": [
    {
      "cell_type": "markdown",
      "metadata": {
        "id": "fm2YWUGvts2-"
      },
      "source": [
        "# Функции\n",
        "### Домашнее задание"
      ]
    },
    {
      "cell_type": "markdown",
      "metadata": {
        "id": "vtadtcbgts3A"
      },
      "source": [
        "#### 1.\n",
        "Почему возникла ошибка? Объясните и исправьте."
      ]
    },
    {
      "cell_type": "code",
      "execution_count": null,
      "metadata": {
        "id": "wYCHLbgJts3C",
        "outputId": "a5d47ca5-71fb-4003-ce4b-101f4c938e38"
      },
      "outputs": [
        {
          "name": "stdout",
          "output_type": "stream",
          "text": [
            "6\n"
          ]
        }
      ],
      "source": [
        "def factorial(n):\n",
        "    f = 1\n",
        "    for i in range(2, n + 1):\n",
        "        f = f * i\n",
        "    return f\n",
        "\n",
        "fac = factorial(3)\n",
        "print(fac)"
      ]
    },
    {
      "cell_type": "markdown",
      "metadata": {
        "id": "4AEgqr_Its3I"
      },
      "source": [
        "**Объяснение:** \n",
        "<br>f является локальной переменной функции factorial, поэтому print ее не видит в глобальном пространстве имен<br>"
      ]
    },
    {
      "cell_type": "markdown",
      "metadata": {
        "id": "A9jbY_Ixts3K"
      },
      "source": [
        "#### 2.\n",
        "Почему переменная S после запуска функции сохранила значение ноль?"
      ]
    },
    {
      "cell_type": "code",
      "execution_count": null,
      "metadata": {
        "id": "A_cfBf0Dts3L",
        "outputId": "6f596828-96d2-45bc-d050-56292af00604"
      },
      "outputs": [
        {
          "name": "stdout",
          "output_type": "stream",
          "text": [
            "7\n",
            "0\n"
          ]
        }
      ],
      "source": [
        "S = 0\n",
        "def sum(n, m):\n",
        "    S = n + m\n",
        "    return S\n",
        "\n",
        "print(sum(3, 4))\n",
        "print(S)"
      ]
    },
    {
      "cell_type": "markdown",
      "metadata": {
        "id": "oxwz4yVYts3P"
      },
      "source": [
        "**Объяснение:** \n",
        "<br>так как внутри функции создался локальный объект S, которому и была присвоена сумма входных параметров, при этом глобальная переменная осталась неизменной<br>"
      ]
    },
    {
      "cell_type": "markdown",
      "metadata": {
        "id": "ws1lmJfhts3R"
      },
      "source": [
        "#### 3.\n",
        "Почему возникла ошибка? Объясните и исправьте, чтобы функция могла работать с данными на входе в примере с `res`."
      ]
    },
    {
      "cell_type": "code",
      "execution_count": null,
      "metadata": {
        "id": "ad8eYc35ts3S",
        "outputId": "c991c697-d867-4403-f1fd-5851d65b7942"
      },
      "outputs": [
        {
          "name": "stdout",
          "output_type": "stream",
          "text": [
            "21\n"
          ]
        }
      ],
      "source": [
        "def mult( q, w, e, r, t, y):\n",
        "    return q + w + e + r + t + y\n",
        "res = mult(1, 2, 3, 4, 5, 6)\n",
        "print(res)"
      ]
    },
    {
      "cell_type": "markdown",
      "metadata": {
        "id": "yVwoWfiWts3Y"
      },
      "source": [
        "**Объяснение:** \n",
        "<br>при определении функции в качестве первого значения в скобках была указана *, что говорит о том что все передаваемые в функции параметры, указанные после *, должны бы именованными, и функция не принимает позиционных параметров. <br>"
      ]
    },
    {
      "cell_type": "markdown",
      "metadata": {
        "id": "UTT3sbJXts3a"
      },
      "source": [
        "#### 4.\n",
        "Почему возникла ошибка? Объясните и исправьте, чтобы функция могла работать с данными на входе в примере."
      ]
    },
    {
      "cell_type": "code",
      "execution_count": null,
      "metadata": {
        "id": "xizQ5rdqts3b",
        "outputId": "a52d4f28-5521-48fe-a968-13b7491cfb65"
      },
      "outputs": [
        {
          "name": "stdout",
          "output_type": "stream",
          "text": [
            "733036532959081958493044038604220573003076872623105825587799726719137081664242889213090239865705342028379233496941111919796792708971905802219444504019006104332493489107721493845412453899793946281899700834091715387952751830219643610349979360602856524762182507733859966860842500858768382394753399581156286449561160783713877222895092808637540218804927005623038569306841733685039433236910980897592858987002063924013988530964522502594931500371157643132061597303111367258489022159044511817010529399435883286083212695075903281596592105429678751689059533454035251548334986509241552406961532864939006610513597608967402985707857424513196823658884413602881077337616965779954194874666031301491450438900838443296921074535307486056701074634195717288344127864971903293281532919139948732795811179970577905638353069459326437465009401802406334569163539571111057039009740125070184999823974525412495495402254164218902587890625\n"
          ]
        },
        {
          "data": {
            "text/plain": [
              "' при задании функции было указано что она принимает 2 позиционных параметра и 1 обязательный именованный, \\nи при этом именованные параметры при вызове всегда должны идти за(быть после) позиционными'"
            ]
          },
          "execution_count": 11,
          "metadata": {},
          "output_type": "execute_result"
        }
      ],
      "source": [
        "def power(a, s, *, d):\n",
        "    res = a ** s ** d\n",
        "    print(res)\n",
        "    \n",
        "power( 5, 6, d = 4)\n",
        "\"\"\" при задании функции было указано что она принимает 2 позиционных параметра и 1 обязательный именованный, \n",
        "и при этом именованные параметры при вызове всегда должны идти за(быть после) позиционными\"\"\""
      ]
    },
    {
      "cell_type": "markdown",
      "metadata": {
        "id": "GfY6txsXts3f"
      },
      "source": [
        "#### 5.\n",
        "Почему возникла ошибка? Объясните и исправьте, чтобы функция могла работать с данными на входе в примере."
      ]
    },
    {
      "cell_type": "code",
      "execution_count": null,
      "metadata": {
        "id": "oYQQA2PBts3g",
        "outputId": "7036c68d-1c7f-4034-f3de-816e075f6059"
      },
      "outputs": [
        {
          "name": "stdout",
          "output_type": "stream",
          "text": [
            "29\n"
          ]
        },
        {
          "data": {
            "text/plain": [
              "'функция написана для принятия произвольного числа позиционных аргументов, \\nпри этом ей был передан список без распаковки как один элемент и попытка сложени объекта типа\\nлист с инт привела к ошибке, т.к. такой операции между ними не поддерживается'"
            ]
          },
          "execution_count": 14,
          "metadata": {},
          "output_type": "execute_result"
        }
      ],
      "source": [
        "def mult2(*args):\n",
        "    res = 1\n",
        "    for i in args:\n",
        "        res += i\n",
        "    return res\n",
        "\n",
        "List = [1, 2, 3, 4, 5, 6, 7]\n",
        "print(mult2(*List))\n",
        "\n",
        "\"\"\"функция написана для принятия произвольного числа позиционных аргументов, \n",
        "при этом ей был передан список без распаковки как один элемент и попытка сложени объекта типа\n",
        "лист с инт привела к ошибке, т.к. такой операции между ними не поддерживается\"\"\""
      ]
    },
    {
      "cell_type": "markdown",
      "metadata": {
        "id": "QcuTA23Uts3l"
      },
      "source": [
        "#### 6.\n",
        "Почему возникла ошибка? Объясните и исправьте."
      ]
    },
    {
      "cell_type": "code",
      "execution_count": null,
      "metadata": {
        "id": "N51MkraMts3n"
      },
      "outputs": [],
      "source": [
        "def some_function(a, b, *args, **kwargs):\n",
        "    pass"
      ]
    },
    {
      "cell_type": "markdown",
      "metadata": {
        "id": "Mj0qEUurts36"
      },
      "source": [
        "**Объяснение:** \n",
        "<br>именнованные параметры не могут идти перед позиционными<br>"
      ]
    },
    {
      "cell_type": "markdown",
      "metadata": {
        "id": "Me-VY77Bts37"
      },
      "source": [
        "#### 7.\n",
        "Почему не был создан новый список при повторном запуске функции? Объясните и исправьте."
      ]
    },
    {
      "cell_type": "code",
      "execution_count": null,
      "metadata": {
        "id": "wXhSLV5xts3-",
        "outputId": "aa4dbf80-bc9a-42c0-c402-e63a1a2c71b1"
      },
      "outputs": [
        {
          "name": "stdout",
          "output_type": "stream",
          "text": [
            "['яблоки', 'молоко', 'хлеб']\n",
            "['груши', 'йогурт', 'мясо']\n"
          ]
        }
      ],
      "source": [
        "def to_buy(*new_items, shopping_list = None):\n",
        "    if shopping_list == None:\n",
        "        shopping_list = []\n",
        "    for i in new_items:\n",
        "        shopping_list.append(i)\n",
        "    return shopping_list\n",
        "\n",
        "monday = to_buy('яблоки', 'молоко', 'хлеб')\n",
        "print(monday)\n",
        "\n",
        "tuesday = to_buy('груши', 'йогурт', 'мясо')\n",
        "print(tuesday)\n"
      ]
    },
    {
      "cell_type": "markdown",
      "metadata": {
        "id": "nfb7HR6Lts4I"
      },
      "source": [
        "**Объяснение:** \n",
        "<br>так как при таком вызове функции без передачи ей списка, при попытке создания параметра по умолчанию со списками, функция создает список и запоминает ссылку на него, и при последующих вызовах функции без передачи в нее списка будет изменяться впервые созданный список, и новых создаватсья не будет, надо создавать список через if в теле функции с проверкой изменено ли значение переменной по умолчанию или нет<br>"
      ]
    },
    {
      "cell_type": "markdown",
      "metadata": {
        "id": "nXWDuX9Kts4J"
      },
      "source": [
        "#### 8.\n",
        "Измените данную функцию так, чтобы она распечатывала названия продуктов из словаря в примере.\n"
      ]
    },
    {
      "cell_type": "code",
      "execution_count": null,
      "metadata": {
        "id": "SBW9DRlots4L",
        "outputId": "500ecd98-600a-4075-83fa-5c897ef31df8"
      },
      "outputs": [
        {
          "name": "stdout",
          "output_type": "stream",
          "text": [
            "яблоки\n",
            "молоко\n",
            "хлеб\n",
            "груши\n",
            "йогурт\n",
            "мясо\n"
          ]
        }
      ],
      "source": [
        "def print_all(kwargs):\n",
        "    for i in kwargs.values():\n",
        "        print(i)\n",
        "print_all({'1' : 'яблоки', '2' :'молоко', '3' : 'хлеб', '4' : 'груши', '5' : 'йогурт', '6' : 'мясо'})"
      ]
    },
    {
      "cell_type": "markdown",
      "metadata": {
        "id": "Qse7He_ets4W"
      },
      "source": [
        "#### 9.\n",
        "Программисты договорились, что переменные такого рода являются.. *(вопрос из лекции)*"
      ]
    },
    {
      "cell_type": "code",
      "execution_count": null,
      "metadata": {
        "id": "GZldqNGTts4Y"
      },
      "outputs": [],
      "source": [
        "TOKEN = ..."
      ]
    },
    {
      "cell_type": "markdown",
      "metadata": {
        "id": "XwagZX5bts4c"
      },
      "source": [
        "**Ответ:** \n",
        "<br>Константами\n",
        "<br>"
      ]
    },
    {
      "cell_type": "markdown",
      "metadata": {
        "id": "GhEM45Mots4d"
      },
      "source": [
        "#### 10.\n",
        "Напишите функцию, которая с помощью рекурсии считает сумму последовательности с шагом m. В качестве аргументов подаются целые положительные числа n (последний элемент последовательности) и m (шаг последовательности). Считается, что все члены последовательности являются целыми положительными числами.\n",
        "\n",
        "Пример:\n",
        "\n",
        "```\n",
        "sum_of_seq(5, 1)\n",
        "15\n",
        " \n",
        "sum_of_seq(5, 9)\n",
        "5\n",
        "\n",
        "sum_of_seq(8, 2)\n",
        "20\n",
        "```\n"
      ]
    },
    {
      "cell_type": "code",
      "execution_count": null,
      "metadata": {
        "id": "vPXkJ79ats4e",
        "outputId": "dc57bd8a-0512-4ff6-e635-0e36381acc61"
      },
      "outputs": [
        {
          "name": "stdout",
          "output_type": "stream",
          "text": [
            "20\n"
          ]
        }
      ],
      "source": [
        "### YOUR CODE HERE ###\n",
        "def sum_of_seq(n, m):\n",
        "    sum = 0\n",
        "    if m > n:\n",
        "        return n\n",
        "    for i in range(0, n + 1, m):\n",
        "        sum += i\n",
        "    return sum\n",
        "\n",
        "\n",
        "print(sum_of_seq(8, 2))"
      ]
    },
    {
      "cell_type": "markdown",
      "metadata": {
        "id": "_nuDRzdBts4k"
      },
      "source": [
        "#### 11.\n",
        "Напишите функцию, которая возводит число в положительную степень с помощью рекурсии. В качестве аргументов подаются целые положительные числа n (число) и m (степень)."
      ]
    },
    {
      "cell_type": "code",
      "execution_count": null,
      "metadata": {
        "id": "_9_BMZCxts4m",
        "outputId": "b28a2e1f-fc44-4c03-d024-118fc38d4f02"
      },
      "outputs": [
        {
          "name": "stdout",
          "output_type": "stream",
          "text": [
            "Help on function pow in module __main__:\n",
            "\n",
            "pow(n, m)\n",
            "    Рекурсивная функция возведения в степень:\n",
            "    n - число которое возводится в степень\n",
            "    m - степень в которую надо возвести\n",
            "    return - возвращает число n в степени m\n",
            "\n",
            "10000000\n"
          ]
        }
      ],
      "source": [
        "### YOUR CODE HERE ###\n",
        "def pow(n, m):\n",
        "    \"\"\" Рекурсивная функция возведения в степень:\n",
        "        n - число которое возводится в степень\n",
        "        m - степень в которую надо возвести\n",
        "        return - возвращает число n в степени m \"\"\"\n",
        "    if m == 1:\n",
        "        return n\n",
        "    pow_m_minus_1 = pow(n, m - 1)\n",
        "    return n * pow_m_minus_1\n",
        "\n",
        "help(pow)\n",
        "print(pow(10, 7))"
      ]
    },
    {
      "cell_type": "markdown",
      "metadata": {
        "id": "1K4dbMwcts4v"
      },
      "source": [
        "#### 12.\n",
        "Напишите функцию, которая возводит число в отрицательную степень число с помощью рекурсии. В качестве аргументов подаются целое положительное число n (число) и целое отрицательное число m (степень)."
      ]
    },
    {
      "cell_type": "code",
      "execution_count": null,
      "metadata": {
        "id": "ddZY7Fdxts4x",
        "outputId": "e39dc162-0da9-432f-fa0a-0bf779749853"
      },
      "outputs": [
        {
          "name": "stdout",
          "output_type": "stream",
          "text": [
            "Help on function pow_obr in module __main__:\n",
            "\n",
            "pow_obr(n, m)\n",
            "    Рекурсивная функция возведения в отрицательную степень:\n",
            "    n - число которое возводится в степень\n",
            "    m - отрицательная степень в которую надо возвести\n",
            "    return - возвращает число n в степени m\n",
            "\n",
            "0.0001\n"
          ]
        }
      ],
      "source": [
        "### YOUR CODE HERE ###\n",
        "def pow_obr(n, m):\n",
        "    \"\"\" Рекурсивная функция возведения в отрицательную степень:\n",
        "        n - число которое возводится в степень\n",
        "        m - отрицательная степень в которую надо возвести\n",
        "        return - возвращает число n в степени m \"\"\"\n",
        "    m = abs(m)\n",
        "    if m == 1:\n",
        "        return 1/n\n",
        "    pow_m_minus_1 = pow_obr(n, m - 1)\n",
        "    return pow_m_minus_1 / n\n",
        "\n",
        "help(pow_obr)\n",
        "print(pow_obr(10, -4))"
      ]
    },
    {
      "cell_type": "markdown",
      "metadata": {
        "id": "IxBt4VyQts41"
      },
      "source": [
        "#### 13.\n",
        "\n",
        "Напишите функцию, которая находит число Фиббоначи по его номеру. В качестве аргумента подается целое положительное число n (число)."
      ]
    },
    {
      "cell_type": "code",
      "execution_count": null,
      "metadata": {
        "id": "8DEaBWjkts43",
        "outputId": "220b7bf5-69fb-40d5-da16-82bcc45a7696"
      },
      "outputs": [
        {
          "name": "stdout",
          "output_type": "stream",
          "text": [
            "13\n"
          ]
        }
      ],
      "source": [
        "### YOUR CODE HERE ###\n",
        "def n_num_of_fibon(n):\n",
        "    if n in [1,2]:\n",
        "        return 1\n",
        "    num_of_fibon = n_num_of_fibon(n - 1) + n_num_of_fibon(n - 2)\n",
        "    return num_of_fibon\n",
        "\n",
        "\n",
        "print(n_num_of_fibon(7))"
      ]
    },
    {
      "cell_type": "code",
      "execution_count": null,
      "metadata": {
        "id": "eOHdGHWx_Dvs"
      },
      "outputs": [],
      "source": [
        ""
      ]
    }
  ],
  "metadata": {
    "colab": {
      "collapsed_sections": [],
      "name": "jun_anl_functions_.ipynb",
      "provenance": []
    },
    "kernelspec": {
      "display_name": "Python 3",
      "language": "python",
      "name": "python3"
    },
    "language_info": {
      "codemirror_mode": {
        "name": "ipython",
        "version": 3
      },
      "file_extension": ".py",
      "mimetype": "text/x-python",
      "name": "python",
      "nbconvert_exporter": "python",
      "pygments_lexer": "ipython3",
      "version": "3.8.8"
    }
  },
  "nbformat": 4,
  "nbformat_minor": 0
}