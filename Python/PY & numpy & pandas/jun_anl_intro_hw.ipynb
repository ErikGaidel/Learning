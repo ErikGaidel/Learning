{
  "cells": [
    {
      "cell_type": "markdown",
      "metadata": {
        "id": "-eiC8SAWkdVl"
      },
      "source": [
        "# Введение в Python\n",
        "\n",
        "\n",
        "## Домашнее задание"
      ]
    },
    {
      "cell_type": "markdown",
      "metadata": {
        "id": "DDQL_xHDkdVo"
      },
      "source": [
        "**Цель блока заданий:** в данном блоке задач вы закрепите базовые навыки работы с языком программирования Python. \n",
        "\n",
        "**Рекомендации к выполнению блока заданий:** \n",
        "1. Общепринятым стилем оформления кода на языке Python является стандарт PEP8. Пожалуйста, старайтесь придерживаться заданного стиля кода. Уделите особое внимание пробелам (https://www.python.org/dev/peps/pep-0008/#whitespace-in-expressions-and-statements).\n",
        "2. В задачах понадобится запрашивать какую-то информацию у пользователя с клавиатуры. Для этого нужно использовать функцию `input()`, примеры использования которой были приведены в видеоуроках.\n",
        "\n",
        "**Критерии оценки:** задания считаются выполненными, если программа выводит корректный результат."
      ]
    },
    {
      "cell_type": "markdown",
      "metadata": {
        "id": "pub-c6qUkdVp"
      },
      "source": [
        "### Задача 1\n",
        "\n",
        "Вычислите в Python:\n",
        "    \n",
        "$9^2 + 6^4$;\n",
        "\n",
        "$\\log(54)$ (натуральный логарифм);\n",
        "\n",
        "$\\sqrt{8} - \\sqrt{12}$;\n",
        "\n",
        "$\\sin(45) + \\cos(45)$."
      ]
    },
    {
      "cell_type": "code",
      "execution_count": null,
      "metadata": {
        "id": "-qv5sUERkdVq",
        "outputId": "74cc3de8-f3f8-4a83-ca7d-e826afff73f1"
      },
      "outputs": [
        {
          "data": {
            "text/plain": [
              "(1377, 3.9889840465642745, -0.6356744903915641, 1.3762255133518482)"
            ]
          },
          "execution_count": 4,
          "metadata": {},
          "output_type": "execute_result"
        }
      ],
      "source": [
        "import math\n",
        "a1 = 9**2 + 6**4\n",
        "a2 = math.log(54)\n",
        "a3 = math.sqrt(8) - math.sqrt(12)\n",
        "a4 = math.sin(45) + math.cos(45)\n",
        "a1,a2,a3,a4"
      ]
    },
    {
      "cell_type": "markdown",
      "metadata": {
        "id": "lUSN-KVtkdVu"
      },
      "source": [
        "### Задача 2\n",
        "\n",
        "Напишите программу, которая запрашивает у пользователя размер обуви, а выводит на экран размер скальных туфель (туфли для скалолазания), учитывая, что обычно размер скальных туфель на два размера меньше обычного.\n",
        "\n",
        "**Пример работы программы:**\n",
        "\n",
        "*Входные данные*\n",
        "\n",
        "    38\n",
        "\n",
        "*Выходные данные*\n",
        "\n",
        "    36"
      ]
    },
    {
      "cell_type": "code",
      "execution_count": null,
      "metadata": {
        "id": "234urC4DkdVv",
        "outputId": "2f7840d9-a809-4cf0-dc0b-6368a2aa15a5"
      },
      "outputs": [
        {
          "name": "stdout",
          "output_type": "stream",
          "text": [
            "Enter yput shoes size:14\n",
            "Your size for mount shoes is 12\n"
          ]
        }
      ],
      "source": [
        "r = int(input(\"Enter yput shoes size:\"))\n",
        "r1 = str(r-2)\n",
        "print(\"Your size for mount shoes is \" + r1 )\n"
      ]
    },
    {
      "cell_type": "markdown",
      "metadata": {
        "id": "Il01q2nXkdVy"
      },
      "source": [
        "### Задача 3\n",
        "\n",
        "Тест по английскому языку состоит из трёх частей. Ученик последовательно вводит с клавиатуры набранные баллы за каждую часть — три целых числа. Каждое число вводится на отдельной строке, то есть `input()` запрашивается три раза. Напишите программу, которая считает итоговый балл за тест — сумму баллов за три части.\n",
        "\n",
        "**Пример работы программы:**\n",
        "\n",
        "*Входные данные*\n",
        "\n",
        "    5\n",
        "    4\n",
        "    6\n",
        "    \n",
        "*Выходные данные*\n",
        "\n",
        "    15"
      ]
    },
    {
      "cell_type": "code",
      "execution_count": null,
      "metadata": {
        "id": "OQSXwixJkdVz",
        "outputId": "626cc6f8-60f3-44b6-902e-ac7497f03a38"
      },
      "outputs": [
        {
          "name": "stdout",
          "output_type": "stream",
          "text": [
            "Enter your mark1 :1\n",
            "Enter your mark2 :2\n",
            "Enter your mark3 :3\n",
            "Sum of marks: 6\n"
          ]
        }
      ],
      "source": [
        "m1 = int(input(\"Enter your mark1 :\"))\n",
        "m2 = int(input(\"Enter your mark2 :\"))\n",
        "m3 = int(input(\"Enter your mark3 :\"))\n",
        "sum = str(m1+m2+m3)\n",
        "print(\"Sum of marks: \" + sum)"
      ]
    },
    {
      "cell_type": "markdown",
      "metadata": {
        "id": "W1SVMo7XkdV2"
      },
      "source": [
        "### Задача 4\n",
        "\n",
        "В переменной `salary` хранится значение заработной платы человека в рублях (можете сами присвоить `salary` какое-нибудь значение).\n",
        "\n",
        "Напишите программу, которая выражает заработную плату человека в *тысячах рублей* и\n",
        "\n",
        "\n",
        "a) сохраняет результат в переменную `salary_th` и выводит результат на экран;\n",
        "\n",
        "b) выводит на экран сообщение (с подставленным вместо `___` значением):\n",
        "\n",
        "    Ваша заработная плата __ тысяч рублей.\n",
        "    \n",
        "**Пример работы программы (пункт a):**\n",
        "\n",
        "\n",
        "*Входные данные*\n",
        "\n",
        "    salary = 35000\n",
        "\n",
        "*Выходные данные*\n",
        "    \n",
        "    35\n",
        "    \n",
        "**Пример работы программы (пункт b):**\n",
        "\n",
        "\n",
        "*Входные данные*\n",
        "\n",
        "    salary = 35000\n",
        "\n",
        "*Выходные данные*\n",
        "    \n",
        "    Ваша заработная плата 35 тысяч рублей."
      ]
    },
    {
      "cell_type": "code",
      "execution_count": null,
      "metadata": {
        "id": "dVOAx8UokdV3",
        "outputId": "830e3329-d2e7-4653-d47d-8ea6ed40d41d"
      },
      "outputs": [
        {
          "name": "stdout",
          "output_type": "stream",
          "text": [
            "Ваша заработная плата 80.0 тысяч рублей\n"
          ]
        }
      ],
      "source": [
        "salary = 80000\n",
        "salary_th = str(salary / 1000)\n",
        "print(\"Ваша заработная плата \" + salary_th + \" тысяч рублей\")\n"
      ]
    },
    {
      "cell_type": "markdown",
      "metadata": {
        "id": "Nd1Ju-tnkdV6"
      },
      "source": [
        "### Задача 5\n",
        "\n",
        "Напишите программу, которая запрашивает у пользователя сумму (в рублях), которую он хочет перевести своему другу на карту другого банка, и возвращает сумму списания (в рублях) с учётом комиссии банка 5%.\n",
        "\n",
        "*Примечание:* считайте, что сумма перевода — целое число.\n",
        "\n",
        "**Пример работы программы:**\n",
        "\n",
        "*Входные данные*\n",
        "\n",
        "    1000\n",
        "\n",
        "*Выходные данные*\n",
        "\n",
        "    1050.0"
      ]
    },
    {
      "cell_type": "code",
      "execution_count": null,
      "metadata": {
        "id": "7wqVY-tikdV6",
        "outputId": "46bd117d-87ca-4a00-d8a7-523e775a5217"
      },
      "outputs": [
        {
          "name": "stdout",
          "output_type": "stream",
          "text": [
            "Enter how much money u want to send: 5000\n",
            "U spent: 5250.0\n"
          ]
        }
      ],
      "source": [
        "s = int(input(\"Enter how much money u want to send: \"))\n",
        "s = str(s + s * 0.05)\n",
        "print(\"U spent: \" + s)"
      ]
    },
    {
      "cell_type": "markdown",
      "metadata": {
        "id": "0kvyXTbDkdV9"
      },
      "source": [
        "### Задача 6\n",
        "\n",
        "Питон выполз на улицу погулять и решил поиграть: просил прохожих назвать какую-нибудь цифру (то есть ввести её с клавиатуры) и приписывал эту цифру к цифре, которую назвал предыдущий прохожий. Напишите код, который позволит определить, какое число получится после опроса четырёх прохожих, если известно, что первый прохожий назвал цифру 5. Задача не подразумевает использование циклов; запускать код несколько раз / копировать строки кода или ячейки можно. Обратите внимание: в результате должно получиться *целое число*, не строка.\n",
        "\n",
        "**Пример-пояснение:** первый назвал цифру 5, второй — цифру 6, третий ‒ 3. Получили число 563.\n",
        "\n",
        "**Пример работы программы:**\n",
        "\n",
        "*Входные данные*\n",
        "\n",
        "    5\n",
        "    6\n",
        "    3\n",
        "    0\n",
        "    \n",
        "*Выходные данные*\n",
        "    \n",
        "    5630\n",
        "\n",
        "**Подсказка:** для склеивания строк (такая операция называется *конкатенацией*) в Python используется `+`:"
      ]
    },
    {
      "cell_type": "code",
      "execution_count": null,
      "metadata": {
        "id": "btYjLFjNkdV-",
        "outputId": "50606b06-cc69-4eb5-8a25-49eb37fc56ba"
      },
      "outputs": [
        {
          "name": "stdout",
          "output_type": "stream",
          "text": [
            "password\n"
          ]
        }
      ],
      "source": [
        "a = \"pass\"\n",
        "b = \"word\"\n",
        "\n",
        "print(a + b)"
      ]
    },
    {
      "cell_type": "code",
      "execution_count": null,
      "metadata": {
        "id": "ejsz4-uAkdWC",
        "outputId": "c6b9a27c-69b7-463c-e78d-efc24c6b62b3"
      },
      "outputs": [
        {
          "name": "stdout",
          "output_type": "stream",
          "text": [
            "Enter the number:5\n",
            "Enter the number:3\n",
            "Enter the number:4\n",
            "Enter the number:0\n",
            "5340\n"
          ]
        }
      ],
      "source": [
        "a1 = input(\"Enter the number:\")\n",
        "a2 = input(\"Enter the number:\")\n",
        "a3 = input(\"Enter the number:\")\n",
        "a4 = input(\"Enter the number:\")\n",
        "i = int(a1+a2+a3+a4)\n",
        "print(i)"
      ]
    },
    {
      "cell_type": "markdown",
      "metadata": {
        "id": "Yr8GSn1JkdWG"
      },
      "source": [
        "### Задача 7* (дополнительная)\n",
        "\n",
        "Дано целое число `n`. Выведите следующее за ним чётное число. При решении этой задачи *нельзя* использовать условный оператор `if` и циклы.\n",
        "\n",
        "**Подсказка.** В Python существует оператор целочисленного деления `//` (обсуждался в видеоуроках) и взятия остатка при делении `%`. Например, результат выполнения операции `15 % 7` равен 1:"
      ]
    },
    {
      "cell_type": "code",
      "execution_count": null,
      "metadata": {
        "id": "97tbuxIzkdWH",
        "outputId": "027afe5d-8b24-466e-ad2f-9f4e1bb4a0a3"
      },
      "outputs": [
        {
          "data": {
            "text/plain": [
              "1"
            ]
          },
          "execution_count": 3,
          "metadata": {
            "tags": []
          },
          "output_type": "execute_result"
        }
      ],
      "source": [
        "15 % 7 # 15 : 7 = 2 и 1 в остатке"
      ]
    },
    {
      "cell_type": "markdown",
      "metadata": {
        "id": "IalVHEqWkdWL"
      },
      "source": [
        "**Примеры работы программы**\n",
        "\n",
        "*Входные данные*\n",
        "\n",
        "    7\n",
        "\n",
        "*Выходные данные*\n",
        "\n",
        "    8\n",
        "\n",
        "*Входные данные*\n",
        "\n",
        "    8\n",
        "\n",
        "*Выходные данные*\n",
        "\n",
        "    10"
      ]
    },
    {
      "cell_type": "code",
      "execution_count": null,
      "metadata": {
        "id": "8lJLYbCNkdWM",
        "outputId": "34d99f59-2f16-4404-e845-726b06a314e5"
      },
      "outputs": [
        {
          "name": "stdout",
          "output_type": "stream",
          "text": [
            "Enter your number: 8\n",
            "Smallest even that more than your nubmer is: 10\n"
          ]
        }
      ],
      "source": [
        "n1 = int(input(\"Enter your number: \"))\n",
        "n2 = n1 + 1\n",
        "n3 = n2 + 1\n",
        "n4 = (n3+n2)//2 + n2%2\n",
        "print(\"Smallest even that more than your nubmer is: \" + str(n4))\n"
      ]
    },
    {
      "cell_type": "code",
      "execution_count": null,
      "metadata": {
        "id": "DZTDY8wL_NBN"
      },
      "outputs": [],
      "source": [
        ""
      ]
    }
  ],
  "metadata": {
    "colab": {
      "collapsed_sections": [],
      "name": "jun_anl_intro_hw.ipynb",
      "provenance": []
    },
    "kernelspec": {
      "display_name": "Python 3",
      "language": "python",
      "name": "python3"
    },
    "language_info": {
      "codemirror_mode": {
        "name": "ipython",
        "version": 3
      },
      "file_extension": ".py",
      "mimetype": "text/x-python",
      "name": "python",
      "nbconvert_exporter": "python",
      "pygments_lexer": "ipython3",
      "version": "3.8.8"
    }
  },
  "nbformat": 4,
  "nbformat_minor": 0
}