{
  "cells": [
    {
      "cell_type": "markdown",
      "metadata": {
        "id": "X9wfb-pqPzYu"
      },
      "source": [
        "# Циклы и условия\n",
        "\n",
        "## Домашняя работа\n",
        "Эта домашняя работа должна быть решена **БЕЗ** использования готовых функций (если именно они «решают» задачу) и сторонних библиотек. Используйте циклы и условия."
      ]
    },
    {
      "cell_type": "markdown",
      "metadata": {
        "id": "LWsFp-lTB1SY"
      },
      "source": [
        "**Цель блока заданий:** в данном блоке задач вы потренируетесь использовать циклы и условные операторы для решения практических задач.\n",
        "\n",
        "**Критерии оценки:** задания считаются выполненными, если программа выводит корректный ответ."
      ]
    },
    {
      "cell_type": "markdown",
      "metadata": {
        "id": "DMpu8uUoPzY0"
      },
      "source": [
        "## 1\n",
        "\n",
        "Напишите программу, которая будет запрашивать на вход числа (через запятую на одной строке) и выводить наибольшее значение из списка.\n",
        "<br><br>\n",
        "*Ограничение: нельзя пользоваться готовой функцией для нахождения максимума (например, `max()`), готовыми функциями и методами сортировки (например, `sort()`,`sorted()`), функцией set().*\n",
        "<br>\n",
        "<br>\n",
        "*Формат ввода:* <br>\n",
        "1, 2, 3, 6, 7<br><br>\n",
        "\n",
        "*Формат вывода:* <br>\n",
        "7"
      ]
    },
    {
      "cell_type": "markdown",
      "metadata": {
        "id": "jc-6GNtHB1SZ"
      },
      "source": [
        "**Рекомендации к выполнению задания:** попробуйте создать переменную, в которой будете хранить максимум. Итерируя по списку входных значений, сравните максимум с каждым элементом. В случае, если элемент оказался больше максимума, присвойте данной переменной новое значение."
      ]
    },
    {
      "cell_type": "code",
      "execution_count": null,
      "metadata": {
        "id": "dHs34-p-PzY3",
        "outputId": "9124218b-be48-4898-dd21-f6a95b04028a"
      },
      "outputs": [
        {
          "name": "stdout",
          "output_type": "stream",
          "text": [
            "3, 5, 8, 8, 3, 1, 5\n",
            "8\n"
          ]
        }
      ],
      "source": [
        "### YOUR CODE HERE ###\n",
        "str_num = input()\n",
        "my_list = str_num.split(\",\")\n",
        "max_num = my_list[0]\n",
        "for num in my_list:\n",
        "    num = num.lstrip()\n",
        "    if max_num >= num:\n",
        "        continue\n",
        "    else:\n",
        "        max_num = num\n",
        "print(max_num)"
      ]
    },
    {
      "cell_type": "markdown",
      "metadata": {
        "id": "sCF9Hd9rPzZD"
      },
      "source": [
        "### 2\n",
        "\n",
        "Напишите программу, которая будет запрашивать на вход числа (каждое с новой строки) до тех пор, пока не будет введён ноль (0). На выход должно выводиться второе по величине значение.\n",
        "<br><br>\n",
        "*Ограничение: нельзя пользоваться готовой функцией для нахождения максимума (например, `max()`), готовыми функциями и методами сортировки (например, `sort()`,`sorted()`).*\n",
        "<br><br>\n",
        "*Формат ввода:* <br>\n",
        "4<br>\n",
        "6<br>\n",
        "7<br>\n",
        "7<br>\n",
        "0\n",
        "<br><br>\n",
        "\n",
        "*Формат вывода:* <br>\n",
        "6"
      ]
    },
    {
      "cell_type": "markdown",
      "metadata": {
        "id": "3wgCKyz8B1Se"
      },
      "source": [
        "**Рекомендации к выполнению задания:** попробуйте реализовать идею решения из предыдущего задания, используя две переменные для хранения максимумов."
      ]
    },
    {
      "cell_type": "code",
      "execution_count": null,
      "metadata": {
        "id": "yrJk-mEjPzZF",
        "outputId": "8d8f1b5f-692e-4c82-9723-c4b3a9804e2b"
      },
      "outputs": [
        {
          "name": "stdout",
          "output_type": "stream",
          "text": [
            "7\n",
            "5\n",
            "1\n",
            "9\n",
            "45\n",
            "18\n",
            "2\n",
            "7\n",
            "6\n",
            "3\n",
            "0\n",
            "18\n"
          ]
        }
      ],
      "source": [
        "### YOUR CODE HERE ###\n",
        "my_set = set()\n",
        "\n",
        "while True:\n",
        "    a = int(input())\n",
        "    if a == 0:\n",
        "        break\n",
        "    else:\n",
        "        my_set.add(a)\n",
        "\n",
        "my_list = list(my_set)\n",
        "\n",
        "if my_list[0] > my_list[1]: \n",
        "    max_num = my_list[0]\n",
        "    prev_max_num = my_list[1]\n",
        "else:\n",
        "    max_num = my_list[1]\n",
        "    prev_max_num = my_list[0]\n",
        "\n",
        "for num in my_list:\n",
        "    if num > max_num:\n",
        "        prev_max_num = max_num\n",
        "        max_num = num\n",
        "    elif num > prev_max_num:\n",
        "        prev_max_num = num\n",
        "    else:\n",
        "        continue\n",
        "\n",
        "print(prev_max_num)\n"
      ]
    },
    {
      "cell_type": "markdown",
      "metadata": {
        "id": "fdJZMUtGPzZN"
      },
      "source": [
        "### 3\n",
        "\n",
        "Напишите программу, которая принимает на вход год, а на выход выдаёт количество дней в этом году.\n",
        "<br><br>\n",
        "*Формат ввода:* <br>\n",
        "2020<br><br>\n",
        "\n",
        "*Формат вывода:* <br>\n",
        "366"
      ]
    },
    {
      "cell_type": "markdown",
      "metadata": {
        "id": "3RIf28qDB1Sh"
      },
      "source": [
        "**Рекомендации к выполнению задания:** вспомните свойство делимости для високосных годов."
      ]
    },
    {
      "cell_type": "code",
      "execution_count": null,
      "metadata": {
        "id": "Dk6PDx-jPzZP",
        "outputId": "87ef47e6-dfc4-484a-a326-cc3f0e1a1d45"
      },
      "outputs": [
        {
          "name": "stdout",
          "output_type": "stream",
          "text": [
            "2021\n",
            "365\n"
          ]
        }
      ],
      "source": [
        "### YOUR CODE HERE ###\n",
        "g = int(input())\n",
        "if g % 4 == 0 and g % 100 != 0 or g % 400 == 0:\n",
        "    print(366)\n",
        "else:\n",
        "    print(365)"
      ]
    },
    {
      "cell_type": "markdown",
      "metadata": {
        "id": "wFGBh0dYPzZV"
      },
      "source": [
        "### 4\n",
        "\n",
        "Напишите программу, которая на вход получает координаты двух клеток шахматной доски и выводит соощение о том, являются ли эти клетки одного цвета.\n",
        "<br><br>\n",
        "*Формат ввода:* <br>\n",
        "c2<br>\n",
        "e4<br><br>\n",
        "\n",
        "*Формат вывода:* <br>\n",
        "Клетки одинакового цвета"
      ]
    },
    {
      "cell_type": "markdown",
      "metadata": {
        "id": "_VJtexxXB1Sk"
      },
      "source": [
        "**Рекомендации к выполнению задания:** попробуйте заметить закономерность о чётности и нечётности суммы координат клеток, если считать, что координаты клеток задаются только цифрами от 1 до 8. "
      ]
    },
    {
      "cell_type": "code",
      "execution_count": null,
      "metadata": {
        "id": "k-8POcqGPzZW",
        "outputId": "0b2acdaf-ccc5-494b-ffc3-1221a05ba35f"
      },
      "outputs": [
        {
          "name": "stdout",
          "output_type": "stream",
          "text": [
            "c2\n",
            "e4\n",
            "Клетки одинакового цвета\n"
          ]
        }
      ],
      "source": [
        "### YOUR CODE HERE ###\n",
        "c, k = input(), input()\n",
        "list = [\"a\", \"b\", \"c\", \"d\", \"e\", \"f\", \"j\", \"k\"]\n",
        "c_1 = list.index(c[0]) + int(c[1])\n",
        "c_2 = list.index(k[0]) + int(k[1])\n",
        "if c_1 % 2 == c_2 % 2:\n",
        "    print(\"Клетки одинакового цвета\")\n",
        "else:\n",
        "    print(\"Клетки не одинакового цвета\")"
      ]
    },
    {
      "cell_type": "markdown",
      "metadata": {
        "id": "O594rz0tPzZb"
      },
      "source": [
        "### 5\n",
        "\n",
        "Напишите программу, которая на вход получает число, а на выходе сообщает, простое это число или составное.\n",
        "<br><br>\n",
        "*Формат ввода:* <br>\n",
        "169<br><br>\n",
        "\n",
        "*Формат вывода:* <br>\n",
        "Составное число"
      ]
    },
    {
      "cell_type": "markdown",
      "metadata": {
        "id": "NQjUV04_B1So"
      },
      "source": [
        "**Рекомендации к выполнению задания:** помните, что простых чисел бесконечно много, а любое произведение простых чисел даёт составное число. "
      ]
    },
    {
      "cell_type": "code",
      "execution_count": null,
      "metadata": {
        "id": "-Oy1AesyPzZd",
        "outputId": "52ad3146-bcda-47a4-a51a-524741ff0af9"
      },
      "outputs": [
        {
          "name": "stdout",
          "output_type": "stream",
          "text": [
            "169\n",
            "Составное число\n"
          ]
        }
      ],
      "source": [
        "### YOUR CODE HERE ###\n",
        "num = int(input())\n",
        "for i in range(2, num):\n",
        "    if num % i == 0:\n",
        "        print(\"Составное число\")\n",
        "        break\n",
        "else:\n",
        "    print(\"Простое число\")"
      ]
    },
    {
      "cell_type": "markdown",
      "metadata": {
        "id": "QzBAQaW8PzZg"
      },
      "source": [
        "### 6\n",
        "\n",
        "Напишите программу, которая на вход получает целое число больше 2 и выводит по нему его наименьший натуральный делитель, отличный от 1.\n",
        "<br><br>\n",
        "*Формат ввода:* <br>\n",
        "169<br><br>\n",
        "\n",
        "*Формат вывода:* <br>\n",
        "13"
      ]
    },
    {
      "cell_type": "code",
      "execution_count": null,
      "metadata": {
        "id": "Z2QzgAYKPzZi",
        "outputId": "65e08e88-ab9d-4428-beef-2a6b716be14d"
      },
      "outputs": [
        {
          "name": "stdout",
          "output_type": "stream",
          "text": [
            "121\n",
            "11\n"
          ]
        }
      ],
      "source": [
        "### YOUR CODE HERE ###\n",
        "num = int(input())\n",
        "for i in range(2, num + 1):\n",
        "    if num % i == 0:\n",
        "        print(i)\n",
        "        break\n"
      ]
    },
    {
      "cell_type": "markdown",
      "metadata": {
        "id": "Mdg_IAfFPzZk"
      },
      "source": [
        "### 7\n",
        "\n",
        "Напишите программу, которая поможет составить план тренировок для подготовки к марафону. Она получает на вход число километров на планируемом марафоне, сколько пользователь планирует пробежать в первый день тренировок и на сколько процентов планирует увеличивать каждый день это расстояние. На выходе программа должна выдавать, сколько дней пользователю потребуется для того, чтобы подготовиться пробежать целевое количество километров.\n",
        "<br><br>\n",
        "*Ограничение: нельзя пользоваться функцией `ceil()` из модуля `math` и её аналогами.*\n",
        "<br><br>\n",
        "*Формат ввода:* <br>\n",
        "12<br>\n",
        "3<br>\n",
        "10<br><br>\n",
        "\n",
        "*Формат вывода:* <br>\n",
        "16"
      ]
    },
    {
      "cell_type": "code",
      "execution_count": null,
      "metadata": {
        "id": "mXeF6AMWPzZl",
        "outputId": "f1b92d90-bf4c-46c2-c549-b2ce0c481538"
      },
      "outputs": [
        {
          "name": "stdout",
          "output_type": "stream",
          "text": [
            "12\n",
            "3\n",
            "10\n",
            "16\n"
          ]
        }
      ],
      "source": [
        "### YOUR CODE HERE ###\n",
        "s, p, g = int(input()), int(input()), int(input())\n",
        "pt, d = p, 1\n",
        "while pt < s:\n",
        "    pt += (g/100) * pt\n",
        "    d += 1\n",
        "print(d)"
      ]
    },
    {
      "cell_type": "markdown",
      "metadata": {
        "id": "sxKoWpYKPzZo"
      },
      "source": [
        "### 8\n",
        "\n",
        "Напишите программу, которая на вход получает число n и считает по нему сумму 1²+2²+3²+...+n².\n",
        "<br><br>\n",
        "*Ограничение: нельзя пользоваться функцией `sum()` и её аналогами.*\n",
        "\n",
        "*Формат ввода:* <br>\n",
        "3<br><br>\n",
        "\n",
        "*Формат вывода:* <br>\n",
        "14"
      ]
    },
    {
      "cell_type": "code",
      "execution_count": null,
      "metadata": {
        "id": "RiPlWLm6PzZp",
        "outputId": "cd8bd790-2181-416e-aefe-bb8cf49a9b81"
      },
      "outputs": [
        {
          "name": "stdout",
          "output_type": "stream",
          "text": [
            "4\n",
            "30\n"
          ]
        }
      ],
      "source": [
        "### YOUR CODE HERE ###\n",
        "n = int(input())\n",
        "s = 0\n",
        "for i in range(1, n + 1):\n",
        "    s += i ** 2\n",
        "print(s)\n"
      ]
    },
    {
      "cell_type": "markdown",
      "metadata": {
        "id": "aXzG4-wdPzZr"
      },
      "source": [
        "## 9\n",
        "\n",
        "Напишите программу, которая на вход получает число n и считает по нему сумму сумму 1! + 2! + 3! + ... + n!\n",
        "<br><br>\n",
        "*Ограничение: нельзя пользоваться готовой функцией `factorial()` из модуля `math`, функцией `sum()` и их аналогами.*\n",
        "\n",
        "*Формат ввода:* <br>\n",
        "3<br><br>\n",
        "\n",
        "*Формат вывода:* <br>\n",
        "9"
      ]
    },
    {
      "cell_type": "code",
      "execution_count": null,
      "metadata": {
        "id": "KBEXUEDQPzZs",
        "outputId": "6faf19b4-1da2-49bd-cddf-c30469de2467"
      },
      "outputs": [
        {
          "name": "stdout",
          "output_type": "stream",
          "text": [
            "4\n",
            "33\n"
          ]
        }
      ],
      "source": [
        "### YOUR CODE HERE ###\n",
        "n = int(input())\n",
        "s, sl = 0, 1\n",
        "for i in range(1, n + 1):\n",
        "    for j in range(1, i + 1):\n",
        "        sl *= j\n",
        "    s += sl\n",
        "    sl = 1\n",
        "print(s)"
      ]
    },
    {
      "cell_type": "markdown",
      "metadata": {
        "id": "4nsOuiWVPzZu"
      },
      "source": [
        "### 10\n",
        "\n",
        "Напишите программу, которая получает на вход последовательность чисел (каждое число с новой строки до того момента, пока пользователь не введёт 0) и считает количество чётных элементов в последовательности.\n",
        "<br><br>\n",
        "*Формат ввода:* <br>\n",
        "5<br>\n",
        "4<br>\n",
        "2<br>\n",
        "7<br>\n",
        "8<br>\n",
        "9<br>\n",
        "0<br><br>\n",
        "\n",
        "*Формат вывода:* <br>\n",
        "3"
      ]
    },
    {
      "cell_type": "code",
      "execution_count": null,
      "metadata": {
        "id": "xktF2cocPzZv",
        "outputId": "f8e48f66-9954-4209-e357-7f1dc7a2efc0"
      },
      "outputs": [
        {
          "name": "stdout",
          "output_type": "stream",
          "text": [
            "4\n",
            "2\n",
            "6\n",
            "3\n",
            "1\n",
            "3\n",
            "7\n",
            "9\n",
            "0\n",
            "3\n"
          ]
        }
      ],
      "source": [
        "### YOUR CODE HERE ###\n",
        "list_numb = []\n",
        "n = 1\n",
        "count = 0\n",
        "while n != 0:\n",
        "    n = int(input())\n",
        "    list_numb.append(n)\n",
        "for num in list_numb:\n",
        "    if num % 2 == 0 and num != 0:\n",
        "        count +=1\n",
        "print(count)"
      ]
    },
    {
      "cell_type": "markdown",
      "metadata": {
        "id": "hyC9QGXPPzZx"
      },
      "source": [
        "### 11\n",
        "\n",
        "Напишите программу, которая формирует список игроков женской команды по мини-футболу. Программа должна записывать возраст и пол претендента. Возраст должен запрашиваться после пола и только в том случае, если пол претендента женский. Если пол претендента мужской, программа должна сообщать о том, что он не подходит. Возраст претенденток должен быть от 18 до 35 лет. Если кандидат удовлетворяет требованиям, должно появляться соответствующее сообщение. Всего в команде могут быть только шесть человек. Когда необходимое число набирается, запись закрывается и выводится сообщение «Запись в команду закрыта».\n"
      ]
    },
    {
      "cell_type": "code",
      "execution_count": null,
      "metadata": {
        "id": "qSDK-zQ4PzZx",
        "outputId": "6fa1ea4f-d5a4-497f-fc38-89d9a26e38cd"
      },
      "outputs": [
        {
          "name": "stdout",
          "output_type": "stream",
          "text": [
            "Добро пожаловать в программу по набору женской команды по мини-футболу.\n",
            "Введите ваш пол. М - мужской, Ж - женский:\n",
            "ж31\n",
            "Некорректный ввод. Введите ваш пол. М - мужской, Ж - женский:\n",
            "Введите ваш пол. М - мужской, Ж - женский:\n",
            "ж\n",
            "Введите ваш возраст:\n",
            "31\n",
            "Добро пожаловать в команду!\n",
            "Введите ваш пол. М - мужской, Ж - женский:\n",
            "ж\n",
            "Введите ваш возраст:\n",
            "31\n",
            "Добро пожаловать в команду!\n",
            "Введите ваш пол. М - мужской, Ж - женский:\n",
            "ж\n",
            "Введите ваш возраст:\n",
            "31\n",
            "Добро пожаловать в команду!\n",
            "Введите ваш пол. М - мужской, Ж - женский:\n",
            "ж\n",
            "Введите ваш возраст:\n",
            "32\n",
            "Добро пожаловать в команду!\n",
            "Введите ваш пол. М - мужской, Ж - женский:\n",
            "ж\n",
            "Введите ваш возраст:\n",
            "33\n",
            "Добро пожаловать в команду!\n",
            "Введите ваш пол. М - мужской, Ж - женский:\n",
            "ж\n",
            "Введите ваш возраст:\n",
            "32\n",
            "Добро пожаловать в команду!\n",
            "Запись в команду закрыта!\n",
            "['31-ж', '31-ж', '31-ж', '32-ж', '33-ж', '32-ж']\n"
          ]
        }
      ],
      "source": [
        "### YOUR CODE HERE ###\n",
        "list_of_command = []\n",
        "print(\"Добро пожаловать в программу по набору женской команды по мини-футболу.\")\n",
        "while len(list_of_command) < 6:\n",
        "    print(\"Введите ваш пол. М - мужской, Ж - женский:\")\n",
        "    s = input()\n",
        "    s = s.lower()\n",
        "    if s == \"м\":\n",
        "        print(\"У нас женская команда, грязный ты извращенец!\")\n",
        "        continue\n",
        "    elif s == \"ж\":\n",
        "        print(\"Введите ваш возраст:\")\n",
        "        a = input()\n",
        "        if 17 < int(a) < 36:\n",
        "            list_of_command.append(a + \"-\" + s)\n",
        "            print(\"Добро пожаловать в команду!\")\n",
        "        else:\n",
        "            print(\"Простите ваш возраст нам не подходит!\")\n",
        "    else:\n",
        "        print(\"Некорректный ввод. Введите ваш пол. М - мужской, Ж - женский:\")\n",
        "print(\"Запись в команду закрыта!\")\n",
        "print(list_of_command)"
      ]
    },
    {
      "cell_type": "markdown",
      "metadata": {
        "id": "B4JAB8AqPzZ0"
      },
      "source": [
        "### 12\n",
        "\n",
        "\n",
        "Напишите программу, которая на вход получает максимальную ширину ромба и рисует его. Гарантируется, что входное число всегда нечётное.\n",
        "<br><br>\n",
        "\n",
        "*Формат ввода:* <br>\n",
        "5<br><br>\n",
        "\n",
        "*Формат вывода:* <br>\n",
        "```  \n",
        "  *\n",
        " ***\n",
        "*****\n",
        " ***\n",
        "  *```"
      ]
    },
    {
      "cell_type": "markdown",
      "metadata": {
        "id": "74kwD7s7B1S6"
      },
      "source": [
        "**Рекомендации к выполнению задания:** Внимательно изучите рисунок из примера, попробуйте заметить закономерность, по которой он строится."
      ]
    },
    {
      "cell_type": "code",
      "execution_count": null,
      "metadata": {
        "id": "WVp7O75oPzZ0",
        "outputId": "4e99cff9-b09c-424a-cad0-df02438d3066"
      },
      "outputs": [
        {
          "name": "stdout",
          "output_type": "stream",
          "text": [
            "17\n",
            "        #        \n",
            "       # #       \n",
            "      #   #      \n",
            "     #     #     \n",
            "    #       #    \n",
            "   #         #   \n",
            "  #           #  \n",
            " #             # \n",
            "#               #\n",
            " #             # \n",
            "  #           #  \n",
            "   #         #   \n",
            "    #       #    \n",
            "     #     #     \n",
            "      #   #      \n",
            "       # #       \n",
            "        #        \n"
          ]
        }
      ],
      "source": [
        "### YOUR CODE HERE ###\n",
        "n = int(input())\n",
        "for i in range(n):\n",
        "    if i == 0:\n",
        "        print(\" \"*((n-i)//2) + \"#\" + \" \"*((n-i)//2))\n",
        "    elif i == n - 1:\n",
        "        print(\" \"*(i//2) + \"#\" + \" \"*(i//2))\n",
        "    elif i < n//2 :\n",
        "        print(\" \"*((n - 1 - 2 * i)//2) + \"#\" + \" \"*(2*i - 1) + \"#\" + \" \"*((n - 1 - 2 * i)//2))\n",
        "    else:\n",
        "        print(\" \"*((2 * i + 1 - n)//2) + \"#\" + \" \"*(n -  2 * (i + 1 - (n - 1)//2)) + \"#\" + \" \"*(((2 * i + 1 - n))//2))"
      ]
    },
    {
      "cell_type": "markdown",
      "metadata": {
        "id": "xrIXWj0yPzZ2"
      },
      "source": [
        "\n",
        "### 13\n",
        "\n",
        "Напишите программу, которая запрашивает у пользователя сторону квадрата и символ, а затем рисует этот символ по диагоналям квадрата. Гарантируется, что входное число всегда нечётное.\n",
        "<br><br>\n",
        "\n",
        "*Формат ввода:* <br>\n",
        "5<br>\n",
        "\\#<br><br>\n",
        "\n",
        "*Формат вывода:* <br>\n",
        "```\n",
        " \n",
        "#   #\n",
        " # #\n",
        "  #  \n",
        " # #\n",
        "#   #\n",
        "```"
      ]
    },
    {
      "cell_type": "markdown",
      "metadata": {
        "id": "ITzL6HrwB1S9"
      },
      "source": [
        "**Рекомендации к выполнению задания:** внимательно изучите рисунок из примера, попробуйте заметить закономерность, по которой он строится."
      ]
    },
    {
      "cell_type": "code",
      "execution_count": null,
      "metadata": {
        "id": "oUKNB9TaPzZ3",
        "outputId": "16b1a517-3eeb-4cb0-e525-44013d0fc145"
      },
      "outputs": [
        {
          "name": "stdout",
          "output_type": "stream",
          "text": [
            "9\n",
            "#       #\n",
            " #     # \n",
            "  #   #  \n",
            "   # #   \n",
            "    #    \n",
            "   # #   \n",
            "  #   #  \n",
            " #     # \n",
            "#       #\n"
          ]
        }
      ],
      "source": [
        "### YOUR CODE HERE ###\n",
        "n = int(input())\n",
        "for i in range(n):\n",
        "    if i < n//2 :\n",
        "        print(\" \"*i + \"#\" + \" \"*(n-2*(i+1)) + \"#\" + \" \"*i)\n",
        "    elif i == n//2:\n",
        "        print(\" \"*i + \"#\" + \" \"*i)\n",
        "    else:\n",
        "        print(\" \"*(n-i-1) + \"#\" + \" \"*(2*i - n) + \"#\" + \" \"*(n-i-1))"
      ]
    },
    {
      "cell_type": "markdown",
      "metadata": {
        "id": "3GaiPsFYPzZ_"
      },
      "source": [
        "### 14\n",
        "\n",
        "В корзине лежат шары. Если разложить их в кучи по два, останется один. Если разложить в кучи по три, останется один. Если разложить в кучи по четыре, останется один. Если разложить в кучи по пять, останется один. Если разложить в кучи по шесть, останется один. Если разложить в кучи по семь, не будет остатка. Нужно найти минимальное количество шаров, удовлетворяющее условию.  <br>"
      ]
    },
    {
      "cell_type": "code",
      "execution_count": null,
      "metadata": {
        "id": "V2msEhQkPzZ_",
        "outputId": "9364978e-8685-44fd-f3b9-ff39b4aa1e03"
      },
      "outputs": [
        {
          "name": "stdout",
          "output_type": "stream",
          "text": [
            "301\n"
          ]
        }
      ],
      "source": [
        "### YOUR CODE HERE ###\n",
        "n = 0 \n",
        "while True:\n",
        "    n += 7\n",
        "    if n % 2 == 1 and n % 3 == 1 and n % 4 == 1 and n % 5 == 1 and n % 6 == 1:\n",
        "        print(n)\n",
        "        break\n",
        "    elif n > 1000000:\n",
        "        break\n"
      ]
    },
    {
      "cell_type": "markdown",
      "metadata": {
        "id": "5pOjlON-PzaC"
      },
      "source": [
        "### 15\n",
        "\n",
        "Рабочие клеили обои на стены. Первую стену поклеили за M минут, а каждую следующую клеили на пять минут дольше, чем предыдущую.\n",
        "Напишите программу, которая запрашивает, сколько стен было в квартире под поклейку, а также время работы с первой стеной в минутах. Программа должна выводить, сколько **часов** рабочие потратили на поклейку обоев во всей квартире. Час отсчитывается с первой минуты. Ответом должно быть целое число. \n",
        "<br><br>\n",
        "*Ограничение: нельзя пользоваться готовыми функциями `bool()`, `floor()` и их аналогами.*\n",
        "<br><br>\n",
        "*Формат ввода:* <br>\n",
        "6<br>\n",
        "10<br><br>\n",
        "\n",
        "*Формат вывода:* <br>\n",
        "3"
      ]
    },
    {
      "cell_type": "code",
      "execution_count": null,
      "metadata": {
        "id": "Pmu96rWGPzaD",
        "outputId": "b3942123-9a93-413a-92d5-f37753eb8156"
      },
      "outputs": [
        {
          "name": "stdout",
          "output_type": "stream",
          "text": [
            "6\n",
            "10\n",
            "3\n"
          ]
        }
      ],
      "source": [
        "### YOUR CODE HERE ###\n",
        "n, t, i = int(input()), int(input()), 0\n",
        "b = t\n",
        "for i in range(n-1):\n",
        "    t += 5\n",
        "    b += t\n",
        "ans = b // 60 + 1\n",
        "print(ans)"
      ]
    },
    {
      "cell_type": "markdown",
      "metadata": {
        "id": "63C6Za3CPzaF"
      },
      "source": [
        "### 16\n",
        "\n",
        "Напишите программу, которая убирает из списка повторяющиеся элементы. Программа должна запрашивать на вход слова, каждое с новой строки, пока пользователь не введёт пустую строку. Затем должна выводить список без повторяющихся элементов. \n",
        "<br><br>\n",
        "*Ограничение: нельзя пользоваться готовой функцией `set()` и её аналогами.*\n",
        "\n",
        "<br><br>\n",
        "*Формат ввода:* <br>\n",
        "Алиса<br>\n",
        "Алиса<br>\n",
        "Алиса<br>\n",
        "Петя<br>\n",
        "<br><br>\n",
        "\n",
        "*Формат вывода:* <br>\n",
        "[Алиса, Петя]"
      ]
    },
    {
      "cell_type": "markdown",
      "metadata": {
        "id": "xwewurzYB1TF"
      },
      "source": [
        "**Рекомендации к выполнению задания:** попробуйте использовать проверку на включённость."
      ]
    },
    {
      "cell_type": "code",
      "execution_count": null,
      "metadata": {
        "id": "MQ-eDkbAPzaG",
        "outputId": "289914c0-a554-47a5-e116-19f6de39a161"
      },
      "outputs": [
        {
          "name": "stdout",
          "output_type": "stream",
          "text": [
            "res_list\n",
            "res_list\n",
            "res_list\n",
            "asd\n",
            "asd\n",
            "fds\n",
            "er\n",
            "te\n",
            "er\n",
            "\n",
            "['res_list', 'asd', 'fds', 'er', 'te']\n"
          ]
        }
      ],
      "source": [
        "### YOUR CODE HERE ###\n",
        "my_list = []\n",
        "while True:\n",
        "    a = input()\n",
        "    if a == \"\":\n",
        "        break\n",
        "    else:\n",
        "        my_list.append(a)\n",
        "res_list = []\n",
        "for word in my_list:\n",
        "    if word in res_list:\n",
        "        continue\n",
        "    else:\n",
        "        res_list.append(word)\n",
        "print(res_list)"
      ]
    },
    {
      "cell_type": "markdown",
      "metadata": {
        "id": "jueSDORaPzaI"
      },
      "source": [
        "### 17\n",
        "\n",
        "Напишите программу, которая выводит число пар одинаковых элементов в списке. При этом, если два элемента образовали пару, они не могут вступить в пару с другими элементами. Программа должна запрашивать на вход слова, каждое с новой строки, пока пользователь не введёт пустую строку. \n",
        "<br><br>\n",
        "*Формат ввода:* <br>\n",
        "Алиса<br>\n",
        "Алиса<br>\n",
        "Алиса<br>\n",
        "<br><br>\n",
        "\n",
        "*Формат вывода:* <br>\n",
        "1"
      ]
    },
    {
      "cell_type": "markdown",
      "metadata": {
        "id": "gpQuU1lnB1TH"
      },
      "source": [
        "**Рекомендации к выполнению задания:** попробуйте использовать проверку на включённость."
      ]
    },
    {
      "cell_type": "code",
      "execution_count": null,
      "metadata": {
        "id": "49tbEr3NPzaJ",
        "outputId": "cc123520-73c5-40f7-af76-830a0ed8df95"
      },
      "outputs": [
        {
          "name": "stdout",
          "output_type": "stream",
          "text": [
            "Алиса\n",
            "Алиса\n",
            "Алиса\n",
            "Алиса\n",
            "Алиса\n",
            "asdf\n",
            "Алиса\n",
            "asfq\n",
            "asdf\n",
            "Алиса\n",
            "asdf\n",
            "\n",
            "4\n"
          ]
        }
      ],
      "source": [
        "### YOUR CODE HERE ###\n",
        "my_list = []\n",
        "while True:\n",
        "    a = input()\n",
        "    if a == \"\":\n",
        "        break\n",
        "    else:\n",
        "        my_list.append(a)\n",
        "index_list, i, j, count = [], 0, 0, 0\n",
        "b = len(my_list)\n",
        "for i in range(b): \n",
        "    for j in range(i+1,b):\n",
        "        if my_list[i] == my_list[j] and i not in index_list and j not in index_list:\n",
        "            count+=1\n",
        "            index_list.append(i)\n",
        "            index_list.append(j)\n",
        "            break\n",
        "print(count)"
      ]
    },
    {
      "cell_type": "markdown",
      "metadata": {
        "id": "yVLcBrD-PzaN"
      },
      "source": [
        "### 18\n",
        "\n",
        "Будем считать, что кубик может иметь неограниченное количество граней (натуральное число). Напишите программу, которая запрашивает, сколько граней имеется у двух разных кубиков. Затем выводит все возможные комбинации результатов бросков двух таких кубиков. \n",
        "<br><br>\n",
        "*Формат ввода:* <br>\n",
        "3<br>\n",
        "4<br><br>\n",
        "\n",
        "*Формат вывода:* <br>\n",
        "1 1<br>\n",
        "1 2<br>\n",
        "1 3<br>\n",
        "1 4<br>\n",
        "2 1<br>\n",
        "2 2<br>\n",
        "2 3<br>\n",
        "2 4<br>\n",
        "3 1<br>\n",
        "3 2<br>\n",
        "3 3<br>\n",
        "3 4<br>"
      ]
    },
    {
      "cell_type": "markdown",
      "metadata": {
        "id": "5aAs5EsFB1TK"
      },
      "source": [
        "**Рекомендации к выполнению задания:** попробуйте использовать вложенные циклы."
      ]
    },
    {
      "cell_type": "code",
      "execution_count": null,
      "metadata": {
        "id": "7I2va0KwPzaR",
        "outputId": "6d09fd35-c175-41b0-9613-f6893a6bbbf6"
      },
      "outputs": [
        {
          "name": "stdout",
          "output_type": "stream",
          "text": [
            "3\n",
            "4\n",
            "1 1\n",
            "1 2\n",
            "1 3\n",
            "1 4\n",
            "2 1\n",
            "2 2\n",
            "2 3\n",
            "2 4\n",
            "3 1\n",
            "3 2\n",
            "3 3\n",
            "3 4\n"
          ]
        }
      ],
      "source": [
        "### YOUR CODE HERE ###\n",
        "a, b = int(input()), int(input())\n",
        "for i in range(a):\n",
        "    for j in range(b):\n",
        "        print(i+1,j+1)"
      ]
    },
    {
      "cell_type": "code",
      "execution_count": null,
      "metadata": {
        "id": "Sc1gupat_qag"
      },
      "outputs": [],
      "source": [
        ""
      ]
    }
  ],
  "metadata": {
    "colab": {
      "collapsed_sections": [],
      "name": "jun_anl_loops_and_ifs.ipynb",
      "provenance": []
    },
    "kernelspec": {
      "display_name": "Python 3",
      "language": "python",
      "name": "python3"
    },
    "language_info": {
      "codemirror_mode": {
        "name": "ipython",
        "version": 3
      },
      "file_extension": ".py",
      "mimetype": "text/x-python",
      "name": "python",
      "nbconvert_exporter": "python",
      "pygments_lexer": "ipython3",
      "version": "3.8.8"
    }
  },
  "nbformat": 4,
  "nbformat_minor": 0
}