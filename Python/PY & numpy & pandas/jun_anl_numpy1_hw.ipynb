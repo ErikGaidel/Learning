{
  "cells": [
    {
      "cell_type": "markdown",
      "metadata": {
        "id": "KkW9XLpDgFAF"
      },
      "source": [
        "# Библиотека `NumPy`: часть 1\n",
        "\n",
        "\n",
        "\n",
        "## Домашнее задание \n"
      ]
    },
    {
      "cell_type": "markdown",
      "metadata": {
        "id": "HWyKtbvPgFAF"
      },
      "source": [
        "Дан массив, содержащий баллы слушателей курса по английскому языку за вступительный экзамен. Слушатели распределены по 15 группам по 10 человек."
      ]
    },
    {
      "cell_type": "code",
      "execution_count": null,
      "metadata": {
        "id": "XViQYLNHgFAG"
      },
      "outputs": [],
      "source": [
        "import numpy as np\n",
        "scores = np.array([[20, 40, 56, 80, 0, 5, 25, 27, 74, 1],\n",
        "         [0, 98, 67, 100, 8, 56, 34, 82, 100, 7],\n",
        "         [78, 54, 23, 79, 100, 0, 0, 42, 95, 83],\n",
        "         [51, 50, 47, 23, 100, 94, 25, 48, 38, 77],\n",
        "         [90, 87, 41, 89, 52, 0, 5, 17, 28, 99],\n",
        "         [32, 18, 21, 18, 29, 31, 48, 62, 76, 22],\n",
        "         [6, 0, 65, 78, 43, 22, 38, 88, 94, 100],\n",
        "         [77, 28, 39, 41, 0, 81, 45, 54, 98, 12],\n",
        "         [66, 0, 88, 0, 44, 0, 55, 100, 12, 11],\n",
        "         [17, 70, 86, 96, 56, 23, 32, 49, 70, 80],\n",
        "         [20, 24, 76, 50, 29, 40, 3, 2, 5, 11],\n",
        "         [33, 63, 28, 40, 51, 100, 98, 87, 22, 30],\n",
        "         [16, 54, 78, 12, 25, 35, 10, 19, 67, 0],\n",
        "         [100, 88, 24, 33, 47, 56, 62, 34, 77, 53],\n",
        "         [50, 89, 70, 72, 56, 29, 15, 20, 0, 0]])"
      ]
    },
    {
      "cell_type": "markdown",
      "metadata": {
        "id": "FZyP6_u4gFAI"
      },
      "source": [
        "### Задание 1\n",
        "\n",
        "Посчитать, сколько слушателей получили 0 за вступительный экзамен."
      ]
    },
    {
      "cell_type": "code",
      "execution_count": null,
      "metadata": {
        "id": "ny-bpAn_gFAI",
        "outputId": "dc4538d6-2cf0-467c-eae4-9e2618296862"
      },
      "outputs": [
        {
          "data": {
            "text/plain": [
              "13"
            ]
          },
          "execution_count": 2,
          "metadata": {},
          "output_type": "execute_result"
        }
      ],
      "source": [
        "### YOUR CODE HERE ###\n",
        "zero = scores == 0\n",
        "zero.sum()"
      ]
    },
    {
      "cell_type": "markdown",
      "metadata": {
        "id": "zqXOMBPCgFAL"
      },
      "source": [
        "### Задание 2\n",
        "\n",
        "Посчитать, сколько слушателей получили балл выше 50."
      ]
    },
    {
      "cell_type": "code",
      "execution_count": null,
      "metadata": {
        "id": "mUD76BUigFAL",
        "outputId": "6efa7f0f-7a99-4cad-dd6f-b4527eb1d919"
      },
      "outputs": [
        {
          "data": {
            "text/plain": [
              "137"
            ]
          },
          "execution_count": 3,
          "metadata": {},
          "output_type": "execute_result"
        }
      ],
      "source": [
        "### YOUR CODE HERE ###\n",
        "zero = scores > 0\n",
        "zero.sum()"
      ]
    },
    {
      "cell_type": "markdown",
      "metadata": {
        "id": "OocnEIqdgFAN"
      },
      "source": [
        "### Задание 3\n",
        "\n",
        "Посчитать, сколько человек получили балл не ниже 50, но не выше 70."
      ]
    },
    {
      "cell_type": "code",
      "execution_count": null,
      "metadata": {
        "id": "RvzMz6lTgFAO",
        "outputId": "24d29a87-71ed-41cc-d692-647033fc829b"
      },
      "outputs": [
        {
          "data": {
            "text/plain": [
              "109"
            ]
          },
          "execution_count": 5,
          "metadata": {},
          "output_type": "execute_result"
        }
      ],
      "source": [
        "### YOUR CODE HERE ###\n",
        "zero = (70 >= scores) & (scores >= 0)\n",
        "zero.sum()"
      ]
    },
    {
      "cell_type": "markdown",
      "metadata": {
        "id": "Q9dNpdEBgFAP"
      },
      "source": [
        "### Задание 4\n",
        "\n",
        "Определить, в какой группе средний балл за вступительный экзамен выше."
      ]
    },
    {
      "cell_type": "code",
      "execution_count": null,
      "metadata": {
        "id": "Fto_aImFgFAQ",
        "outputId": "0b695080-6a8b-4463-d34b-d702b930e98c"
      },
      "outputs": [
        {
          "data": {
            "text/plain": [
              "9"
            ]
          },
          "execution_count": 8,
          "metadata": {},
          "output_type": "execute_result"
        }
      ],
      "source": [
        "### YOUR CODE HERE ###\n",
        "np.argmax(scores.mean(axis=1))"
      ]
    },
    {
      "cell_type": "markdown",
      "metadata": {
        "id": "IjZUz0KkgFAR"
      },
      "source": [
        "### Задание 5\n",
        "\n",
        "Сохранить баллы слушателей выше 0 в массив `nonzero`. "
      ]
    },
    {
      "cell_type": "code",
      "execution_count": null,
      "metadata": {
        "id": "PRViY--agFAT",
        "outputId": "06395ecd-32b1-45d3-aa74-55c4cd2828fe"
      },
      "outputs": [
        {
          "data": {
            "text/plain": [
              "array([ 20,  40,  56,  80,   5,  25,  27,  74,   1,  98,  67, 100,   8,\n",
              "        56,  34,  82, 100,   7,  78,  54,  23,  79, 100,  42,  95,  83,\n",
              "        51,  50,  47,  23, 100,  94,  25,  48,  38,  77,  90,  87,  41,\n",
              "        89,  52,   5,  17,  28,  99,  32,  18,  21,  18,  29,  31,  48,\n",
              "        62,  76,  22,   6,  65,  78,  43,  22,  38,  88,  94, 100,  77,\n",
              "        28,  39,  41,  81,  45,  54,  98,  12,  66,  88,  44,  55, 100,\n",
              "        12,  11,  17,  70,  86,  96,  56,  23,  32,  49,  70,  80,  20,\n",
              "        24,  76,  50,  29,  40,   3,   2,   5,  11,  33,  63,  28,  40,\n",
              "        51, 100,  98,  87,  22,  30,  16,  54,  78,  12,  25,  35,  10,\n",
              "        19,  67, 100,  88,  24,  33,  47,  56,  62,  34,  77,  53,  50,\n",
              "        89,  70,  72,  56,  29,  15,  20])"
            ]
          },
          "execution_count": 14,
          "metadata": {},
          "output_type": "execute_result"
        }
      ],
      "source": [
        "### YOUR CODE HERE ###\n",
        "nonzero = scores[scores > 0]\n",
        "nonzero"
      ]
    },
    {
      "cell_type": "markdown",
      "metadata": {
        "id": "-ve1VG1XgFAV"
      },
      "source": [
        "### Задание 6\n",
        "\n",
        "Используя массив `nonzero`, определить минимальный балл за вступительный балл по всем группам."
      ]
    },
    {
      "cell_type": "code",
      "execution_count": null,
      "metadata": {
        "id": "ZnGg9mcUgFAV",
        "outputId": "f3647ed1-e0dd-4bc8-b0ba-1b6db9f1fcdc"
      },
      "outputs": [
        {
          "data": {
            "text/plain": [
              "1"
            ]
          },
          "execution_count": 15,
          "metadata": {},
          "output_type": "execute_result"
        }
      ],
      "source": [
        "### YOUR CODE HERE ###\n",
        "nonzero.min()"
      ]
    },
    {
      "cell_type": "markdown",
      "metadata": {
        "id": "5eaQJGatgFAZ"
      },
      "source": [
        "### Задание 7\n",
        "\n",
        "Выбрать из массива `nonzero` только те значения, которые соответствуют продвинутому уровню знания языка – баллу за экзамен выше 80. Сохранить полученный результат в массив `advanced`. В заданиях 8-10 нужно работать с массивом `advanced`."
      ]
    },
    {
      "cell_type": "code",
      "execution_count": null,
      "metadata": {
        "id": "nmMA59fAgFAZ",
        "outputId": "8e447cae-fd60-450e-d202-109776bab7ed"
      },
      "outputs": [
        {
          "data": {
            "text/plain": [
              "array([ 98, 100,  82, 100, 100,  95,  83, 100,  94,  90,  87,  89,  99,\n",
              "        88,  94, 100,  81,  98,  88, 100,  86,  96, 100,  98,  87, 100,\n",
              "        88,  89])"
            ]
          },
          "execution_count": 17,
          "metadata": {},
          "output_type": "execute_result"
        }
      ],
      "source": [
        "### YOUR CODE HERE ###\n",
        "advanced = nonzero[nonzero  > 80]\n",
        "advanced"
      ]
    },
    {
      "cell_type": "markdown",
      "metadata": {
        "id": "Aq0Lf1f6gFAk"
      },
      "source": [
        "### Задание 8\n",
        "\n",
        "Определить размерность массива `advanced`."
      ]
    },
    {
      "cell_type": "code",
      "execution_count": null,
      "metadata": {
        "id": "m_9Wm-7xgFAl",
        "outputId": "9da2b04b-6acb-4771-8b81-b2a9637560c3"
      },
      "outputs": [
        {
          "data": {
            "text/plain": [
              "1"
            ]
          },
          "execution_count": 21,
          "metadata": {},
          "output_type": "execute_result"
        }
      ],
      "source": [
        "### YOUR CODE HERE ###\n",
        "advanced.ndim"
      ]
    },
    {
      "cell_type": "markdown",
      "metadata": {
        "id": "Bc_cX_EYgFAo"
      },
      "source": [
        "### Задание 9\n",
        "\n",
        "Определить форму массива `advanced`."
      ]
    },
    {
      "cell_type": "code",
      "execution_count": null,
      "metadata": {
        "id": "6VSwGB6fgFAp",
        "outputId": "5c5d49fc-42dc-4b8b-96f6-865407d2ef4a"
      },
      "outputs": [
        {
          "data": {
            "text/plain": [
              "(28,)"
            ]
          },
          "execution_count": 22,
          "metadata": {},
          "output_type": "execute_result"
        }
      ],
      "source": [
        "### YOUR CODE HERE ###\n",
        "advanced.shape"
      ]
    },
    {
      "cell_type": "markdown",
      "metadata": {
        "id": "tmheEQZ3gFAr"
      },
      "source": [
        "### Задание 10\n",
        "\n",
        "Определить общее число элементов в массиве `advanced`."
      ]
    },
    {
      "cell_type": "code",
      "execution_count": null,
      "metadata": {
        "id": "OvJ2oJV7gFAr",
        "outputId": "76845d0c-e4c6-45cf-daf9-19c8f81b8ef1"
      },
      "outputs": [
        {
          "data": {
            "text/plain": [
              "28"
            ]
          },
          "execution_count": 24,
          "metadata": {},
          "output_type": "execute_result"
        }
      ],
      "source": [
        "### YOUR CODE HERE ###\n",
        "advanced.size"
      ]
    },
    {
      "cell_type": "markdown",
      "metadata": {
        "id": "rfufTemUgFAv"
      },
      "source": [
        "### Задание 11\n",
        "\n",
        "На основе исходного массива `scores` создать булев массив `sto`, где `True` соответствует баллам за экзамен, равным 100, а `False` – всем остальным баллам. "
      ]
    },
    {
      "cell_type": "code",
      "execution_count": null,
      "metadata": {
        "id": "cXVCTZJRgFAw",
        "outputId": "7a15f760-7ea7-4804-b4ce-0f304e454524"
      },
      "outputs": [
        {
          "data": {
            "text/plain": [
              "array([[False, False, False, False, False, False, False, False, False,\n",
              "        False],\n",
              "       [False, False, False,  True, False, False, False, False,  True,\n",
              "        False],\n",
              "       [False, False, False, False,  True, False, False, False, False,\n",
              "        False],\n",
              "       [False, False, False, False,  True, False, False, False, False,\n",
              "        False],\n",
              "       [False, False, False, False, False, False, False, False, False,\n",
              "        False],\n",
              "       [False, False, False, False, False, False, False, False, False,\n",
              "        False],\n",
              "       [False, False, False, False, False, False, False, False, False,\n",
              "         True],\n",
              "       [False, False, False, False, False, False, False, False, False,\n",
              "        False],\n",
              "       [False, False, False, False, False, False, False,  True, False,\n",
              "        False],\n",
              "       [False, False, False, False, False, False, False, False, False,\n",
              "        False],\n",
              "       [False, False, False, False, False, False, False, False, False,\n",
              "        False],\n",
              "       [False, False, False, False, False,  True, False, False, False,\n",
              "        False],\n",
              "       [False, False, False, False, False, False, False, False, False,\n",
              "        False],\n",
              "       [ True, False, False, False, False, False, False, False, False,\n",
              "        False],\n",
              "       [False, False, False, False, False, False, False, False, False,\n",
              "        False]])"
            ]
          },
          "execution_count": 26,
          "metadata": {},
          "output_type": "execute_result"
        }
      ],
      "source": [
        "### YOUR CODE HERE ###\n",
        "sto = scores == 100\n",
        "sto"
      ]
    },
    {
      "cell_type": "markdown",
      "metadata": {
        "id": "GBKO0EiTgFAy"
      },
      "source": [
        "### Задание 12\n",
        "\n",
        "На основе исходного массива `scores` вывести на экран оценки слушателей первых семи групп (включительно, должны быть 7 списков оценок)."
      ]
    },
    {
      "cell_type": "code",
      "execution_count": null,
      "metadata": {
        "id": "5MsmBdCggFA0",
        "outputId": "19e43bc4-4b4a-41cd-c37b-cd77045fa8db"
      },
      "outputs": [
        {
          "data": {
            "text/plain": [
              "array([[ 20,  40,  56,  80,   0,   5,  25,  27,  74,   1],\n",
              "       [  0,  98,  67, 100,   8,  56,  34,  82, 100,   7],\n",
              "       [ 78,  54,  23,  79, 100,   0,   0,  42,  95,  83],\n",
              "       [ 51,  50,  47,  23, 100,  94,  25,  48,  38,  77],\n",
              "       [ 90,  87,  41,  89,  52,   0,   5,  17,  28,  99],\n",
              "       [ 32,  18,  21,  18,  29,  31,  48,  62,  76,  22],\n",
              "       [  6,   0,  65,  78,  43,  22,  38,  88,  94, 100]])"
            ]
          },
          "execution_count": 28,
          "metadata": {},
          "output_type": "execute_result"
        }
      ],
      "source": [
        "### YOUR CODE HERE ###\n",
        "scores[:7]"
      ]
    },
    {
      "cell_type": "markdown",
      "metadata": {
        "id": "5cwVuZHAgFA1"
      },
      "source": [
        ".<br> .<br> .<br> .<br> .<br> .<br> .<br> .<br> .<br> .<br> .<br> .<br> .<br> .<br> .<br> .<br> .<br> .<br> \n",
        "# Дополнительное задание.\n",
        "<br>\n"
      ]
    },
    {
      "cell_type": "markdown",
      "metadata": {
        "id": "NevmPbRrgFA2"
      },
      "source": [
        "В заданиях 1-2 необходимо работать с массивом `A`:"
      ]
    },
    {
      "cell_type": "code",
      "execution_count": null,
      "metadata": {
        "id": "b8eeE6EOgFA2"
      },
      "outputs": [],
      "source": [
        "A = np.array([[2, 9, 8, 0],\n",
        "             [8, 7, 5, 6], \n",
        "             [3, 1, 0, 2], \n",
        "             [6, 5, 6, 8],\n",
        "             [1, 0, 0, 4]])"
      ]
    },
    {
      "cell_type": "markdown",
      "metadata": {
        "id": "RAQ4aJhfgFA5"
      },
      "source": [
        "### Задание 1\n",
        "\n",
        "Транспонировать массив `A`, не используя встроенных методов `NumPy`. Сохранить полученный массив в переменную `A_tr`. Допустимо использовать циклы и условные конструкции (при необходимости).\n",
        "\n",
        "**Напоминание:** транспонирование – операция замены строк и столбцов местами. Пример:\n",
        "\n",
        "До транспонирования:\n",
        "\n",
        "        [[2, 5, 0], \n",
        "        [7, 8, 1]]\n",
        "\n",
        "После транспонирования:\n",
        "\n",
        "        [[2, 7],\n",
        "        [5, 8],\n",
        "        [0, 1]]\n",
        "\n",
        "**Подсказка:** можно почитать про цикл *for* на [pythontutor.ru](https://pythontutor.ru/lessons/for_loop/). На самом деле, если вспомнить про выбор элементов в массиве `NumPy`, то одного цикла будет достаточно, условные конструкции не понадобятся."
      ]
    },
    {
      "cell_type": "code",
      "execution_count": null,
      "metadata": {
        "id": "2HvCIIF0gFA6",
        "outputId": "57e6816d-2699-409d-e560-6f85ae45d041"
      },
      "outputs": [
        {
          "name": "stdout",
          "output_type": "stream",
          "text": [
            "[[2. 8. 3. 6. 1.]\n",
            " [9. 7. 1. 5. 0.]\n",
            " [8. 5. 0. 6. 0.]\n",
            " [0. 6. 2. 8. 4.]]\n"
          ]
        }
      ],
      "source": [
        "### YOUR CODE HERE ###\n",
        "k, m = A.shape\n",
        "A_tr = np.zeros((m,k))\n",
        "\n",
        "for i in range(m):\n",
        "    for j in range(k):\n",
        "        A_tr[i,j] += A[j,i]\n",
        "print(A_tr)"
      ]
    },
    {
      "cell_type": "markdown",
      "metadata": {
        "id": "Rb0Np089gFA8"
      },
      "source": [
        "### Задание 2\n",
        "\n",
        "Сравнить результаты: проверить равенство полученного выше массива `A_tr` и массива, который получается транспонированием массива `A` с помощью метода `.T`. \n",
        "\n",
        "**Подсказка:** для сравнения массивов целиком, не поэлементно, можно использовать [функцию](https://docs.scipy.org/doc/numpy/reference/generated/numpy.array_equal.html) `array_equal()`."
      ]
    },
    {
      "cell_type": "code",
      "execution_count": null,
      "metadata": {
        "id": "oy3tY9Y0gFA9",
        "outputId": "b56a7ea4-bb8c-462e-a814-7d2de56602b4"
      },
      "outputs": [
        {
          "name": "stdout",
          "output_type": "stream",
          "text": [
            "True\n"
          ]
        }
      ],
      "source": [
        "### YOUR CODE HERE ###\n",
        "print(np.array_equal(A_tr,A.T))"
      ]
    },
    {
      "cell_type": "markdown",
      "metadata": {
        "id": "0GsTgRbbgFA_"
      },
      "source": [
        "### Задание 3\n",
        "\n",
        "Студент N подрабатывает репетитором по математике и ведёт занятия разных типов: готовит к ЕГЭ, к олимпиадам, «подтягивает» математику у школьников младших классов. \n",
        "\n",
        "В массиве `classes` хранится число проведённых уроков за пять рабочих дней, в массиве `prices` — стоимость одного урока (считаем, что студент за день проводит занятия одного типа, одинаковые по стоимости).\n",
        "\n",
        "Определить доход студента за неделю, используя [метод](https://docs.scipy.org/doc/numpy/reference/generated/numpy.dot.html) `.dot()` для нахождения [скалярного произведения](https://ru.wikipedia.org/wiki/%D0%A1%D0%BA%D0%B0%D0%BB%D1%8F%D1%80%D0%BD%D0%BE%D0%B5_%D0%BF%D1%80%D0%BE%D0%B8%D0%B7%D0%B2%D0%B5%D0%B4%D0%B5%D0%BD%D0%B8%D0%B5). "
      ]
    },
    {
      "cell_type": "code",
      "execution_count": null,
      "metadata": {
        "id": "IHm4BAzMgFA_"
      },
      "outputs": [],
      "source": [
        "classes = np.array([3, 3, 2, 0, 2])\n",
        "prices = np.array([1500, 1500, 2500, 1000, 1000])"
      ]
    },
    {
      "cell_type": "code",
      "execution_count": null,
      "metadata": {
        "id": "naNXR55mgFBD",
        "outputId": "f05fb205-f3d1-46bc-e5f5-4ea4bfc87f52"
      },
      "outputs": [
        {
          "name": "stdout",
          "output_type": "stream",
          "text": [
            "16000\n"
          ]
        }
      ],
      "source": [
        "### YOUR CODE HERE ###\n",
        "s = classes.dot(prices)\n",
        "print(s)"
      ]
    },
    {
      "cell_type": "markdown",
      "metadata": {
        "id": "pVhH4MrAgFBH"
      },
      "source": [
        "### Задание 4\n",
        "\n",
        "По результатам работы с данными по оценкам за эссе студентов, поставленным двумя разными экспертами, были созданы два булевых массива `expert1` и `expert2`, в которых значение `True` означает оценку «удовлетворительно» и выше, а значение `False` – неудовлетворительно. Всего было оценено 15 эссе, по 5 эссе на каждую из трёх тем."
      ]
    },
    {
      "cell_type": "code",
      "execution_count": null,
      "metadata": {
        "id": "XvKTyCPsgFBH"
      },
      "outputs": [],
      "source": [
        "expert1 = np.array([[True, False, False, True, True],\n",
        "                   [False, True, False, False, True],\n",
        "                   [True, True, True, False, False]])\n",
        "expert2 = np.array([[True, False, False, False, True],\n",
        "                   [False, False, False, False, False],\n",
        "                   [True, False, True, False, False]])"
      ]
    },
    {
      "cell_type": "code",
      "execution_count": null,
      "metadata": {
        "id": "_ItTN6kugFBI",
        "outputId": "9d5c1560-a95e-475a-99be-6e2c40f6ac13"
      },
      "outputs": [
        {
          "name": "stdout",
          "output_type": "stream",
          "text": [
            "[[ True False False False  True]\n",
            " [False False False False False]\n",
            " [ True False  True False False]]\n"
          ]
        },
        {
          "data": {
            "text/plain": [
              "4"
            ]
          },
          "execution_count": 26,
          "metadata": {},
          "output_type": "execute_result"
        }
      ],
      "source": [
        "### YOUR CODE HERE ###\n",
        "congr = expert1 & expert2\n",
        "print(congr)\n",
        "sum(sum(congr))"
      ]
    },
    {
      "cell_type": "markdown",
      "metadata": {
        "id": "Pu9yicVpgFBL"
      },
      "source": [
        "Определить, используя различные логические операторы (`|`, `&`, и проч.) и вспомогательные методы/функции, сколько студентов получат зачёт, если известно, что для этого необходимо получить оценку не ниже удовлетворительной у обоих экспертов."
      ]
    },
    {
      "cell_type": "markdown",
      "metadata": {
        "id": "SNjTSYadgFBM"
      },
      "source": [
        "### Задание 5\n",
        "\n",
        "Дан массив `essay` с итоговыми оценками студентов за эссе из задачи 4:"
      ]
    },
    {
      "cell_type": "code",
      "execution_count": null,
      "metadata": {
        "id": "m-0uuLMsgFBN"
      },
      "outputs": [],
      "source": [
        "# pass - сдал\n",
        "# not pass - не сдал\n",
        "\n",
        "essay = np.array([[\"pass\", \"not pass\", \"not pass\", \"not pass\", \"pass\"],\n",
        "        [\"not pass\", \"not pass\", \"not pass\", \"not pass\", \"not pass\"],\n",
        "        [\"pass\", \"not pass\", \"pass\", \"not pass\", \"not pass\"]])"
      ]
    },
    {
      "cell_type": "markdown",
      "metadata": {
        "id": "ods6NVgWgFBO"
      },
      "source": [
        "Проверить ответ в предыдущей задаче, используя массив `essay`. Решение должно быть представлено в виде кода, не в виде выводов в результате явного подсчёта элементов."
      ]
    },
    {
      "cell_type": "code",
      "execution_count": null,
      "metadata": {
        "id": "VrnzKwKfgFBO",
        "outputId": "73fa6e5d-b97b-4469-ec7c-6f5533d6d50e"
      },
      "outputs": [
        {
          "name": "stdout",
          "output_type": "stream",
          "text": [
            "True\n"
          ]
        }
      ],
      "source": [
        "### YOUR CODE HERE ###\n",
        "k, m = essay.shape\n",
        "flag = True\n",
        "for i in range(k):\n",
        "    for j in range(m):\n",
        "        a = essay[i,j] == \"pass\" and congr[i,j] \n",
        "        b = essay[i,j] == \"not pass\" and not congr[i,j]\n",
        "        if a or b:\n",
        "            continue\n",
        "        else:\n",
        "            flag = False        \n",
        "print(flag)"
      ]
    },
    {
      "cell_type": "markdown",
      "metadata": {
        "id": "O4WRS6GagFBQ"
      },
      "source": [
        "### Задание 6\n",
        "\n",
        "Используя массивы `expert1` и `expert2` из задачи 4, определить согласованность двух экспертов, используя меру близости Жаккара, которая вычисляется следующим образом:\n",
        "\n",
        "$$\n",
        "J(A, B) = \\frac{|A \\cap B|}{|A| + |B| - |A \\cap B|}\n",
        ",$$ \n",
        "\n",
        "где $A$ – первое множество, $B$ – второе множество, $A \\cap B$ – пересечение множеств, т.е. их общие элементы. Запись $|A|$ означает «количество элементов в множестве». \n",
        "\n",
        "В качестве множеств $A$ и $B$ в данной задаче выступают множества (группы) студентов, которые получили зачёт у первого и второго экспертов."
      ]
    },
    {
      "cell_type": "code",
      "execution_count": null,
      "metadata": {
        "id": "uxsA-5kGgFBQ",
        "outputId": "4e153af0-d891-4ca5-e241-9e469223d348"
      },
      "outputs": [
        {
          "name": "stdout",
          "output_type": "stream",
          "text": [
            "0.5\n"
          ]
        }
      ],
      "source": [
        "### YOUR CODE HERE ###\n",
        "G = (sum(sum(congr)))/(sum(sum(expert1))+sum(sum(expert2))-sum(sum(congr)))\n",
        "print(G)"
      ]
    },
    {
      "cell_type": "code",
      "execution_count": null,
      "metadata": {
        "id": "ehTO6ipw_3qJ"
      },
      "outputs": [],
      "source": [
        ""
      ]
    }
  ],
  "metadata": {
    "colab": {
      "name": "jun_anl_numpy1_hw.ipynb",
      "provenance": [],
      "collapsed_sections": []
    },
    "kernelspec": {
      "display_name": "Python 3",
      "language": "python",
      "name": "python3"
    },
    "language_info": {
      "codemirror_mode": {
        "name": "ipython",
        "version": 3
      },
      "file_extension": ".py",
      "mimetype": "text/x-python",
      "name": "python",
      "nbconvert_exporter": "python",
      "pygments_lexer": "ipython3",
      "version": "3.8.8"
    }
  },
  "nbformat": 4,
  "nbformat_minor": 0
}