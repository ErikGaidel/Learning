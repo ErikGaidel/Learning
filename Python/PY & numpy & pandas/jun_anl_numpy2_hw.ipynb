{
  "cells": [
    {
      "cell_type": "markdown",
      "metadata": {
        "id": "ZqP5bJh9AP0N"
      },
      "source": [
        "# Библиотека `NumPy`: часть 2\n",
        "\n",
        "\n",
        "\n",
        "## Домашнее задание \n"
      ]
    },
    {
      "cell_type": "markdown",
      "metadata": {
        "id": "_tWKI_3aAP0W"
      },
      "source": [
        "### Задание 1\n",
        "Загрузить из файла `array_hw.npy` массив и сохранить его как `arr`. Массив содержит объёмы продаж мороженого (в штуках) в 5 магазинах за одну неделю в июне (7 дней, с понедельника до воскресенья). В заданиях 2-5 нужно работать с массивом `arr`."
      ]
    },
    {
      "cell_type": "code",
      "execution_count": null,
      "metadata": {
        "id": "p88oeoIlAP0Y",
        "outputId": "4bd95d74-c70e-4622-9775-69a040ece47e"
      },
      "outputs": [
        {
          "data": {
            "text/plain": [
              "array([[100,  80,  70,  60, 120],\n",
              "       [ 65,  55,  20,  50,  60],\n",
              "       [ 80,  90,  75,  80,  60],\n",
              "       [ 45,  60,  70,  20,  40],\n",
              "       [ 82,  47,  56,  89,  92],\n",
              "       [115, 120, 113, 106, 107],\n",
              "       [ 46,  74,  23,  34,  19]], dtype=int64)"
            ]
          },
          "execution_count": 2,
          "metadata": {},
          "output_type": "execute_result"
        }
      ],
      "source": [
        "### YOUR CODE HERE ###\n",
        "import numpy as np\n",
        "arr = np.load(\"array_hw.npy\")\n",
        "arr"
      ]
    },
    {
      "cell_type": "markdown",
      "metadata": {
        "id": "P7EFz1ohAP0g"
      },
      "source": [
        "### Задание 2\n",
        "Если думать о массиве `arr` как о таблице, сейчас в таблице магазины идут по столбцам (1 магазин = 1 столбец, всего 5), а дни – по строкам (1 день = 1 строка, всего 7). Преобразовать массив `arr` таким образом, чтобы по строкам шли магазины, а по столбцам – дни (1 строка = 1 магазин). Сохранить изменения. Проверить, что форма массива изменилась."
      ]
    },
    {
      "cell_type": "code",
      "execution_count": null,
      "metadata": {
        "id": "gP4q4TOYAP0h",
        "outputId": "41e91657-175f-4b51-81a7-dad1af4ca589"
      },
      "outputs": [
        {
          "name": "stdout",
          "output_type": "stream",
          "text": [
            "2\n"
          ]
        },
        {
          "data": {
            "text/plain": [
              "array([[100,  65,  80,  45,  82, 115,  46],\n",
              "       [ 80,  55,  90,  60,  47, 120,  74],\n",
              "       [ 70,  20,  75,  70,  56, 113,  23],\n",
              "       [ 60,  50,  80,  20,  89, 106,  34],\n",
              "       [120,  60,  60,  40,  92, 107,  19]], dtype=int64)"
            ]
          },
          "execution_count": 5,
          "metadata": {},
          "output_type": "execute_result"
        }
      ],
      "source": [
        "### YOUR CODE HERE ###\n",
        "arr_t = arr.transpose()\n",
        "arr_t"
      ]
    },
    {
      "cell_type": "markdown",
      "metadata": {
        "id": "V81htt4QAP0j"
      },
      "source": [
        "### Задание 3\n",
        "\n",
        "Давайте представим, что информация по продажам обновилась: оказалось, что пятый магазин в воскресенье продал не 19 порций мороженого, а 25, и второй магазин продал во вторник не 55 порций, а 65. Изменить массив `arr` в соответствии с этой информацией."
      ]
    },
    {
      "cell_type": "code",
      "execution_count": null,
      "metadata": {
        "id": "PFEsV1SaAP0k",
        "outputId": "44e5a27d-2f23-4403-e6db-81426ec151ce"
      },
      "outputs": [
        {
          "data": {
            "text/plain": [
              "array([[100,  80,  70,  60, 120],\n",
              "       [ 65,  65,  20,  50,  60],\n",
              "       [ 80,  90,  75,  80,  60],\n",
              "       [ 45,  60,  70,  20,  40],\n",
              "       [ 82,  47,  56,  89,  92],\n",
              "       [115, 120, 113, 106, 107],\n",
              "       [ 46,  74,  23,  34,  25]], dtype=int64)"
            ]
          },
          "execution_count": 6,
          "metadata": {},
          "output_type": "execute_result"
        }
      ],
      "source": [
        "### YOUR CODE HERE ###\n",
        "arr[6,4] = 25\n",
        "arr[1,1] = 65\n",
        "arr"
      ]
    },
    {
      "cell_type": "markdown",
      "metadata": {
        "id": "NWhj3MbXAP0l"
      },
      "source": [
        "### Задание 4\n",
        "\n",
        "Посчитать суммарный объём продаж мороженого по всем магазинам."
      ]
    },
    {
      "cell_type": "code",
      "execution_count": null,
      "metadata": {
        "id": "R4c8ZUyFAP0m",
        "outputId": "39cd1267-1fd5-4efc-81bf-1edc7ce9581e"
      },
      "outputs": [
        {
          "data": {
            "text/plain": [
              "2439"
            ]
          },
          "execution_count": 7,
          "metadata": {},
          "output_type": "execute_result"
        }
      ],
      "source": [
        "### YOUR CODE HERE ###\n",
        "arr.sum()"
      ]
    },
    {
      "cell_type": "markdown",
      "metadata": {
        "id": "59EXkJ0zAP0o"
      },
      "source": [
        "### Задание 5\n",
        "\n",
        "Выгрузить обновлённый массив `arr` в txt-файл. Сам txt-файл загружать в систему не нужно, только написать соответствующий код в ipynb-файл."
      ]
    },
    {
      "cell_type": "code",
      "execution_count": null,
      "metadata": {
        "id": "RzrQKSUfAP0p"
      },
      "outputs": [],
      "source": [
        "### YOUR CODE HERE ###\n",
        "np.savetxt(\"arr.txt\", arr)"
      ]
    },
    {
      "cell_type": "markdown",
      "metadata": {
        "id": "LgLX91f_AP0p"
      },
      "source": [
        "### Задание 6\n",
        "Дан массив `income`, содержащий значения прибыли магазина в тысячах на начало, середину и конец года, за четыре года подряд (значения никак не сгруппированы, можно считать, что они так выгрузились из файла). \n",
        "Изменить форму массива так, чтобы значения были сгруппированы по три значения в каждом списке внутри массива (прибыль на начало, середину и конец года)."
      ]
    },
    {
      "cell_type": "code",
      "execution_count": null,
      "metadata": {
        "id": "8MnqlBDHAP0q"
      },
      "outputs": [],
      "source": [
        "# массив\n",
        "income = np.array([1000, 2000, 3500, \n",
        "                   2500, 1500, 3800, \n",
        "                   1200, 9000, 12000,\n",
        "                   4500, 6700, 11000])"
      ]
    },
    {
      "cell_type": "code",
      "execution_count": null,
      "metadata": {
        "id": "F_J1Z-UxAP0r",
        "outputId": "c101b056-a640-41bf-8162-2589a257b13c"
      },
      "outputs": [
        {
          "data": {
            "text/plain": [
              "array([[ 1000,  2000,  3500],\n",
              "       [ 2500,  1500,  3800],\n",
              "       [ 1200,  9000, 12000],\n",
              "       [ 4500,  6700, 11000]])"
            ]
          },
          "execution_count": 12,
          "metadata": {},
          "output_type": "execute_result"
        }
      ],
      "source": [
        "### YOUR CODE HERE ###\n",
        "income.reshape(4,3)"
      ]
    },
    {
      "cell_type": "markdown",
      "metadata": {
        "id": "kwHhWPzPAP0s"
      },
      "source": [
        "### Задание 7\n",
        "Создать список `turnout` (*list*, не массив), содержащий следующие значения явки на избирательные участки в процентах:\n",
        "\n",
        "23.56, 45.78, 34.92, 57.34, 56.55, 67.23.\n",
        "\n",
        "Создать, используя списковые включения и встроенные, не из `NumPy`, функции для округления, новый список `turnout_r`, который состоит из округлённых до первого знака после запятой значений явки из `turnout`."
      ]
    },
    {
      "cell_type": "code",
      "execution_count": null,
      "metadata": {
        "id": "cojI1k0SAP0t",
        "outputId": "4b9c895b-a4e9-42e7-9435-d3483b5eb412"
      },
      "outputs": [
        {
          "name": "stdout",
          "output_type": "stream",
          "text": [
            "[23.56, 45.78, 34.92, 57.34, 56.55, 67.23]\n"
          ]
        },
        {
          "data": {
            "text/plain": [
              "[23.6, 45.8, 34.9, 57.3, 56.5, 67.2]"
            ]
          },
          "execution_count": 16,
          "metadata": {},
          "output_type": "execute_result"
        }
      ],
      "source": [
        "### YOUR CODE HERE ###\n",
        "turnout = [23.56, 45.78, 34.92, 57.34, 56.55, 67.23]\n",
        "print(turnout)\n",
        "turnout_r = [round(i,1) for i in turnout]\n",
        "turnout_r"
      ]
    },
    {
      "cell_type": "markdown",
      "metadata": {
        "id": "wBqpJq7gAP0u"
      },
      "source": [
        "### Задание 8\n",
        "Выполнить те же операции, что и в предыдущей задаче, но с использованием массивов и функций `NumPy`. Другими словами, создать массив `turnout` и на его основе создать массив `turnout_r` с округлёнными до первого знака значениями явки."
      ]
    },
    {
      "cell_type": "code",
      "execution_count": null,
      "metadata": {
        "id": "jEV8JmPSAP0v",
        "outputId": "39fac124-defc-482b-b5c9-9dac1920fb92"
      },
      "outputs": [
        {
          "name": "stdout",
          "output_type": "stream",
          "text": [
            "[23.56 45.78 34.92 57.34 56.55 67.23]\n"
          ]
        },
        {
          "data": {
            "text/plain": [
              "array([23.6, 45.8, 34.9, 57.3, 56.6, 67.2])"
            ]
          },
          "execution_count": 20,
          "metadata": {},
          "output_type": "execute_result"
        }
      ],
      "source": [
        "### YOUR CODE HERE ###\n",
        "turnout = np.array(turnout)\n",
        "print(turnout)\n",
        "turnout_r = turnout.round(1)\n",
        "turnout_r"
      ]
    },
    {
      "cell_type": "markdown",
      "metadata": {
        "id": "aDLUurC2AP0v"
      },
      "source": [
        "### Задание 9\n",
        "\n",
        "Зайдите на [страницу](https://ru.wikipedia.org/wiki/%D0%9C%D0%B5%D0%B6%D0%B4%D1%83%D0%BD%D0%B0%D1%80%D0%BE%D0%B4%D0%BD%D1%8B%D0%B9_%D0%B8%D0%BD%D0%B4%D0%B5%D0%BA%D1%81_%D1%81%D1%87%D0%B0%D1%81%D1%82%D1%8C%D1%8F) Википедии, посвящённую Международному индексу счастья, выберите из таблицы **2012 Международный индекс счастья** любые 5 стран и любые 3 показателя и создайте структурированный массив `happy`, такой, в котором есть поле «название страны» и поля для трёх выбранных показателей. Выберите подходящий тип для каждого поля (показателя) в массиве и учтите это при создание структурированного массива. Выведите полученный массив на экран."
      ]
    },
    {
      "cell_type": "code",
      "execution_count": null,
      "metadata": {
        "id": "SDZu9szfAP0w",
        "outputId": "e3ce611c-c8f5-4374-9532-4643767d3c1d"
      },
      "outputs": [
        {
          "data": {
            "text/plain": [
              "array([('Russia', 0, 4124.2, 150.2), ('Belarus', 1,  123.3,   9.8),\n",
              "       ('Litva', 2,  215.8,  15.3), ('Ukrane', 3,  347.2,  17.9),\n",
              "       ('Polsha', 4,  150. ,  12.1)],\n",
              "      dtype=[('name', '<U15'), ('index', '<i4'), ('square', '<f8'), ('population', '<f8')])"
            ]
          },
          "execution_count": 30,
          "metadata": {},
          "output_type": "execute_result"
        }
      ],
      "source": [
        "### YOUR CODE HERE ###\n",
        "happy = np.array([('Russia', 0, 4124.2,150.2),(\"Belarus\", 1, 123.3, 9.8),(\"Litva\", 2, 215.8, 15.3),\n",
        "                  (\"Ukrane\", 3, 347.2, 17.9),(\"Polsha\", 4, 150,12.1)], \n",
        "                 dtype = [(\"name\", \"<U15\"),(\"index\", int),(\"square\", float),(\"population\", float)])\n",
        "happy"
      ]
    },
    {
      "cell_type": "markdown",
      "metadata": {
        "id": "j8onA29yAP0y"
      },
      "source": [
        "### Задание 10\n",
        "Сконвертируйте полученный в предыдущей задаче структурированный массив в обычный список и выведите на экран его второй элемент."
      ]
    },
    {
      "cell_type": "code",
      "execution_count": null,
      "metadata": {
        "id": "SApVtYuSAP0z",
        "outputId": "7bd268ec-6adc-4319-f6a3-5008520ae23f"
      },
      "outputs": [
        {
          "name": "stdout",
          "output_type": "stream",
          "text": [
            "[('Russia', 0, 4124.2, 150.2), ('Belarus', 1, 123.3, 9.8), ('Litva', 2, 215.8, 15.3), ('Ukrane', 3, 347.2, 17.9), ('Polsha', 4, 150.0, 12.1)]\n"
          ]
        },
        {
          "data": {
            "text/plain": [
              "('Belarus', 1, 123.3, 9.8)"
            ]
          },
          "execution_count": 31,
          "metadata": {},
          "output_type": "execute_result"
        }
      ],
      "source": [
        "### YOUR CODE HERE ###\n",
        "l_h = happy.tolist()\n",
        "print(l_h)\n",
        "l_h[1]"
      ]
    },
    {
      "cell_type": "markdown",
      "metadata": {
        "id": "Ml4DCXKvAP0z"
      },
      "source": [
        ".<br> .<br> .<br> .<br> .<br> .<br> .<br> .<br> .<br> .<br> .<br> .<br> .<br> .<br> .<br> .<br> .<br> .<br> \n",
        "# Дополнительное задание.\n",
        "<br>"
      ]
    },
    {
      "cell_type": "markdown",
      "metadata": {
        "id": "uplaYklo0zrv"
      },
      "source": [
        "### Задание 1\n",
        "\n",
        "Написать функцию `build_array()`, которая принимает на вход размерность квадратной матрицы (двумерного массива, в котором число строк и число столбцов совпадают) и создаёт единичную матрицу `E` (массив) соответствующей размерности. Использовать готовую функцию `np.eye()` нельзя, можно использовать циклы и условные конструкции.\n",
        "\n",
        "**Пример:**\n",
        "\n",
        "Ввод:\n",
        "\n",
        "    build_array(4)\n",
        "\n",
        "Вывод:\n",
        "\n",
        "    array([[1., 0., 0., 0.],\n",
        "       [0., 1., 0., 0.],\n",
        "       [0., 0., 1., 0.],\n",
        "       [0., 0., 0., 1.]])\n",
        "       \n",
        "**Подсказка:** про циклы, условные конструкции, функции и двумерные массивы можно почитать в соответствующих разделах pythontutor.ru: [цикл for](http://pythontutor.ru/lessons/for_loop/), [условия](http://pythontutor.ru/lessons/ifelse/), [функции](http://pythontutor.ru/lessons/functions/) и [массивы](http://pythontutor.ru/lessons/2d_arrays/)."
      ]
    },
    {
      "cell_type": "code",
      "execution_count": null,
      "metadata": {
        "id": "saSGBa2N0zrw",
        "outputId": "05af0ed2-43e4-4e22-eaa0-7c2b3533e486"
      },
      "outputs": [
        {
          "data": {
            "text/plain": [
              "array([[1., 0., 0., 0., 0.],\n",
              "       [0., 1., 0., 0., 0.],\n",
              "       [0., 0., 1., 0., 0.],\n",
              "       [0., 0., 0., 1., 0.],\n",
              "       [0., 0., 0., 0., 1.]])"
            ]
          },
          "execution_count": 37,
          "metadata": {},
          "output_type": "execute_result"
        }
      ],
      "source": [
        "### YOUR CODE HERE ###\n",
        "def build_array(dim):\n",
        "    l = []\n",
        "    for i in range(dim):\n",
        "        s = []\n",
        "        for j in range(dim):\n",
        "            if i == j:\n",
        "                s.append(1.)\n",
        "            else:\n",
        "                s.append(0.)\n",
        "        l.append(s)\n",
        "    return np.array(l)\n",
        "\n",
        "arr2 = build_array(5)\n",
        "arr2"
      ]
    },
    {
      "cell_type": "markdown",
      "metadata": {
        "id": "jgutn2Sj0zr1"
      },
      "source": [
        "### Задание 2\n",
        "\n",
        "Напишите функцию `my_reshape()`, которая принимает на вход массив и его новую размерность (пару чисел), и:\n",
        "\n",
        "* если указанные измерения корректны, то возвращает массив новой размерности;\n",
        "* если указанные измерения некорректны, то возвращает пустой массив (пример: из массива 2×5 нельзя сделать новый массив 4×3, потому что в старом массиве 10 элементов, а в новом – 12).\n",
        "\n",
        "**Пример:**\n",
        "\n",
        "Ввод:\n",
        "\n",
        "    A = np.array([[2, 4, 6], \n",
        "            [4, 8, 10]])\n",
        "\n",
        "    my_reshape(A, 6, 1)\n",
        "\n",
        "Вывод:\n",
        "\n",
        "    array([[2], \n",
        "       [4], \n",
        "       [6], \n",
        "       [4], \n",
        "       [8],\n",
        "       [10]])\n",
        "\n",
        "Ввод:\n",
        "\n",
        "    A = np.array([[2, 4, 6], \n",
        "            [4, 8, 10]])\n",
        "\n",
        "    my_reshape(A, 4, 2)\n",
        "\n",
        "Вывод:\n",
        "\n",
        "    array([])\n",
        "\n",
        "**Примечание:** результаты в выводе могут визуально отличаться (выводиться без переносов по строкам, с указанием типа данных), это нормально, примеры модифицированы для читаемости.\n",
        "\n",
        "**Подсказка:** см. материалы, предложенные в задаче 1."
      ]
    },
    {
      "cell_type": "code",
      "execution_count": null,
      "metadata": {
        "id": "BARsZ6SU0zr1",
        "outputId": "39d91b67-eb53-4e2f-e50d-6230b1cbd768"
      },
      "outputs": [
        {
          "name": "stdout",
          "output_type": "stream",
          "text": [
            "[10, 8, 4, 10, 8, 4, 6, 4, 2]\n",
            "[10, 8, 4, 10, 8, 4]\n",
            "[10, 8, 4]\n",
            "[]\n"
          ]
        },
        {
          "data": {
            "text/plain": [
              "array([[ 2,  4,  6],\n",
              "       [ 4,  8, 10],\n",
              "       [ 4,  8, 10]])"
            ]
          },
          "execution_count": 53,
          "metadata": {},
          "output_type": "execute_result"
        }
      ],
      "source": [
        "### YOUR CODE HERE ###\n",
        "def my_rashape(arr, d1, d2):\n",
        "    s1, s2 = arr.shape\n",
        "    if s1 * s2 != d1 * d2:\n",
        "        return np.array([])\n",
        "    l, l2 = [], []\n",
        "    for k in arr:\n",
        "        for n in k:\n",
        "            l2.append(n)\n",
        "    l2.reverse()\n",
        "    print(l2)\n",
        "    for i in range(d1):\n",
        "        s = []\n",
        "        for j in range(d2):\n",
        "            s.append(l2.pop())\n",
        "        print(l2)    \n",
        "        l.append(s)\n",
        "    return np.array(l)\n",
        "\n",
        "A = np.array([[2, 4, 6], \n",
        "        [4, 8, 10], \n",
        "        [4, 8, 10]])\n",
        "my_rashape(A, 3, 3)"
      ]
    },
    {
      "cell_type": "code",
      "execution_count": null,
      "metadata": {
        "id": "yMbq8rwiAP06"
      },
      "outputs": [],
      "source": [
        ""
      ]
    }
  ],
  "metadata": {
    "kernelspec": {
      "display_name": "Python 3",
      "language": "python",
      "name": "python3"
    },
    "language_info": {
      "codemirror_mode": {
        "name": "ipython",
        "version": 3
      },
      "file_extension": ".py",
      "mimetype": "text/x-python",
      "name": "python",
      "nbconvert_exporter": "python",
      "pygments_lexer": "ipython3",
      "version": "3.8.8"
    },
    "colab": {
      "name": "jun_anl_numpy2_hw.ipynb",
      "provenance": [],
      "collapsed_sections": []
    }
  },
  "nbformat": 4,
  "nbformat_minor": 0
}