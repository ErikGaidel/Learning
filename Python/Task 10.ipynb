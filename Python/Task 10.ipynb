{
 "cells": [
  {
   "cell_type": "code",
   "execution_count": 18,
   "id": "8c0c40fa",
   "metadata": {},
   "outputs": [
    {
     "name": "stdout",
     "output_type": "stream",
     "text": [
      "1\n",
      "Введите схему вагона:\n",
      "#..######..######..######..###\n",
      "#..######..######..######..###\n",
      "#..######..######..######..###\n",
      "2\n",
      "2\n"
     ]
    }
   ],
   "source": [
    "def check_carriage_seats(carr:list):\n",
    "    ans = [-2,-2,-2,-2,-2,-2]\n",
    "    for l in carr:\n",
    "        ans_l = check_line_seats(l)\n",
    "        for a in ans_l:\n",
    "            if a = -1\n",
    "    return ans\n",
    "\n",
    "def check_line_seats(l:str):\n",
    "    \"\"\" входные данные:\n",
    "        k - параметр ограничений на подряд идущие места\n",
    "        s - строка схемы заполненности ряда в вагоне\n",
    "        возвращает:\n",
    "        -1 - если нарушены ограничения\n",
    "        или\n",
    "        int n - число свободных мест в ряде вагона при соблюдении ограничений\n",
    "    \"\"\"\n",
    "    n = 0\n",
    "    if l[0]==\"#\":\n",
    "        n =+ 1\n",
    "    line = l[3:].split(\"..\")\n",
    "    for subl in line:\n",
    "        ans = check_line_seats(subl) \n",
    "        if !(ans):\n",
    "            return []\n",
    "        n += m\n",
    "    return n\n",
    "\n",
    "        \n",
    "def check_subl_seats(subl:str):\n",
    "    ans = []\n",
    "        for k in range(1,7):\n",
    "            for i in range(k):\n",
    "            coord_x = subl.find(\"X\",len(sub_s))\n",
    "        if coord_x:\n",
    "            seats =+1\n",
    "        else:\n",
    "            seats =+ round(6/k)\n",
    "    return ans\n",
    "\n",
    "    \n",
    "carr = []\n",
    "for _ in range(int(input())):\n",
    "    for i in range(3):\n",
    "        if i != 1:\n",
    "            carr.append(input())\n",
    "        else:\n",
    "            input()\n",
    "        ans = check_carriage_seats(carr)\n",
    "        print(*ans)\n",
    "      "
   ]
  },
  {
   "cell_type": "code",
   "execution_count": 1,
   "id": "d1839a36",
   "metadata": {},
   "outputs": [
    {
     "data": {
      "text/plain": [
       "[1, 2, 3, -1, 1, 0]"
      ]
     },
     "execution_count": 1,
     "metadata": {},
     "output_type": "execute_result"
    }
   ],
   "source": [
    "[1,2,3]+[-1,1,0]"
   ]
  },
  {
   "cell_type": "code",
   "execution_count": null,
   "id": "5bc07fc4",
   "metadata": {},
   "outputs": [],
   "source": [
    "\"\"\"\n",
    "1 <= k <= 6 - среди стольки подряд идущих мест должно быть занято не более одного.\n",
    "пример ввода:\n",
    "#..######..######..######..###\n",
    "..............................\n",
    "#..######..######..######..###\n",
    "где . проход и пространство у дверей\n",
    "    # - место свободно\n",
    "    X - место занято\n",
    " Определить выполняются ли ограничения для всех k(одна строка и через пробел 6 значений , так для каждого набора), \n",
    " если нет вывести -1, если да, подсчитать количество мест которые еще можно занять и вывести это число.\n",
    "\"\"\""
   ]
  }
 ],
 "metadata": {
  "kernelspec": {
   "display_name": "Python 3",
   "language": "python",
   "name": "python3"
  },
  "language_info": {
   "codemirror_mode": {
    "name": "ipython",
    "version": 3
   },
   "file_extension": ".py",
   "mimetype": "text/x-python",
   "name": "python",
   "nbconvert_exporter": "python",
   "pygments_lexer": "ipython3",
   "version": "3.8.8"
  }
 },
 "nbformat": 4,
 "nbformat_minor": 5
}
