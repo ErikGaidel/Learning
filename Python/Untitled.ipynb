{
 "cells": [
  {
   "cell_type": "code",
   "execution_count": 1,
   "id": "ef2f4b65",
   "metadata": {},
   "outputs": [],
   "source": [
    "import datetime"
   ]
  },
  {
   "cell_type": "code",
   "execution_count": 2,
   "id": "e53955a3",
   "metadata": {},
   "outputs": [
    {
     "name": "stdout",
     "output_type": "stream",
     "text": [
      "303 days, 0:00:00\n"
     ]
    }
   ],
   "source": [
    "BylinaOnFree = datetime.date.today() - datetime.date(2021,6,21)\n",
    "print(BylinaOnFree)"
   ]
  },
  {
   "cell_type": "code",
   "execution_count": 3,
   "id": "189590f0",
   "metadata": {},
   "outputs": [
    {
     "name": "stdout",
     "output_type": "stream",
     "text": [
      "62 days, 0:00:00\n"
     ]
    }
   ],
   "source": [
    "MeFree = datetime.date(2022,6,21) - datetime.date.today()\n",
    "print(MeFree)"
   ]
  },
  {
   "cell_type": "code",
   "execution_count": 17,
   "id": "1559b9f4",
   "metadata": {},
   "outputs": [],
   "source": [
    "from sympy import *\n",
    "from sympy.plotting import plot"
   ]
  },
  {
   "cell_type": "code",
   "execution_count": 18,
   "id": "99a5e6fd",
   "metadata": {},
   "outputs": [],
   "source": [
    "init_printing(use_unicode=False, wrap_line=False, no_global=True)"
   ]
  },
  {
   "cell_type": "code",
   "execution_count": 50,
   "id": "00d552e0",
   "metadata": {},
   "outputs": [],
   "source": [
    "x = Symbol('x')\n",
    "f = atan(5*tan(x))"
   ]
  },
  {
   "cell_type": "code",
   "execution_count": 51,
   "id": "e7c479de",
   "metadata": {},
   "outputs": [
    {
     "data": {
      "image/png": "[encoded data removed]",
      "text/plain": [
       "<Figure size 432x288 with 1 Axes>"
      ]
     },
     "metadata": {
      "needs_background": "light"
     },
     "output_type": "display_data"
    },
    {
     "data": {
      "text/plain": [
       "<sympy.plotting.plot.Plot at 0x20ae5488880>"
      ]
     },
     "execution_count": 51,
     "metadata": {},
     "output_type": "execute_result"
    }
   ],
   "source": [
    "plot(f, (x,-pi/2,pi/2))"
   ]
  },
  {
   "cell_type": "code",
   "execution_count": 52,
   "id": "ac3604f3",
   "metadata": {},
   "outputs": [
    {
     "data": {
      "image/png": "[encoded data removed]",
      "text/latex": [
       "$\\displaystyle \\operatorname{atan}{\\left(5 \\tan{\\left(x \\right)} \\right)}$"
      ],
      "text/plain": [
       "atan(5*tan(x))"
      ]
     },
     "execution_count": 52,
     "metadata": {},
     "output_type": "execute_result"
    }
   ],
   "source": [
    "simplify(f)"
   ]
  },
  {
   "cell_type": "code",
   "execution_count": null,
   "id": "ef74c525",
   "metadata": {},
   "outputs": [],
   "source": []
  }
 ],
 "metadata": {
  "kernelspec": {
   "display_name": "Python 3",
   "language": "python",
   "name": "python3"
  },
  "language_info": {
   "codemirror_mode": {
    "name": "ipython",
    "version": 3
   },
   "file_extension": ".py",
   "mimetype": "text/x-python",
   "name": "python",
   "nbconvert_exporter": "python",
   "pygments_lexer": "ipython3",
   "version": "3.8.8"
  }
 },
 "nbformat": 4,
 "nbformat_minor": 5
}
