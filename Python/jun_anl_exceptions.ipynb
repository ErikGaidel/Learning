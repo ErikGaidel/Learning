{
 "cells": [
  {
   "cell_type": "markdown",
   "metadata": {
    "colab_type": "text",
    "id": "c2KtXmjxtgw-"
   },
   "source": [
    "# Исключения\n",
    "## Домашняя работа"
   ]
  },
  {
   "cell_type": "markdown",
   "metadata": {
    "colab_type": "text",
    "id": "0Vhx-zKitgxA"
   },
   "source": [
    "### Вопросы по лекциям."
   ]
  },
  {
   "cell_type": "markdown",
   "metadata": {
    "colab_type": "text",
    "id": "14lleKewtgxC"
   },
   "source": [
    "Как поймать вообще все ошибки, которые могут произойти?"
   ]
  },
  {
   "cell_type": "markdown",
   "metadata": {
    "colab_type": "text",
    "id": "VQnYGkVKtgxD"
   },
   "source": [
    "**Ответ:** написать просто except:\n"
   ]
  },
  {
   "cell_type": "markdown",
   "metadata": {
    "colab_type": "text",
    "id": "paSc2JE6tgxD"
   },
   "source": [
    "Сколько раз подряд можно указывать except?"
   ]
  },
  {
   "cell_type": "markdown",
   "metadata": {
    "colab_type": "text",
    "id": "bU0lzJPBtgxE"
   },
   "source": [
    "**Ответ:** сколько угодно, сколько исключений хотим обработать столько и можно\n"
   ]
  },
  {
   "cell_type": "markdown",
   "metadata": {
    "colab_type": "text",
    "id": "9wQ-yXpGtgxF"
   },
   "source": [
    "Вы хотите с помощью print вывести название ошибки в консоль, как это сделать?"
   ]
  },
  {
   "cell_type": "markdown",
   "metadata": {
    "colab_type": "text",
    "id": "iE1iqRZctgxH"
   },
   "source": [
    "**Ответ:** \n",
    "\n",
    "except BaseException as exc:\n",
    "\n",
    "    print(f\"{exc}\")\n"
   ]
  },
  {
   "cell_type": "markdown",
   "metadata": {
    "colab_type": "text",
    "id": "EDAi3ZFBtgxI"
   },
   "source": [
    "Вы хотите с помощью print вывести параметры ошибки в консоль, как это сделать?"
   ]
  },
  {
   "cell_type": "markdown",
   "metadata": {
    "colab_type": "text",
    "id": "qWimgtF3tgxK"
   },
   "source": [
    "**Ответ:**\n",
    "\n",
    "except BaseException as exc:\n",
    "\n",
    "    print(f\"{exc.args}\")"
   ]
  },
  {
   "cell_type": "markdown",
   "metadata": {
    "colab_type": "text",
    "id": "leOCJIlRtgxK"
   },
   "source": [
    "Что такое DeprecationWarning?"
   ]
  },
  {
   "cell_type": "markdown",
   "metadata": {
    "colab_type": "text",
    "id": "KyaynuyvtgxL"
   },
   "source": [
    "**Ответ:** предупреждения которые часто встречаются в модулях и библиотеках, с помощью которых разработчики сообщают программисту о том что в следующей версии библиотеки/модуля эту функцию планируют убрать (посчитали не нужнйо например)\n"
   ]
  },
  {
   "cell_type": "markdown",
   "metadata": {
    "colab_type": "text",
    "id": "oxgCUHzotgxM"
   },
   "source": [
    "### Разминочные задания. \n",
    "<br>\n",
    "\n",
    "Вам даны две функции. Поисследуйте, какие ошибки могут возникнуть при их реализации. Обработайте эти ошибки."
   ]
  },
  {
   "cell_type": "code",
   "execution_count": 63,
   "metadata": {
    "colab": {},
    "colab_type": "code",
    "id": "X4nsMUUAtgxN"
   },
   "outputs": [],
   "source": [
    "def div():\n",
    "    try:\n",
    "        for i in range(2):\n",
    "            x = int(input(\"enter a number: \"))\n",
    "            y = int(input(\"enter another number: \"))\n",
    "            print(x, '/', y, '=', x/y)\n",
    "    except ZeroDivisionError as exc:\n",
    "        print(f\" Problem in function div(): {exc} !\")\n",
    "    except ValueError as exc:\n",
    "        print(f\" Problem in function div(): {exc} !\")\n"
   ]
  },
  {
   "cell_type": "code",
   "execution_count": 64,
   "metadata": {
    "colab": {},
    "colab_type": "code",
    "id": "hoDmt-nStgxS"
   },
   "outputs": [],
   "source": [
    "def sumOfPairs(L1, L2):\n",
    "    try:\n",
    "        sum = 0\n",
    "        sumOfPairs = []\n",
    "        for i in range(len(L1)):\n",
    "            sumOfPairs.append(L1[i]+L2[i])\n",
    "        print(\"sumOfPairs = \", sumOfPairs)\n",
    "    except TypeError as exc:\n",
    "        print(f\" Problem in function sumOfPairs(): {exc}, {exc.args}!\")\n",
    "    except IndexError as exc:\n",
    "        print(f\" Problem in function sumOfPairs(): {exc}!\")\n",
    "    "
   ]
  },
  {
   "cell_type": "code",
   "execution_count": 67,
   "metadata": {},
   "outputs": [
    {
     "name": "stdout",
     "output_type": "stream",
     "text": [
      "enter a number: 1\n",
      "enter another number: 1\n",
      "1 / 1 = 1.0\n",
      "enter a number: 1\n",
      "enter another number: 1\n",
      "1 / 1 = 1.0\n",
      "sumOfPairs =  [4, 1]\n"
     ]
    }
   ],
   "source": [
    "try:\n",
    "    div()\n",
    "    sumOfPairs([3, 1], [1, 0])\n",
    "except TypeError as exc:\n",
    "    print(f\"Exception in call: {exc}, {exc.args}!\")\n"
   ]
  },
  {
   "cell_type": "markdown",
   "metadata": {
    "colab_type": "text",
    "id": "geX0-Zq6tgxU"
   },
   "source": [
    "# Задание 1.\n",
    "\n",
    "Есть файл с протоколом регистраций пользователей на сайте (registrations.txt).<br>\n",
    "Каждая строка содержит информацию о имени, электронной почте и возрасте человека. <br><br>\n",
    "\n",
    "\n",
    "Надо проверить данные из файла, для каждой строки:\n",
    " - присутсвуют все три поля\n",
    " - поле имени содержит только буквы\n",
    " - поле email содержит @ и .\n",
    " - поле возраст является числом от 10 до 99<br>\n",
    "\n",
    "В результате проверки нужно сформировать два файла\n",
    " - registrations_good.log для правильных данных, записывать строки как есть\n",
    "- registrations_bad.log для ошибочных, записывать строку и вид ошибки.<br>\n",
    "\n",
    "Для валидации строки данных написать метод, который может выкидывать исключения:\n",
    " - НЕ присутсвуют все три поля: ValueError\n",
    " - поле имени содержит НЕ только буквы: NotNameError (кастомное исключение)\n",
    " - поле email НЕ содержит @ и .(точку): NotEmailError (кастомное исключение)\n",
    " - поле возраст НЕ является числом от 10 до 99: ValueError\n",
    "Вызов метода обернуть в try-except."
   ]
  },
  {
   "cell_type": "code",
   "execution_count": 1,
   "metadata": {
    "colab": {},
    "colab_type": "code",
    "id": "Eq2Ax0LntgxW"
   },
   "outputs": [
    {
     "name": "stdout",
     "output_type": "stream",
     "text": [
      "1336\n"
     ]
    }
   ],
   "source": [
    "### YOUR CODE HERE ###\n",
    "class Valid:\n",
    "\n",
    "    def checking(self, line, count):\n",
    "        try:\n",
    "            result = None\n",
    "            name, email, age = line.split()\n",
    "            if not name.isalpha():\n",
    "                raise NotNameError(f\"Поле имени содержит не только буквы в: {line}\")\n",
    "            if \"@\" not in email or \".\" not in email:\n",
    "                raise NotEmailError(f\"Поле email не содержить . или @ в: {line}\")\n",
    "            if not 10 <= int(age) <= 99:\n",
    "                raise ValueError(\"Не от 10 до 99\")\n",
    "        except ValueError as exc:\n",
    "            if exc.args[0] == \"Не от 10 до 99\":\n",
    "                result = f\"Поле возраст НЕ является числом от 10 до 99 в: {line}\"\n",
    "                count += 1\n",
    "            else:\n",
    "                result = f\"{exc} in: {line}\"\n",
    "                count += 1\n",
    "        except NotNameError as exc:\n",
    "            result = f\"{exc}\"\n",
    "            count += 1\n",
    "        except NotEmailError as exc:\n",
    "            result = f\"{exc}\"\n",
    "            count += 1\n",
    "        return count, result\n",
    "\n",
    "\n",
    "class NotNameError(BaseException):\n",
    "\n",
    "    def __int__(self, mess):\n",
    "        self.message = mess\n",
    "\n",
    "\n",
    "class NotEmailError(BaseException):\n",
    "\n",
    "    def __int__(self, mess):\n",
    "        self.message = mess\n",
    "\n",
    "\n",
    "count_bad = 0\n",
    "a = Valid()\n",
    "with open(\"registrations_.txt\", \"r\", encoding=\"UTF-8\") as ff:\n",
    "    for line in ff:\n",
    "        try:\n",
    "            count_bad, result = a.checking(line, count_bad)\n",
    "            if result is None:\n",
    "                with open (\"registrations_good_log.txt\", \"a\", encoding=\"UTF-8\") as fg:\n",
    "                    fg.write(line)\n",
    "            else:\n",
    "                with open (\"registrations_bad_log.txt\", \"a\", encoding=\"UTF-8\") as fb:\n",
    "                    fb.write(result)\n",
    "        except:\n",
    "            print(f\"Something wrong, now we work with {line}\")\n",
    "            fg.close()\n",
    "            ff.close()\n",
    "            fb.close()\n",
    "\n",
    "print(count_bad)\n"
   ]
  },
  {
   "cell_type": "code",
   "execution_count": null,
   "metadata": {},
   "outputs": [],
   "source": []
  }
 ],
 "metadata": {
  "colab": {
   "name": "jun_anl_exeptions.ipynb",
   "provenance": [],
   "version": "0.3.2"
  },
  "kernelspec": {
   "display_name": "Python 3",
   "language": "python",
   "name": "python3"
  },
  "language_info": {
   "codemirror_mode": {
    "name": "ipython",
    "version": 3
   },
   "file_extension": ".py",
   "mimetype": "text/x-python",
   "name": "python",
   "nbconvert_exporter": "python",
   "pygments_lexer": "ipython3",
   "version": "3.8.8"
  }
 },
 "nbformat": 4,
 "nbformat_minor": 1
}
