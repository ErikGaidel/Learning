{
  "cells": [
    {
      "cell_type": "markdown",
      "metadata": {
        "id": "Eg62Pmz3o83v"
      },
      "source": [
        "---\n",
        "\n",
        "In this challenge, you need to create a machine learning model that will classify SMS messages as either \"ham\" or \"spam\". A \"ham\" message is a normal message sent by a friend. A \"spam\" message is an advertisement or a message sent by a company.\n",
        "\n",
        "You should create a function called `predict_message` that takes a message string as an argument and returns a list. The first element in the list should be a number between zero and one that indicates the likeliness of \"ham\" (0) or \"spam\" (1). The second element in the list should be the word \"ham\" or \"spam\", depending on which is most likely.\n",
        "\n",
        "For this challenge, you will use the [SMS Spam Collection dataset](http://www.dt.fee.unicamp.br/~tiago/smsspamcollection/). The dataset has already been grouped into train data and test data.\n",
        "\n",
        "The first two cells import the libraries and data. The final cell tests your model and function. Add your code in between these cells.\n"
      ]
    },
    {
      "cell_type": "code",
      "execution_count": null,
      "metadata": {
        "id": "8RZOuS9LWQvv"
      },
      "outputs": [],
      "source": [
        "# import libraries\n",
        "import seaborn as sns\n",
        "from sklearn.preprocessing import LabelEncoder\n",
        "import tensorflow as tf\n",
        "import pandas as pd\n",
        "from tensorflow import keras\n",
        "import tensorflow_datasets as tfds\n",
        "import numpy as np\n",
        "import matplotlib.pyplot as plt\n",
        "from keras.preprocessing.text import Tokenizer\n",
        "from tensorflow.keras.preprocessing import sequence\n",
        "\n",
        "#print(tf.__version__)"
      ]
    },
    {
      "cell_type": "code",
      "execution_count": null,
      "metadata": {
        "id": "lMHwYXHXCar3"
      },
      "outputs": [],
      "source": [
        "# get data files\n",
        "!wget https://cdn.freecodecamp.org/project-data/sms/train-data.tsv\n",
        "!wget https://cdn.freecodecamp.org/project-data/sms/valid-data.tsv\n",
        "\n",
        "train_file_path = \"train-data.tsv\"\n",
        "test_file_path = \"valid-data.tsv\""
      ]
    },
    {
      "cell_type": "code",
      "execution_count": null,
      "metadata": {
        "id": "g_h508FEClxO"
      },
      "outputs": [],
      "source": [
        "# write data from tsv to pandas dataframes\n",
        "train = pd.read_csv(train_file_path, sep = \"\\t\", names = [\"h/s\",\"text\"])\n",
        "test = pd.read_csv(test_file_path, sep = \"\\t\", names = [\"h/s\",\"text\"])\n"
      ]
    },
    {
      "cell_type": "code",
      "source": [
        "# look and explore data\n",
        "train.info()\n",
        "print()\n",
        "test.info()"
      ],
      "metadata": {
        "id": "PSBLLb9QFuSw"
      },
      "execution_count": null,
      "outputs": []
    },
    {
      "cell_type": "code",
      "source": [
        "train.head(10)"
      ],
      "metadata": {
        "id": "4MaDK2Rj_vMJ"
      },
      "execution_count": null,
      "outputs": []
    },
    {
      "cell_type": "code",
      "execution_count": null,
      "metadata": {
        "id": "zOMKywn4zReN"
      },
      "outputs": [],
      "source": [
        "train[\"len\"] = train[\"text\"].apply(len)\n",
        "test[\"len\"] = test[\"text\"].apply(len)"
      ]
    },
    {
      "cell_type": "code",
      "source": [
        "sns.distplot(train['len'], kde=False)"
      ],
      "metadata": {
        "id": "rk7q8_ej6wbG"
      },
      "execution_count": null,
      "outputs": []
    },
    {
      "cell_type": "code",
      "source": [
        "sns.distplot(test['len'], kde=False)"
      ],
      "metadata": {
        "id": "PpxO9Q61_GOg"
      },
      "execution_count": null,
      "outputs": []
    },
    {
      "cell_type": "code",
      "source": [
        "print(train[\"len\"].median(),\n",
        "      train[\"len\"].mean())"
      ],
      "metadata": {
        "id": "-1Z96ZxF4_nJ"
      },
      "execution_count": null,
      "outputs": []
    },
    {
      "cell_type": "code",
      "source": [
        "sns.countplot(test['h/s'])\n",
        "plt.xlabel(\"sms\")\n",
        "plt.title(\"Num of h/s\")"
      ],
      "metadata": {
        "id": "sA5-FlvkqBrv"
      },
      "execution_count": null,
      "outputs": []
    },
    {
      "cell_type": "code",
      "source": [
        "# make labels\n",
        "test_data, train_data = test[\"text\"], train[\"text\"]\n",
        "lab_enc = LabelEncoder()\n",
        "test_labels = lab_enc.fit_transform(test[\"h/s\"]).reshape(-1,1) \n",
        "train_labels = lab_enc.fit_transform(train[\"h/s\"]).reshape(-1,1)\n",
        "# 0 - ham, 1 - spam"
      ],
      "metadata": {
        "id": "sOmsDSB1vKEt"
      },
      "execution_count": null,
      "outputs": []
    },
    {
      "cell_type": "code",
      "source": [
        "train_data"
      ],
      "metadata": {
        "id": "aZjoxhq9GElb"
      },
      "execution_count": null,
      "outputs": []
    },
    {
      "cell_type": "code",
      "source": [
        "VOCAB_SIZE = 3000\n",
        "MAXLEN = 200\n",
        "\n",
        "# creat token.\n",
        "# make tokens for most popular words (count tokens VOCAB_SIZE-1)\n",
        "tok = Tokenizer(num_words=VOCAB_SIZE)\n",
        "\n",
        "# updating tokens dictionary on base of texts list\n",
        "tok.fit_on_texts(train_data)\n",
        "\n",
        "# converting each text in texts to a sequence of integers.\n",
        "train_data = tok.texts_to_sequences(train_data)\n",
        "test_data = tok.texts_to_sequences(test_data)\n"
      ],
      "metadata": {
        "id": "Tcq6Sa5G3SAN"
      },
      "execution_count": null,
      "outputs": []
    },
    {
      "cell_type": "code",
      "source": [
        "\n",
        "# if the sms is greater than MAXLEN words then trim off the extra words\n",
        "# if the sms is less than MAXLEN words add the necessary amount of 0's \n",
        "# to make it equal to MAXLEN.\n",
        "train_data = sequence.pad_sequences(train_data, MAXLEN)\n",
        "test_data = sequence.pad_sequences(test_data, MAXLEN)"
      ],
      "metadata": {
        "id": "6aqYZdxEGxTa"
      },
      "execution_count": null,
      "outputs": []
    },
    {
      "cell_type": "code",
      "source": [
        "train_data[0]"
      ],
      "metadata": {
        "id": "8yiuHiuWI2YH"
      },
      "execution_count": null,
      "outputs": []
    },
    {
      "cell_type": "code",
      "source": [
        "# creating a model\n",
        "model = tf.keras.Sequential([\n",
        "      tf.keras.layers.Embedding(VOCAB_SIZE, 64),\n",
        "      tf.keras.layers.LSTM(64),\n",
        "      tf.keras.layers.Dense(1, activation=\"sigmoid\")\n",
        "])"
      ],
      "metadata": {
        "id": "ivFoKUuJLdSk"
      },
      "execution_count": null,
      "outputs": []
    },
    {
      "cell_type": "code",
      "source": [
        "model.summary()"
      ],
      "metadata": {
        "id": "OBZOQPuEMRaD"
      },
      "execution_count": null,
      "outputs": []
    },
    {
      "cell_type": "code",
      "source": [
        "#compile the model\n",
        "model.compile(loss=\"binary_crossentropy\", optimizer=\"rmsprop\", metrics=[\"acc\"])"
      ],
      "metadata": {
        "id": "9DFUjVYoMZzA"
      },
      "execution_count": null,
      "outputs": []
    },
    {
      "cell_type": "code",
      "source": [
        "# teach the model\n",
        "history = model.fit(train_data, train_labels, batch_size=64, epochs=7, validation_split=0.2)"
      ],
      "metadata": {
        "id": "0MdF6HUo_mvF"
      },
      "execution_count": null,
      "outputs": []
    },
    {
      "cell_type": "code",
      "source": [
        "# check the model in test data\n",
        "results = model.evaluate(test_data, test_labels)\n",
        "print(f\"Loss: {results[0]}, Acc: {results[1]}\")"
      ],
      "metadata": {
        "id": "s3Lo6tcUBJ32"
      },
      "execution_count": null,
      "outputs": []
    },
    {
      "cell_type": "code",
      "execution_count": null,
      "metadata": {
        "id": "J9tD9yACG6M9"
      },
      "outputs": [],
      "source": [
        "# try our model in some text\n",
        "def predict_message(pred_text):\n",
        "  \"\"\" \n",
        "     function to predict messages based on model\n",
        "     (should return list containing prediction and label,\n",
        "     ex. [0.008318834938108921, 'ham'])\n",
        "  \"\"\"\n",
        "  tokens = tok.texts_to_sequences([pred_text])\n",
        "  encode_text = sequence.pad_sequences(tokens, MAXLEN)\n",
        "  pred = np.zeros((1,200))\n",
        "  pred[0] = encode_text\n",
        "  result = model.predict(pred) \n",
        "  f = lambda x: \"spam\" if round(x + 0.01) else \"ham\"\n",
        "  prediction = [result[0][0], f(result[0][0])]\n",
        " \n",
        "  return (prediction)\n",
        "\n",
        "pred_text = \"sale today! to stop texts call 98912460324\"\n",
        "\n",
        "prediction = predict_message(pred_text)\n",
        "print(prediction)"
      ]
    },
    {
      "cell_type": "code",
      "execution_count": null,
      "metadata": {
        "id": "Dxotov85SjsC"
      },
      "outputs": [],
      "source": [
        "# Run this cell to test your function and model. Do not modify contents.\n",
        "def test_predictions():\n",
        "  test_messages = [\"how are you doing today\",\n",
        "                   \"sale today! to stop texts call 98912460324\",\n",
        "                   \"i dont want to go. can we try it a different day? available sat\",\n",
        "                   \"our new mobile video service is live. just install on your phone to start watching.\",\n",
        "                   \"you have won £1000 cash! call to claim your prize.\",\n",
        "                   \"i'll bring it tomorrow. don't forget the milk.\",\n",
        "                   \"wow, is your arm alright. that happened to me one time too\"\n",
        "                  ]\n",
        "\n",
        "  test_answers = [\"ham\", \"spam\", \"ham\", \"spam\", \"spam\", \"ham\", \"ham\"]\n",
        "  passed = True\n",
        "\n",
        "  for msg, ans in zip(test_messages, test_answers):\n",
        "    prediction = predict_message(msg)\n",
        "    if prediction[1] != ans:\n",
        "      passed = False\n",
        "\n",
        "  if passed:\n",
        "    print(\"You passed the challenge. Great job!\")\n",
        "  else:\n",
        "    print(\"You haven't passed yet. Keep trying.\")\n",
        "\n",
        "test_predictions()\n"
      ]
    },
    {
      "cell_type": "code",
      "source": [
        ""
      ],
      "metadata": {
        "id": "z_edUrAOKwhU"
      },
      "execution_count": null,
      "outputs": []
    }
  ],
  "metadata": {
    "colab": {
      "collapsed_sections": [],
      "name": "fcc_sms_text_classification_done.ipynb",
      "private_outputs": true,
      "provenance": []
    },
    "kernelspec": {
      "display_name": "Python 3",
      "name": "python3"
    },
    "language_info": {}
  },
  "nbformat": 4,
  "nbformat_minor": 0
}